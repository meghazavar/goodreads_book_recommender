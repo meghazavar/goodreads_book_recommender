{
 "cells": [
  {
   "cell_type": "markdown",
   "metadata": {},
   "source": [
    "# what is content based  recommender\n"
   ]
  },
  {
   "cell_type": "code",
   "execution_count": 5,
   "metadata": {},
   "outputs": [],
   "source": [
    "import pandas as pd\n",
    "from sklearn.feature_extraction.text import TfidfVectorizer\n",
    "from sklearn.metrics.pairwise import cosine_similarity"
   ]
  },
  {
   "cell_type": "code",
   "execution_count": 31,
   "metadata": {},
   "outputs": [
    {
     "name": "stdout",
     "output_type": "stream",
     "text": [
      "Recommending 2 books similar to The Godfather\n",
      "----------------------------------------------------------\n",
      "You may also like to read: Desiring God: Meditations of a Christian Hedonist (score:0.0)\n",
      "You may also like to read: Consider the Lobster and Other Essays (score:0.0)\n"
     ]
    }
   ],
   "source": [
    "ds = pd.read_csv(\"../data/books.csv\") #you can plug in your own list of products or movies or books here as csv file\n",
    "tf = TfidfVectorizer(analyzer='word', ngram_range=(1, 3), min_df=0, stop_words='english')\n",
    "\n",
    "title_column = 'title'\n",
    "tfidf_matrix = tf.fit_transform(ds[title_column])\n",
    "cosine_similarities = cosine_similarity(tfidf_matrix,tfidf_matrix)\n",
    "\n",
    "results = {} # dictionary created to store the result in a dictionary format (ID : (Score,item_id))\n",
    "\n",
    "for idx, row in ds.iterrows(): #iterates through all the rows\n",
    "    # the below code 'similar_indice' stores similar ids based on cosine similarity. sorts them in ascending order. [:-5:-1] is then used so that the indices with most similarity are got. 0 means no similarity and 1 means perfect similarity\n",
    "    similar_indices = cosine_similarities[idx].argsort()[:-5:-1] #stores 5 most similar books, you can change it as per your needs\n",
    "    similar_items = [(cosine_similarities[idx][i], ds['book_id'][i]) for i in similar_indices]\n",
    "    results[row['book_id']] = similar_items[1:]\n",
    "    \n",
    "#below code 'function item(id)' returns a row matching the id along with Book Title. Initially it is a dataframe, then we convert it to a list\n",
    "def item(id):\n",
    "    return ds.loc[ds['book_id'] == id]['title'].tolist()[0]\n",
    "\n",
    "def recommend(id, num):\n",
    "    if (num == 0):\n",
    "        print(\"Unable to recommend any book as you have not chosen the number of book to be recommended\")\n",
    "    elif (num==1):\n",
    "        print(\"Recommending \" + str(num) + \" book similar to \" + item(id))\n",
    "        \n",
    "    else :\n",
    "        print(\"Recommending \" + str(num) + \" books similar to \" + item(id))\n",
    "        \n",
    "    print(\"----------------------------------------------------------\")\n",
    "    recs = results[id][:num]\n",
    "    for rec in recs:\n",
    "        print(\"You may also like to read: \" + item(rec[1]) + \" (score:\" + str(rec[0]) + \")\")\n",
    "\n",
    "#the first argument in the below function to be passed is the id of the book, second argument is the number of books you want to be recommended\n",
    "recommend(274,2)"
   ]
  },
  {
   "cell_type": "code",
   "execution_count": 30,
   "metadata": {},
   "outputs": [
    {
     "data": {
      "text/html": [
       "<div>\n",
       "<style scoped>\n",
       "    .dataframe tbody tr th:only-of-type {\n",
       "        vertical-align: middle;\n",
       "    }\n",
       "\n",
       "    .dataframe tbody tr th {\n",
       "        vertical-align: top;\n",
       "    }\n",
       "\n",
       "    .dataframe thead th {\n",
       "        text-align: right;\n",
       "    }\n",
       "</style>\n",
       "<table border=\"1\" class=\"dataframe\">\n",
       "  <thead>\n",
       "    <tr style=\"text-align: right;\">\n",
       "      <th></th>\n",
       "      <th>title</th>\n",
       "      <th>book_id</th>\n",
       "    </tr>\n",
       "  </thead>\n",
       "  <tbody>\n",
       "    <tr>\n",
       "      <th>273</th>\n",
       "      <td>The Godfather</td>\n",
       "      <td>274</td>\n",
       "    </tr>\n",
       "  </tbody>\n",
       "</table>\n",
       "</div>"
      ],
      "text/plain": [
       "             title  book_id\n",
       "273  The Godfather      274"
      ]
     },
     "execution_count": 30,
     "metadata": {},
     "output_type": "execute_result"
    }
   ],
   "source": [
    "def search_by_title(title):\n",
    "    return ds.loc[ds['title'].str.lower().str.contains(title),['title','book_id']]\n",
    "\n",
    "search_by_title('godfather')"
   ]
  },
  {
   "cell_type": "markdown",
   "metadata": {},
   "source": [
    "https://www.kaggle.com/zygmunt/goodbooks-10k#tags.csv\n",
    "\n",
    "https://www.kdnuggets.com/2019/11/content-based-recommender-using-natural-language-processing-nlp.html\n",
    "\n",
    "\n",
    "https://towardsdatascience.com/how-to-build-from-scratch-a-content-based-movie-recommender-with-natural-language-processing-25ad400eb243\n",
    "\n",
    "https://towardsdatascience.com/my-journey-to-building-book-recommendation-system-5ec959c41847\n",
    "\n",
    "\n",
    "https://www.linkedin.com/pulse/content-based-recommender-engine-under-hood-venkat-raman/"
   ]
  }
 ],
 "metadata": {
  "kernelspec": {
   "display_name": "Python 3",
   "language": "python",
   "name": "python3"
  },
  "language_info": {
   "codemirror_mode": {
    "name": "ipython",
    "version": 3
   },
   "file_extension": ".py",
   "mimetype": "text/x-python",
   "name": "python",
   "nbconvert_exporter": "python",
   "pygments_lexer": "ipython3",
   "version": "3.7.4"
  }
 },
 "nbformat": 4,
 "nbformat_minor": 2
}
