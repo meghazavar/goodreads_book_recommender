{
 "cells": [
  {
   "cell_type": "markdown",
   "metadata": {},
   "source": [
    "<img src=\"../images/content_recommender.png\" alt=\"1\"\n",
    "\ttitle=\"\" width=\"150\" height=\"100\" style=\"float:right;\" >\n",
    "<h4>Content recommender algorithms are given user preferences for items and recommend similar items based on a domain-specific notion of item similarity</h4</img>"
   ]
  },
  {
   "cell_type": "markdown",
   "metadata": {},
   "source": [
    "Compare features of products with the product user liked/purchased.\n",
    "\n",
    "1.Cosine similarites\n",
    "2. K means clustering"
   ]
  },
  {
   "cell_type": "code",
   "execution_count": 217,
   "metadata": {},
   "outputs": [],
   "source": [
    "import pandas as pd\n",
    "import numpy as np\n",
    "from sklearn.feature_extraction.text import TfidfVectorizer\n",
    "from sklearn.metrics.pairwise import cosine_similarity\n",
    "from nltk.stem import WordNetLemmatizer\n",
    "from nltk.stem.porter import PorterStemmer\n",
    "lemmatizer = WordNetLemmatizer()\n",
    "import regex as re\n"
   ]
  },
  {
   "cell_type": "code",
   "execution_count": 218,
   "metadata": {},
   "outputs": [
    {
     "data": {
      "text/plain": [
       "(9964, 12)"
      ]
     },
     "execution_count": 218,
     "metadata": {},
     "output_type": "execute_result"
    }
   ],
   "source": [
    "ds = pd.read_csv(\"../data/cleaned_books.csv\") \n",
    "ds.shape"
   ]
  },
  {
   "cell_type": "code",
   "execution_count": null,
   "metadata": {},
   "outputs": [],
   "source": [
    "ds = pd.get_dummies(ds, columns=['authors'])\n",
    "ds.head(1)"
   ]
  },
  {
   "cell_type": "code",
   "execution_count": null,
   "metadata": {},
   "outputs": [],
   "source": [
    "ds['title_description'] = ds['title'] + \" \" + ds['description']\n",
    "def create_bag_of_words(msg):\n",
    "    #1 remove anything other than alphabets\n",
    "    letters_only = re.sub(\"[^a-zA-Z]\", \" \", msg) # Remove non-letters.\n",
    "    words = letters_only.lower().split()  #Convert to lower case, split into individual words.\n",
    "    ps= PorterStemmer()\n",
    "    base_words =[ps.stem(w) for w  in words] \n",
    "    return(\" \".join(base_words))# 6. Join the words back into one string separated by space, \n",
    "ds['title_description'] = ds['title_description'].apply(create_bag_of_words)"
   ]
  },
  {
   "cell_type": "code",
   "execution_count": 223,
   "metadata": {},
   "outputs": [
    {
     "data": {
      "text/plain": [
       "(9964, 9964)"
      ]
     },
     "execution_count": 223,
     "metadata": {},
     "output_type": "execute_result"
    }
   ],
   "source": [
    "tf = TfidfVectorizer(analyzer='word', ngram_range=(1, 3), min_df=0, stop_words='english')\n",
    "tfidf_matrix = tf.fit_transform(ds['title_description'])\n",
    "cosine_similarities = cosine_similarity(tfidf_matrix,tfidf_matrix)\n",
    "cosine_similarities.shape"
   ]
  },
  {
   "cell_type": "code",
   "execution_count": 224,
   "metadata": {},
   "outputs": [
    {
     "data": {
      "text/plain": [
       "title                                  object\n",
       "book_id                                 int64\n",
       "goodreads_book_id                       int64\n",
       "original_publication_year             float64\n",
       "language_code                          object\n",
       "                                       ...   \n",
       "authors_نور عبدالمجيد                   uint8\n",
       "authors_ياسر حارب                       uint8\n",
       "authors_يوسف زيدان                      uint8\n",
       "authors_يوسف زيدان, Youssef Ziedan      uint8\n",
       "title_description                      object\n",
       "Length: 4654, dtype: object"
      ]
     },
     "execution_count": 224,
     "metadata": {},
     "output_type": "execute_result"
    }
   ],
   "source": [
    "ds.dtypes"
   ]
  },
  {
   "cell_type": "code",
   "execution_count": 225,
   "metadata": {},
   "outputs": [],
   "source": [
    "def search_by_title(title):\n",
    "    return ds.loc[ds['title'].str.lower().str.contains(title),['title','book_id']]\n",
    "\n",
    "def book_title(book_id):\n",
    "    return ds.loc[ds['book_id'] == book_id,'title'].values[0]\n",
    "\n",
    "def build_nlp_content_recommender():\n",
    "    #min_df : ignore terms that have a document frequency strictly lower than the given threshold\n",
    "    tf = TfidfVectorizer(analyzer='word', ngram_range=(1, 2), min_df=0, stop_words='english')\n",
    "    tfidf_matrix = tf.fit_transform(ds['title_description'])\n",
    "    cosine_similarities = cosine_similarity(tfidf_matrix,tfidf_matrix)\n",
    "\n",
    "def recommend_top_books(book_id, ds,cosine_similarities,n=2):\n",
    "    idx =ds.index[ds['book_id'] ==book_id].values[0]\n",
    "    \n",
    "    closet_match_indices = cosine_similarities[idx].argsort()[:-10:-1] #stores 5 most similar books\n",
    "    similar_items = [(np.round(cosine_similarities[idx][i],2), ds['book_id'][i],book_id) for i in closet_match_indices]\n",
    "    print(f\"You may also like to read: \")\n",
    "    for rec in similar_items:\n",
    "        print(f\"-> {rec[2]} {book_title(rec[1])} score: {rec[0]} \")"
   ]
  },
  {
   "cell_type": "code",
   "execution_count": 226,
   "metadata": {},
   "outputs": [],
   "source": [
    "# this takes long time to build similarity matrix\n",
    "results =build_nlp_content_recommender() "
   ]
  },
  {
   "cell_type": "code",
   "execution_count": 227,
   "metadata": {},
   "outputs": [
    {
     "name": "stdout",
     "output_type": "stream",
     "text": [
      "You may also like to read: \n",
      "-> 3275 Harry Potter Boxed Set, Books 1-5 (Harry Potter, #1-5) score: 1.0 \n",
      "-> 3275 The Harry Potter Collection 1-4 (Harry Potter, #1-4) score: 0.57 \n",
      "-> 3275 Harry Potter and the Order of the Phoenix (Harry Potter, #5, Part 1) score: 0.56 \n",
      "-> 3275 Harry Potter and the Goblet of Fire (Harry Potter, #4) score: 0.44 \n",
      "-> 3275 Harry Potter Boxset (Harry Potter, #1-7) score: 0.44 \n",
      "-> 3275 Harry Potter and the Chamber of Secrets (Harry Potter, #2) score: 0.4 \n",
      "-> 3275 Harry Potter and the Cursed Child - Parts One and Two (Harry Potter, #8) score: 0.38 \n",
      "-> 3275 Harry Potter Collection (Harry Potter, #1-6) score: 0.37 \n",
      "-> 3275 Harry Potter and the Deathly Hallows (Harry Potter, #7) score: 0.33 \n"
     ]
    }
   ],
   "source": [
    "#3275 -Harry Potter Boxed Set, Books 1-5 (Harry Potter, #1-5)score\n",
    "#8084 - Naked Economics: Undressing the Dismal Science\n",
    "#3054 -Harry Potter and the Chamber of Secrets: Sheet Music for Flute with C.Dscore\n",
    "#22\n",
    "recommend_top_books(3275,ds,cosine_similarities,10)"
   ]
  },
  {
   "cell_type": "code",
   "execution_count": 274,
   "metadata": {},
   "outputs": [
    {
     "name": "stdout",
     "output_type": "stream",
     "text": [
      "You may also like to read: \n",
      "-> 2855 #GIRLBOSS score: 1.0 \n",
      "-> 2855 الطنطورية score: 0.09 \n",
      "-> 2855 بيكاسو وستاربكس score: 0.09 \n",
      "-> 2855 ثلاثية غرناطة score: 0.09 \n",
      "-> 2855 درخت زیبای من score: 0.09 \n",
      "-> 2855 ساق البامبو score: 0.08 \n",
      "-> 2855 السنجة score: 0.08 \n",
      "-> 2855 Горе от ума score: 0.07 \n",
      "-> 2855 استمتع بحياتك score: 0.07 \n"
     ]
    }
   ],
   "source": [
    "recommend_top_books(2855,ds,cosine_similarities,10)"
   ]
  },
  {
   "cell_type": "code",
   "execution_count": 273,
   "metadata": {},
   "outputs": [
    {
     "data": {
      "text/html": [
       "<div>\n",
       "<style scoped>\n",
       "    .dataframe tbody tr th:only-of-type {\n",
       "        vertical-align: middle;\n",
       "    }\n",
       "\n",
       "    .dataframe tbody tr th {\n",
       "        vertical-align: top;\n",
       "    }\n",
       "\n",
       "    .dataframe thead th {\n",
       "        text-align: right;\n",
       "    }\n",
       "</style>\n",
       "<table border=\"1\" class=\"dataframe\">\n",
       "  <thead>\n",
       "    <tr style=\"text-align: right;\">\n",
       "      <th></th>\n",
       "      <th>title</th>\n",
       "      <th>book_id</th>\n",
       "    </tr>\n",
       "  </thead>\n",
       "  <tbody>\n",
       "    <tr>\n",
       "      <th>2</th>\n",
       "      <td>#GIRLBOSS</td>\n",
       "      <td>2855</td>\n",
       "    </tr>\n",
       "    <tr>\n",
       "      <th>152</th>\n",
       "      <td>A Girl Like You</td>\n",
       "      <td>8292</td>\n",
       "    </tr>\n",
       "    <tr>\n",
       "      <th>153</th>\n",
       "      <td>A Girl Named Zippy</td>\n",
       "      <td>3568</td>\n",
       "    </tr>\n",
       "    <tr>\n",
       "      <th>154</th>\n",
       "      <td>A Girl of the Limberlost (Limberlost, #2)</td>\n",
       "      <td>7833</td>\n",
       "    </tr>\n",
       "    <tr>\n",
       "      <th>454</th>\n",
       "      <td>All I Want is Everything (Gossip Girl, #3)</td>\n",
       "      <td>7546</td>\n",
       "    </tr>\n",
       "    <tr>\n",
       "      <th>...</th>\n",
       "      <td>...</td>\n",
       "      <td>...</td>\n",
       "    </tr>\n",
       "    <tr>\n",
       "      <th>9857</th>\n",
       "      <td>You Know You Love Me (Gossip Girl, #2)</td>\n",
       "      <td>6402</td>\n",
       "    </tr>\n",
       "    <tr>\n",
       "      <th>9865</th>\n",
       "      <td>You're the One That I Want (Gossip Girl, #6)</td>\n",
       "      <td>6391</td>\n",
       "    </tr>\n",
       "    <tr>\n",
       "      <th>9882</th>\n",
       "      <td>Zita the Spacegirl (Zita the Spacegirl, #1)</td>\n",
       "      <td>8948</td>\n",
       "    </tr>\n",
       "    <tr>\n",
       "      <th>9891</th>\n",
       "      <td>for colored girls who have considered suicide/...</td>\n",
       "      <td>3872</td>\n",
       "    </tr>\n",
       "    <tr>\n",
       "      <th>9895</th>\n",
       "      <td>ttyl (Internet Girls, #1)</td>\n",
       "      <td>8597</td>\n",
       "    </tr>\n",
       "  </tbody>\n",
       "</table>\n",
       "<p>170 rows × 2 columns</p>\n",
       "</div>"
      ],
      "text/plain": [
       "                                                  title  book_id\n",
       "2                                             #GIRLBOSS     2855\n",
       "152                                     A Girl Like You     8292\n",
       "153                                  A Girl Named Zippy     3568\n",
       "154           A Girl of the Limberlost (Limberlost, #2)     7833\n",
       "454          All I Want is Everything (Gossip Girl, #3)     7546\n",
       "...                                                 ...      ...\n",
       "9857             You Know You Love Me (Gossip Girl, #2)     6402\n",
       "9865       You're the One That I Want (Gossip Girl, #6)     6391\n",
       "9882        Zita the Spacegirl (Zita the Spacegirl, #1)     8948\n",
       "9891  for colored girls who have considered suicide/...     3872\n",
       "9895                          ttyl (Internet Girls, #1)     8597\n",
       "\n",
       "[170 rows x 2 columns]"
      ]
     },
     "execution_count": 273,
     "metadata": {},
     "output_type": "execute_result"
    }
   ],
   "source": [
    "x= search_by_title('girl')\n",
    "#ds[ds['book_id'] ==8084 ]\n",
    "x"
   ]
  },
  {
   "cell_type": "code",
   "execution_count": 243,
   "metadata": {},
   "outputs": [],
   "source": [
    "###  K means clustering\n",
    "from sklearn.cluster import KMeans\n",
    "import matplotlib.pyplot as plt\n",
    "import seaborn as sns\n",
    "from sklearn.decomposition import PCA\n",
    "from sklearn.preprocessing import StandardScaler"
   ]
  },
  {
   "cell_type": "code",
   "execution_count": 244,
   "metadata": {},
   "outputs": [],
   "source": [
    "ds['is_ebook'] = ds['is_ebook'].astype(int) "
   ]
  },
  {
   "cell_type": "code",
   "execution_count": 247,
   "metadata": {},
   "outputs": [],
   "source": [
    "#len(ds['authors'].unique())"
   ]
  },
  {
   "cell_type": "code",
   "execution_count": 248,
   "metadata": {},
   "outputs": [],
   "source": [
    "ds['original_publication_year']=ds['original_publication_year'].fillna(0)\n",
    "ds['original_publication_year'].isna().sum()\n",
    "ds['original_publication_year']= ds['original_publication_year'].astype(int)"
   ]
  },
  {
   "cell_type": "code",
   "execution_count": 249,
   "metadata": {},
   "outputs": [],
   "source": [
    "ds['title_description'] = ds['title_description'].replace({\"[^A-Za-z0-9 ]+\": \"\"}, regex=True)"
   ]
  },
  {
   "cell_type": "code",
   "execution_count": 251,
   "metadata": {},
   "outputs": [],
   "source": [
    "col_list =['num_pages', 'is_ebook', 'original_publication_year','average_rating']\n",
    "X = ds.loc[:, col_list]\n",
    "sc = StandardScaler()\n",
    "X_sc = sc.fit_transform(X)"
   ]
  },
  {
   "cell_type": "code",
   "execution_count": 252,
   "metadata": {},
   "outputs": [],
   "source": [
    "df = pd.DataFrame(X, columns= col_list)\n",
    "\n",
    "kmeans = KMeans(n_clusters=3)\n",
    "\n",
    "y = kmeans.fit_predict(X_sc)\n",
    "\n",
    "df['Cluster'] = y"
   ]
  },
  {
   "cell_type": "code",
   "execution_count": 253,
   "metadata": {},
   "outputs": [
    {
     "data": {
      "text/plain": [
       "0    9277\n",
       "1     629\n",
       "2      58\n",
       "Name: Cluster, dtype: int64"
      ]
     },
     "execution_count": 253,
     "metadata": {},
     "output_type": "execute_result"
    }
   ],
   "source": [
    "df['Cluster'].value_counts()"
   ]
  },
  {
   "cell_type": "code",
   "execution_count": 254,
   "metadata": {},
   "outputs": [
    {
     "data": {
      "text/plain": [
       "(array([[  0.017831  ,  -0.26001838,   0.06486782,  -0.01972745],\n",
       "        [ -0.24125042,   3.84588198,   0.18658096,   0.27874731],\n",
       "        [ -0.23571885,  -0.11843561, -12.39893459,   0.13240494]]),\n",
       " array([0, 0, 0, ..., 0, 0, 0], dtype=int32))"
      ]
     },
     "execution_count": 254,
     "metadata": {},
     "output_type": "execute_result"
    }
   ],
   "source": [
    "# Check out centroids\n",
    "kmeans.cluster_centers_,kmeans.labels_"
   ]
  },
  {
   "cell_type": "markdown",
   "metadata": {},
   "source": [
    "### elbow method to determine the optimal number of clusters for k-means clustering"
   ]
  },
  {
   "cell_type": "code",
   "execution_count": 255,
   "metadata": {},
   "outputs": [
    {
     "data": {
      "text/html": [
       "<div>\n",
       "<style scoped>\n",
       "    .dataframe tbody tr th:only-of-type {\n",
       "        vertical-align: middle;\n",
       "    }\n",
       "\n",
       "    .dataframe tbody tr th {\n",
       "        vertical-align: top;\n",
       "    }\n",
       "\n",
       "    .dataframe thead th {\n",
       "        text-align: right;\n",
       "    }\n",
       "</style>\n",
       "<table border=\"1\" class=\"dataframe\">\n",
       "  <thead>\n",
       "    <tr style=\"text-align: right;\">\n",
       "      <th></th>\n",
       "      <th>k</th>\n",
       "      <th>inertia</th>\n",
       "      <th>silhouette</th>\n",
       "    </tr>\n",
       "  </thead>\n",
       "  <tbody>\n",
       "    <tr>\n",
       "      <th>0</th>\n",
       "      <td>2</td>\n",
       "      <td>29783.824064</td>\n",
       "      <td>0.623431</td>\n",
       "    </tr>\n",
       "    <tr>\n",
       "      <th>1</th>\n",
       "      <td>3</td>\n",
       "      <td>20850.791845</td>\n",
       "      <td>0.639402</td>\n",
       "    </tr>\n",
       "    <tr>\n",
       "      <th>2</th>\n",
       "      <td>4</td>\n",
       "      <td>15035.474485</td>\n",
       "      <td>0.349683</td>\n",
       "    </tr>\n",
       "    <tr>\n",
       "      <th>3</th>\n",
       "      <td>5</td>\n",
       "      <td>11345.683651</td>\n",
       "      <td>0.379782</td>\n",
       "    </tr>\n",
       "    <tr>\n",
       "      <th>4</th>\n",
       "      <td>6</td>\n",
       "      <td>9651.222626</td>\n",
       "      <td>0.337371</td>\n",
       "    </tr>\n",
       "    <tr>\n",
       "      <th>5</th>\n",
       "      <td>7</td>\n",
       "      <td>8355.622660</td>\n",
       "      <td>0.330966</td>\n",
       "    </tr>\n",
       "    <tr>\n",
       "      <th>6</th>\n",
       "      <td>8</td>\n",
       "      <td>7203.939996</td>\n",
       "      <td>0.339904</td>\n",
       "    </tr>\n",
       "    <tr>\n",
       "      <th>7</th>\n",
       "      <td>9</td>\n",
       "      <td>6522.668816</td>\n",
       "      <td>0.326435</td>\n",
       "    </tr>\n",
       "    <tr>\n",
       "      <th>8</th>\n",
       "      <td>10</td>\n",
       "      <td>6020.075623</td>\n",
       "      <td>0.318374</td>\n",
       "    </tr>\n",
       "    <tr>\n",
       "      <th>9</th>\n",
       "      <td>11</td>\n",
       "      <td>5581.877014</td>\n",
       "      <td>0.325351</td>\n",
       "    </tr>\n",
       "    <tr>\n",
       "      <th>10</th>\n",
       "      <td>12</td>\n",
       "      <td>5227.551872</td>\n",
       "      <td>0.307346</td>\n",
       "    </tr>\n",
       "    <tr>\n",
       "      <th>11</th>\n",
       "      <td>13</td>\n",
       "      <td>4918.602979</td>\n",
       "      <td>0.311051</td>\n",
       "    </tr>\n",
       "    <tr>\n",
       "      <th>12</th>\n",
       "      <td>14</td>\n",
       "      <td>4684.779269</td>\n",
       "      <td>0.304411</td>\n",
       "    </tr>\n",
       "    <tr>\n",
       "      <th>13</th>\n",
       "      <td>15</td>\n",
       "      <td>4366.842688</td>\n",
       "      <td>0.298913</td>\n",
       "    </tr>\n",
       "    <tr>\n",
       "      <th>14</th>\n",
       "      <td>16</td>\n",
       "      <td>4124.448712</td>\n",
       "      <td>0.300514</td>\n",
       "    </tr>\n",
       "    <tr>\n",
       "      <th>15</th>\n",
       "      <td>17</td>\n",
       "      <td>3925.816822</td>\n",
       "      <td>0.296713</td>\n",
       "    </tr>\n",
       "    <tr>\n",
       "      <th>16</th>\n",
       "      <td>18</td>\n",
       "      <td>3717.694361</td>\n",
       "      <td>0.307963</td>\n",
       "    </tr>\n",
       "    <tr>\n",
       "      <th>17</th>\n",
       "      <td>19</td>\n",
       "      <td>3573.490544</td>\n",
       "      <td>0.300488</td>\n",
       "    </tr>\n",
       "    <tr>\n",
       "      <th>18</th>\n",
       "      <td>20</td>\n",
       "      <td>3411.963791</td>\n",
       "      <td>0.309236</td>\n",
       "    </tr>\n",
       "    <tr>\n",
       "      <th>19</th>\n",
       "      <td>21</td>\n",
       "      <td>3281.328993</td>\n",
       "      <td>0.298896</td>\n",
       "    </tr>\n",
       "    <tr>\n",
       "      <th>20</th>\n",
       "      <td>22</td>\n",
       "      <td>3169.706021</td>\n",
       "      <td>0.297910</td>\n",
       "    </tr>\n",
       "    <tr>\n",
       "      <th>21</th>\n",
       "      <td>23</td>\n",
       "      <td>3058.834931</td>\n",
       "      <td>0.295607</td>\n",
       "    </tr>\n",
       "    <tr>\n",
       "      <th>22</th>\n",
       "      <td>24</td>\n",
       "      <td>2909.409732</td>\n",
       "      <td>0.301619</td>\n",
       "    </tr>\n",
       "    <tr>\n",
       "      <th>23</th>\n",
       "      <td>25</td>\n",
       "      <td>2829.583242</td>\n",
       "      <td>0.297213</td>\n",
       "    </tr>\n",
       "    <tr>\n",
       "      <th>24</th>\n",
       "      <td>26</td>\n",
       "      <td>2732.930496</td>\n",
       "      <td>0.299651</td>\n",
       "    </tr>\n",
       "    <tr>\n",
       "      <th>25</th>\n",
       "      <td>27</td>\n",
       "      <td>2644.916212</td>\n",
       "      <td>0.300665</td>\n",
       "    </tr>\n",
       "    <tr>\n",
       "      <th>26</th>\n",
       "      <td>28</td>\n",
       "      <td>2586.712742</td>\n",
       "      <td>0.302870</td>\n",
       "    </tr>\n",
       "    <tr>\n",
       "      <th>27</th>\n",
       "      <td>29</td>\n",
       "      <td>2514.173653</td>\n",
       "      <td>0.296669</td>\n",
       "    </tr>\n",
       "    <tr>\n",
       "      <th>28</th>\n",
       "      <td>30</td>\n",
       "      <td>2438.546269</td>\n",
       "      <td>0.294253</td>\n",
       "    </tr>\n",
       "  </tbody>\n",
       "</table>\n",
       "</div>"
      ],
      "text/plain": [
       "     k       inertia  silhouette\n",
       "0    2  29783.824064    0.623431\n",
       "1    3  20850.791845    0.639402\n",
       "2    4  15035.474485    0.349683\n",
       "3    5  11345.683651    0.379782\n",
       "4    6   9651.222626    0.337371\n",
       "5    7   8355.622660    0.330966\n",
       "6    8   7203.939996    0.339904\n",
       "7    9   6522.668816    0.326435\n",
       "8   10   6020.075623    0.318374\n",
       "9   11   5581.877014    0.325351\n",
       "10  12   5227.551872    0.307346\n",
       "11  13   4918.602979    0.311051\n",
       "12  14   4684.779269    0.304411\n",
       "13  15   4366.842688    0.298913\n",
       "14  16   4124.448712    0.300514\n",
       "15  17   3925.816822    0.296713\n",
       "16  18   3717.694361    0.307963\n",
       "17  19   3573.490544    0.300488\n",
       "18  20   3411.963791    0.309236\n",
       "19  21   3281.328993    0.298896\n",
       "20  22   3169.706021    0.297910\n",
       "21  23   3058.834931    0.295607\n",
       "22  24   2909.409732    0.301619\n",
       "23  25   2829.583242    0.297213\n",
       "24  26   2732.930496    0.299651\n",
       "25  27   2644.916212    0.300665\n",
       "26  28   2586.712742    0.302870\n",
       "27  29   2514.173653    0.296669\n",
       "28  30   2438.546269    0.294253"
      ]
     },
     "execution_count": 255,
     "metadata": {},
     "output_type": "execute_result"
    },
    {
     "data": {
      "image/png": "[encoded data removed]",
      "text/plain": [
       "<Figure size 1008x504 with 2 Axes>"
      ]
     },
     "metadata": {
      "needs_background": "light"
     },
     "output_type": "display_data"
    }
   ],
   "source": [
    "#Inertia - sum of squared errors for each cluster.\n",
    "#low inertia = dense cluster\n",
    "\n",
    "#silhoutte score -measure of how far apart clusters are. high Silhouette=> well separated clusters\n",
    "def find_optimal_k(X_sc):\n",
    "    scores = []\n",
    "    for k in range(2, 31):\n",
    "        cl = KMeans(n_clusters=k)\n",
    "        cl.fit(X_sc)\n",
    "        inertia = cl.inertia_  #\n",
    "        sil = silhouette_score(X_sc, cl.labels_)\n",
    "        scores.append([k, inertia, sil])  \n",
    "    score_df = pd.DataFrame(scores)\n",
    "    score_df.columns = ['k', 'inertia', 'silhouette']\n",
    "    fig, axes = plt.subplots(1, 2, figsize=(14, 7))\n",
    "    axes[0].plot(score_df.k, score_df.inertia)\n",
    "    axes[0].set_title('Inertia over k')\n",
    "    axes[1].plot(score_df.k, score_df.silhouette);\n",
    "    axes[1].set_title('Silhouette Score over k')\n",
    "    return score_df\n",
    "\n",
    "find_optimal_k(X_sc)"
   ]
  },
  {
   "cell_type": "markdown",
   "metadata": {},
   "source": [
    " Notice how the elbow chart does not have a clear elbow. Instead, we see a fairly smooth curve, and it's unclear what is the best value of k to choose. In cases like this, we might try a different method for determining the optimal k, such as computing silhouette scores, or we might reevaluate whether clustering is the right thing to do on our data."
   ]
  },
  {
   "cell_type": "code",
   "execution_count": 256,
   "metadata": {},
   "outputs": [
    {
     "data": {
      "image/png": "[encoded data removed]",
      "text/plain": [
       "<Figure size 432x288 with 1 Axes>"
      ]
     },
     "metadata": {
      "needs_background": "light"
     },
     "output_type": "display_data"
    }
   ],
   "source": [
    "reduced_data = PCA(n_components=2).fit_transform(X_sc)\n",
    "results = pd.DataFrame(reduced_data,columns=['pca1','pca2'])\n",
    "sns.scatterplot(x=\"pca1\", y=\"pca2\", hue=df['Cluster'], data=results)\n",
    "plt.title('K-means Clustering with 2 dimensions')\n",
    "plt.show()"
   ]
  },
  {
   "cell_type": "code",
   "execution_count": 257,
   "metadata": {},
   "outputs": [],
   "source": [
    "#. Lets Apply K means clustering on the text data"
   ]
  },
  {
   "cell_type": "code",
   "execution_count": 258,
   "metadata": {},
   "outputs": [],
   "source": [
    "tf = TfidfVectorizer(analyzer='word', ngram_range=(1, 2), min_df=0, stop_words='english')\n",
    "tfidf_matrix = tf.fit_transform(ds['title_description'])\n",
    "sc = StandardScaler()\n",
    "X_sc = sc.fit_transform(X)"
   ]
  },
  {
   "cell_type": "code",
   "execution_count": 259,
   "metadata": {},
   "outputs": [],
   "source": [
    "#Choosing k = 5\n",
    "kmeans = KMeans(n_clusters=5)\n",
    "y = kmeans.fit_predict(X_sc)\n",
    "df['Cluster'] = y"
   ]
  },
  {
   "cell_type": "code",
   "execution_count": 260,
   "metadata": {},
   "outputs": [
    {
     "data": {
      "text/plain": [
       "3    4823\n",
       "1    3720\n",
       "0     739\n",
       "2     625\n",
       "4      57\n",
       "Name: Cluster, dtype: int64"
      ]
     },
     "execution_count": 260,
     "metadata": {},
     "output_type": "execute_result"
    }
   ],
   "source": [
    "df['Cluster'].value_counts()"
   ]
  },
  {
   "cell_type": "code",
   "execution_count": 261,
   "metadata": {},
   "outputs": [
    {
     "data": {
      "text/html": [
       "<div>\n",
       "<style scoped>\n",
       "    .dataframe tbody tr th:only-of-type {\n",
       "        vertical-align: middle;\n",
       "    }\n",
       "\n",
       "    .dataframe tbody tr th {\n",
       "        vertical-align: top;\n",
       "    }\n",
       "\n",
       "    .dataframe thead th {\n",
       "        text-align: right;\n",
       "    }\n",
       "</style>\n",
       "<table border=\"1\" class=\"dataframe\">\n",
       "  <thead>\n",
       "    <tr style=\"text-align: right;\">\n",
       "      <th></th>\n",
       "      <th>k</th>\n",
       "      <th>inertia</th>\n",
       "      <th>silhouette</th>\n",
       "    </tr>\n",
       "  </thead>\n",
       "  <tbody>\n",
       "    <tr>\n",
       "      <th>0</th>\n",
       "      <td>2</td>\n",
       "      <td>29783.824064</td>\n",
       "      <td>0.623431</td>\n",
       "    </tr>\n",
       "    <tr>\n",
       "      <th>1</th>\n",
       "      <td>3</td>\n",
       "      <td>20850.791845</td>\n",
       "      <td>0.639402</td>\n",
       "    </tr>\n",
       "    <tr>\n",
       "      <th>2</th>\n",
       "      <td>4</td>\n",
       "      <td>15035.413959</td>\n",
       "      <td>0.349736</td>\n",
       "    </tr>\n",
       "    <tr>\n",
       "      <th>3</th>\n",
       "      <td>5</td>\n",
       "      <td>11345.877084</td>\n",
       "      <td>0.379947</td>\n",
       "    </tr>\n",
       "    <tr>\n",
       "      <th>4</th>\n",
       "      <td>6</td>\n",
       "      <td>9649.978142</td>\n",
       "      <td>0.336487</td>\n",
       "    </tr>\n",
       "    <tr>\n",
       "      <th>5</th>\n",
       "      <td>7</td>\n",
       "      <td>8356.263953</td>\n",
       "      <td>0.329808</td>\n",
       "    </tr>\n",
       "    <tr>\n",
       "      <th>6</th>\n",
       "      <td>8</td>\n",
       "      <td>7203.934150</td>\n",
       "      <td>0.339904</td>\n",
       "    </tr>\n",
       "    <tr>\n",
       "      <th>7</th>\n",
       "      <td>9</td>\n",
       "      <td>6523.754114</td>\n",
       "      <td>0.325970</td>\n",
       "    </tr>\n",
       "    <tr>\n",
       "      <th>8</th>\n",
       "      <td>10</td>\n",
       "      <td>6020.069268</td>\n",
       "      <td>0.318374</td>\n",
       "    </tr>\n",
       "    <tr>\n",
       "      <th>9</th>\n",
       "      <td>11</td>\n",
       "      <td>5581.897632</td>\n",
       "      <td>0.325334</td>\n",
       "    </tr>\n",
       "    <tr>\n",
       "      <th>10</th>\n",
       "      <td>12</td>\n",
       "      <td>5226.502341</td>\n",
       "      <td>0.306902</td>\n",
       "    </tr>\n",
       "    <tr>\n",
       "      <th>11</th>\n",
       "      <td>13</td>\n",
       "      <td>4916.836552</td>\n",
       "      <td>0.310907</td>\n",
       "    </tr>\n",
       "    <tr>\n",
       "      <th>12</th>\n",
       "      <td>14</td>\n",
       "      <td>4637.427227</td>\n",
       "      <td>0.295292</td>\n",
       "    </tr>\n",
       "    <tr>\n",
       "      <th>13</th>\n",
       "      <td>15</td>\n",
       "      <td>4367.869437</td>\n",
       "      <td>0.299235</td>\n",
       "    </tr>\n",
       "    <tr>\n",
       "      <th>14</th>\n",
       "      <td>16</td>\n",
       "      <td>4155.889612</td>\n",
       "      <td>0.304593</td>\n",
       "    </tr>\n",
       "    <tr>\n",
       "      <th>15</th>\n",
       "      <td>17</td>\n",
       "      <td>3898.698991</td>\n",
       "      <td>0.305438</td>\n",
       "    </tr>\n",
       "    <tr>\n",
       "      <th>16</th>\n",
       "      <td>18</td>\n",
       "      <td>3727.864446</td>\n",
       "      <td>0.304353</td>\n",
       "    </tr>\n",
       "    <tr>\n",
       "      <th>17</th>\n",
       "      <td>19</td>\n",
       "      <td>3560.160612</td>\n",
       "      <td>0.310168</td>\n",
       "    </tr>\n",
       "    <tr>\n",
       "      <th>18</th>\n",
       "      <td>20</td>\n",
       "      <td>3408.878746</td>\n",
       "      <td>0.309950</td>\n",
       "    </tr>\n",
       "    <tr>\n",
       "      <th>19</th>\n",
       "      <td>21</td>\n",
       "      <td>3256.478800</td>\n",
       "      <td>0.308853</td>\n",
       "    </tr>\n",
       "    <tr>\n",
       "      <th>20</th>\n",
       "      <td>22</td>\n",
       "      <td>3153.426488</td>\n",
       "      <td>0.302572</td>\n",
       "    </tr>\n",
       "    <tr>\n",
       "      <th>21</th>\n",
       "      <td>23</td>\n",
       "      <td>3054.340285</td>\n",
       "      <td>0.299398</td>\n",
       "    </tr>\n",
       "    <tr>\n",
       "      <th>22</th>\n",
       "      <td>24</td>\n",
       "      <td>2905.589156</td>\n",
       "      <td>0.299963</td>\n",
       "    </tr>\n",
       "    <tr>\n",
       "      <th>23</th>\n",
       "      <td>25</td>\n",
       "      <td>2835.870911</td>\n",
       "      <td>0.301592</td>\n",
       "    </tr>\n",
       "    <tr>\n",
       "      <th>24</th>\n",
       "      <td>26</td>\n",
       "      <td>2729.856596</td>\n",
       "      <td>0.300375</td>\n",
       "    </tr>\n",
       "    <tr>\n",
       "      <th>25</th>\n",
       "      <td>27</td>\n",
       "      <td>2643.587901</td>\n",
       "      <td>0.302286</td>\n",
       "    </tr>\n",
       "    <tr>\n",
       "      <th>26</th>\n",
       "      <td>28</td>\n",
       "      <td>2579.210236</td>\n",
       "      <td>0.292731</td>\n",
       "    </tr>\n",
       "    <tr>\n",
       "      <th>27</th>\n",
       "      <td>29</td>\n",
       "      <td>2509.115178</td>\n",
       "      <td>0.304002</td>\n",
       "    </tr>\n",
       "    <tr>\n",
       "      <th>28</th>\n",
       "      <td>30</td>\n",
       "      <td>2439.283980</td>\n",
       "      <td>0.298802</td>\n",
       "    </tr>\n",
       "  </tbody>\n",
       "</table>\n",
       "</div>"
      ],
      "text/plain": [
       "     k       inertia  silhouette\n",
       "0    2  29783.824064    0.623431\n",
       "1    3  20850.791845    0.639402\n",
       "2    4  15035.413959    0.349736\n",
       "3    5  11345.877084    0.379947\n",
       "4    6   9649.978142    0.336487\n",
       "5    7   8356.263953    0.329808\n",
       "6    8   7203.934150    0.339904\n",
       "7    9   6523.754114    0.325970\n",
       "8   10   6020.069268    0.318374\n",
       "9   11   5581.897632    0.325334\n",
       "10  12   5226.502341    0.306902\n",
       "11  13   4916.836552    0.310907\n",
       "12  14   4637.427227    0.295292\n",
       "13  15   4367.869437    0.299235\n",
       "14  16   4155.889612    0.304593\n",
       "15  17   3898.698991    0.305438\n",
       "16  18   3727.864446    0.304353\n",
       "17  19   3560.160612    0.310168\n",
       "18  20   3408.878746    0.309950\n",
       "19  21   3256.478800    0.308853\n",
       "20  22   3153.426488    0.302572\n",
       "21  23   3054.340285    0.299398\n",
       "22  24   2905.589156    0.299963\n",
       "23  25   2835.870911    0.301592\n",
       "24  26   2729.856596    0.300375\n",
       "25  27   2643.587901    0.302286\n",
       "26  28   2579.210236    0.292731\n",
       "27  29   2509.115178    0.304002\n",
       "28  30   2439.283980    0.298802"
      ]
     },
     "execution_count": 261,
     "metadata": {},
     "output_type": "execute_result"
    },
    {
     "data": {
      "image/png": "[encoded data removed]",
      "text/plain": [
       "<Figure size 1008x504 with 2 Axes>"
      ]
     },
     "metadata": {
      "needs_background": "light"
     },
     "output_type": "display_data"
    }
   ],
   "source": [
    "find_optimal_k(X_sc)"
   ]
  },
  {
   "cell_type": "code",
   "execution_count": 264,
   "metadata": {},
   "outputs": [
    {
     "data": {
      "image/png": "[encoded data removed]",
      "text/plain": [
       "<Figure size 432x288 with 1 Axes>"
      ]
     },
     "metadata": {
      "needs_background": "light"
     },
     "output_type": "display_data"
    }
   ],
   "source": [
    "reduced_data = PCA(n_components=2).fit_transform(X_sc)\n",
    "results = pd.DataFrame(reduced_data,columns=['pca1','pca2'])\n",
    "\n",
    "sns.scatterplot(x=\"pca1\", y=\"pca2\", hue=df['Cluster'], data=results)\n",
    "plt.title('K-means Clustering with 2 dimensions')\n",
    "plt.show()"
   ]
  },
  {
   "cell_type": "code",
   "execution_count": 265,
   "metadata": {},
   "outputs": [],
   "source": [
    "from sklearn.preprocessing import OneHotEncoder\n",
    "from sklearn.compose import ColumnTransformer"
   ]
  },
  {
   "cell_type": "code",
   "execution_count": 266,
   "metadata": {},
   "outputs": [],
   "source": [
    "preprocess = ColumnTransformer(\n",
    "    [\n",
    "     ('authors', OneHotEncoder(dtype='int', handle_unknown='ignore'), ['authors']),\n",
    "     ('title_description', TfidfVectorizer(analyzer='word', ngram_range=(1, 2), min_df=0, stop_words='english'), 'title_description'),\n",
    "    ],\n",
    "    remainder='passthrough')"
   ]
  },
  {
   "cell_type": "code",
   "execution_count": 268,
   "metadata": {},
   "outputs": [],
   "source": [
    "kmeans = KMeans(n_clusters=5)\n",
    "y = kmeans.fit_predict(X_sc)\n",
    "ds['Cluster'] = y"
   ]
  },
  {
   "cell_type": "code",
   "execution_count": 269,
   "metadata": {},
   "outputs": [
    {
     "data": {
      "text/html": [
       "<div>\n",
       "<style scoped>\n",
       "    .dataframe tbody tr th:only-of-type {\n",
       "        vertical-align: middle;\n",
       "    }\n",
       "\n",
       "    .dataframe tbody tr th {\n",
       "        vertical-align: top;\n",
       "    }\n",
       "\n",
       "    .dataframe thead th {\n",
       "        text-align: right;\n",
       "    }\n",
       "</style>\n",
       "<table border=\"1\" class=\"dataframe\">\n",
       "  <thead>\n",
       "    <tr style=\"text-align: right;\">\n",
       "      <th></th>\n",
       "      <th>title</th>\n",
       "      <th>book_id</th>\n",
       "      <th>goodreads_book_id</th>\n",
       "      <th>original_publication_year</th>\n",
       "      <th>language_code</th>\n",
       "      <th>average_rating</th>\n",
       "      <th>ratings_count</th>\n",
       "      <th>description</th>\n",
       "      <th>num_pages</th>\n",
       "      <th>is_ebook</th>\n",
       "      <th>...</th>\n",
       "      <th>authors_4633</th>\n",
       "      <th>authors_4634</th>\n",
       "      <th>authors_4635</th>\n",
       "      <th>authors_4636</th>\n",
       "      <th>authors_4637</th>\n",
       "      <th>authors_4638</th>\n",
       "      <th>authors_4639</th>\n",
       "      <th>authors_4640</th>\n",
       "      <th>authors_4641</th>\n",
       "      <th>Cluster</th>\n",
       "    </tr>\n",
       "  </thead>\n",
       "  <tbody>\n",
       "    <tr>\n",
       "      <th>5</th>\n",
       "      <td>1,000 Places to See Before You Die</td>\n",
       "      <td>2618</td>\n",
       "      <td>11525</td>\n",
       "      <td>2003.0</td>\n",
       "      <td>NaN</td>\n",
       "      <td>3.83</td>\n",
       "      <td>33025</td>\n",
       "      <td>Around the World, continent by continent, here...</td>\n",
       "      <td>992.0</td>\n",
       "      <td>False</td>\n",
       "      <td>...</td>\n",
       "      <td>0</td>\n",
       "      <td>0</td>\n",
       "      <td>0</td>\n",
       "      <td>0</td>\n",
       "      <td>0</td>\n",
       "      <td>0</td>\n",
       "      <td>0</td>\n",
       "      <td>0</td>\n",
       "      <td>0</td>\n",
       "      <td>3</td>\n",
       "    </tr>\n",
       "  </tbody>\n",
       "</table>\n",
       "<p>1 rows × 4654 columns</p>\n",
       "</div>"
      ],
      "text/plain": [
       "                                title  book_id  goodreads_book_id  \\\n",
       "5  1,000 Places to See Before You Die     2618              11525   \n",
       "\n",
       "   original_publication_year language_code  average_rating  ratings_count  \\\n",
       "5                     2003.0           NaN            3.83          33025   \n",
       "\n",
       "                                         description  num_pages  is_ebook  \\\n",
       "5  Around the World, continent by continent, here...      992.0     False   \n",
       "\n",
       "   ... authors_4633  authors_4634  authors_4635  authors_4636  authors_4637  \\\n",
       "5  ...            0             0             0             0             0   \n",
       "\n",
       "   authors_4638  authors_4639  authors_4640  authors_4641  Cluster  \n",
       "5             0             0             0             0        3  \n",
       "\n",
       "[1 rows x 4654 columns]"
      ]
     },
     "execution_count": 269,
     "metadata": {},
     "output_type": "execute_result"
    }
   ],
   "source": [
    "\n",
    "cluster_df.head(1)"
   ]
  },
  {
   "cell_type": "code",
   "execution_count": 270,
   "metadata": {},
   "outputs": [],
   "source": [
    "    c= ds.loc[ds['book_id'] ==3275,'Cluster'].values[0]"
   ]
  },
  {
   "cell_type": "code",
   "execution_count": null,
   "metadata": {},
   "outputs": [],
   "source": [
    "    c= ds.loc[ds['book_id'] ==3275,'Cluster'].values[0]"
   ]
  },
  {
   "cell_type": "code",
   "execution_count": 275,
   "metadata": {},
   "outputs": [
    {
     "name": "stdout",
     "output_type": "stream",
     "text": [
      "cluster for 2855 is 1  3729\n",
      "You may also like to read: \n",
      "-> 2855 #GIRLBOSS score: 1.0 \n",
      "-> 2855 La Dame aux Camélias score: 0.1 \n",
      "-> 2855 L is for Lawless (Kinsey Millhone, #12) score: 0.09 \n",
      "-> 2855 Lady Audley's Secret score: 0.07 \n"
     ]
    }
   ],
   "source": [
    "def recommend_top_books_incluster(book_id, ds,n=2):\n",
    "    c = ds.loc[ds['book_id'] ==book_id,'Cluster'].values[0]\n",
    "    cluster_df = ds[ds['Cluster']==c]\n",
    "    cluster_df.reset_index(inplace=True)\n",
    "    print(f\"cluster for {book_id} is {c}  {len(cluster_df['title_description'])}\")\n",
    "    \n",
    "    tf = TfidfVectorizer(analyzer='word', ngram_range=(1, 3), min_df=0, stop_words='english')\n",
    "    tfidf_matrix = tf.fit_transform(cluster_df['title_description'])\n",
    "    \n",
    "    cosine_similarities = cosine_similarity(tfidf_matrix,tfidf_matrix)\n",
    "    idx =cluster_df.index[cluster_df['book_id'] ==book_id].values[0]\n",
    "    \n",
    "    closet_match_indices = cosine_similarities[idx].argsort()[:-5:-1] \n",
    "\n",
    "    similar_items = [(np.round(cosine_similarities[idx][i],2), ds['book_id'][i],book_id) for i in closet_match_indices]\n",
    "    print(f\"You may also like to read: \")\n",
    "    for rec in similar_items:\n",
    "        print(f\"-> {rec[2]} {book_title(rec[1])} score: {rec[0]} \")\n",
    "        \n",
    "recommend_top_books_incluster(2855,ds)\n"
   ]
  },
  {
   "cell_type": "code",
   "execution_count": 349,
   "metadata": {},
   "outputs": [],
   "source": [
    "#https://datascience.stackexchange.com/questions/48693/perform-k-means-clustering-over-multiple-columns\n",
    "https://www.kaggle.com/zygmunt/goodbooks-10k#tags.csv\n",
    "\n",
    "https://www.kdnuggets.com/2019/11/content-based-recommender-using-natural-language-processing-nlp.html\n",
    "\n",
    "\n",
    "https://towardsdatascience.com/how-to-build-from-scratch-a-content-based-movie-recommender-with-natural-language-processing-25ad400eb243\n",
    "\n",
    "https://towardsdatascience.com/my-journey-to-building-book-recommendation-system-5ec959c41847\n",
    "\n",
    "\n",
    "https://www.linkedin.com/pulse/content-based-recommender-engine-under-hood-venkat-raman/"
   ]
  },
  {
   "cell_type": "code",
   "execution_count": null,
   "metadata": {},
   "outputs": [],
   "source": [
    "    tf = TfidfVectorizer(analyzer='word', ngram_range=(1, 2), min_df=0, stop_words='english')\n",
    "    tfidf_matrix = tf.fit_transform(ds['title_description'])\n",
    "    cosine_similarities = cosine_similarity(tfidf_matrix,tfidf_matrix)"
   ]
  }
 ],
 "metadata": {
  "kernelspec": {
   "display_name": "Python 3",
   "language": "python",
   "name": "python3"
  },
  "language_info": {
   "codemirror_mode": {
    "name": "ipython",
    "version": 3
   },
   "file_extension": ".py",
   "mimetype": "text/x-python",
   "name": "python",
   "nbconvert_exporter": "python",
   "pygments_lexer": "ipython3",
   "version": "3.7.4"
  }
 },
 "nbformat": 4,
 "nbformat_minor": 2
}
