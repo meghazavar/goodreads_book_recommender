{
 "cells": [
  {
   "cell_type": "markdown",
   "metadata": {},
   "source": [
    "#  Installing and importing packages"
   ]
  },
  {
   "cell_type": "code",
   "execution_count": 1,
   "metadata": {},
   "outputs": [
    {
     "name": "stdout",
     "output_type": "stream",
     "text": [
      "Requirement already satisfied: betterreads in /Users/mybiyani/opt/anaconda3/lib/python3.7/site-packages (0.4.2)\n",
      "Requirement already satisfied: xmltodict in /Users/mybiyani/opt/anaconda3/lib/python3.7/site-packages/xmltodict-0.12.0-py3.7.egg (from betterreads) (0.12.0)\n",
      "Requirement already satisfied: backports-datetime-fromisoformat in /Users/mybiyani/opt/anaconda3/lib/python3.7/site-packages (from betterreads) (1.0.0)\n",
      "Requirement already satisfied: rauth in /Users/mybiyani/opt/anaconda3/lib/python3.7/site-packages/rauth-0.7.3-py3.7.egg (from betterreads) (0.7.3)\n",
      "Requirement already satisfied: requests in /Users/mybiyani/opt/anaconda3/lib/python3.7/site-packages (from betterreads) (2.22.0)\n",
      "Requirement already satisfied: chardet<3.1.0,>=3.0.2 in /Users/mybiyani/opt/anaconda3/lib/python3.7/site-packages (from requests->betterreads) (3.0.4)\n",
      "Requirement already satisfied: urllib3!=1.25.0,!=1.25.1,<1.26,>=1.21.1 in /Users/mybiyani/opt/anaconda3/lib/python3.7/site-packages (from requests->betterreads) (1.24.2)\n",
      "Requirement already satisfied: certifi>=2017.4.17 in /Users/mybiyani/opt/anaconda3/lib/python3.7/site-packages (from requests->betterreads) (2019.9.11)\n",
      "Requirement already satisfied: idna<2.9,>=2.5 in /Users/mybiyani/opt/anaconda3/lib/python3.7/site-packages (from requests->betterreads) (2.8)\n",
      "Note: you may need to restart the kernel to use updated packages.\n"
     ]
    }
   ],
   "source": [
    "pip install betterreads"
   ]
  },
  {
   "cell_type": "code",
   "execution_count": 2,
   "metadata": {},
   "outputs": [
    {
     "name": "stdout",
     "output_type": "stream",
     "text": [
      "Gathering data... \n",
      "[   20.    21.    22. ...  9998.  9999. 10000.]\n",
      "getting 10 out of missing 9981 descriptions\n",
      "20.0,Mockingjay (The Hunger Games, #3)\n",
      "saving the results to the file....\n",
      "21.0,Harry Potter and the Order of the Phoenix (Harry Potter, #5)\n",
      "22.0,The Lovely Bones\n",
      "23.0,Harry Potter and the Chamber of Secrets (Harry Potter, #2)\n",
      "24.0,Harry Potter and the Goblet of Fire (Harry Potter, #4)\n",
      "25.0,Harry Potter and the Deathly Hallows (Harry Potter, #7)\n",
      "26.0,The Da Vinci Code (Robert Langdon, #2)\n",
      "27.0,Harry Potter and the Half-Blood Prince (Harry Potter, #6)\n",
      "28.0,Lord of the Flies\n",
      "29.0,Romeo and Juliet\n"
     ]
    }
   ],
   "source": [
    "import pandas as pd\n",
    "import numpy as np\n",
    "from betterreads import client\n",
    "from goodreads_data_gather import helper"
   ]
  },
  {
   "cell_type": "markdown",
   "metadata": {},
   "source": [
    "# Data Gathering"
   ]
  },
  {
   "cell_type": "code",
   "execution_count": 3,
   "metadata": {},
   "outputs": [
    {
     "name": "stdout",
     "output_type": "stream",
     "text": [
      "Gathering data... \n"
     ]
    }
   ],
   "source": [
    "h = helper()"
   ]
  },
  {
   "cell_type": "code",
   "execution_count": 4,
   "metadata": {},
   "outputs": [],
   "source": [
    "### Note : Only run this very first run so we can get the orginal books set"
   ]
  },
  {
   "cell_type": "code",
   "execution_count": 5,
   "metadata": {},
   "outputs": [
    {
     "name": "stdout",
     "output_type": "stream",
     "text": [
      "shape of the books dataframe is (10000, 23)\n"
     ]
    },
    {
     "data": {
      "text/plain": [
       "Index(['book_id', 'goodreads_book_id', 'best_book_id', 'work_id',\n",
       "       'books_count', 'isbn', 'isbn13', 'authors', 'original_publication_year',\n",
       "       'original_title', 'title', 'language_code', 'average_rating',\n",
       "       'ratings_count', 'work_ratings_count', 'work_text_reviews_count',\n",
       "       'ratings_1', 'ratings_2', 'ratings_3', 'ratings_4', 'ratings_5',\n",
       "       'image_url', 'small_image_url', 'description', 'num_pages', 'e_book'],\n",
       "      dtype='object')"
      ]
     },
     "execution_count": 5,
     "metadata": {},
     "output_type": "execute_result"
    }
   ],
   "source": [
    "books = pd.read_csv('../data/books.csv')\n",
    "print( f\"shape of the books dataframe is {books.shape}\")\n",
    "#We are going to add. 3 more columns and populate them using the GoodReads client\n",
    "books['description'] =np.nan\n",
    "books['num_pages'] =0\n",
    "books['e_book'] =False\n",
    "books.to_csv(\"../data/books_desc.csv\", index=False)\n",
    "books.columns"
   ]
  },
  {
   "cell_type": "code",
   "execution_count": 6,
   "metadata": {},
   "outputs": [
    {
     "name": "stdout",
     "output_type": "stream",
     "text": [
      "shape of the ratings dataframe is (5976479, 3)\n",
      "shape of the books_tags dataframe is (999912, 3)\n",
      "shape of the tags dataframe is (34252, 2)\n"
     ]
    },
    {
     "data": {
      "text/html": [
       "<div>\n",
       "<style scoped>\n",
       "    .dataframe tbody tr th:only-of-type {\n",
       "        vertical-align: middle;\n",
       "    }\n",
       "\n",
       "    .dataframe tbody tr th {\n",
       "        vertical-align: top;\n",
       "    }\n",
       "\n",
       "    .dataframe thead th {\n",
       "        text-align: right;\n",
       "    }\n",
       "</style>\n",
       "<table border=\"1\" class=\"dataframe\">\n",
       "  <thead>\n",
       "    <tr style=\"text-align: right;\">\n",
       "      <th></th>\n",
       "      <th>book_id</th>\n",
       "      <th>goodreads_book_id</th>\n",
       "      <th>best_book_id</th>\n",
       "      <th>work_id</th>\n",
       "      <th>books_count</th>\n",
       "      <th>isbn</th>\n",
       "      <th>isbn13</th>\n",
       "      <th>authors</th>\n",
       "      <th>original_publication_year</th>\n",
       "      <th>original_title</th>\n",
       "      <th>...</th>\n",
       "      <th>ratings_1</th>\n",
       "      <th>ratings_2</th>\n",
       "      <th>ratings_3</th>\n",
       "      <th>ratings_4</th>\n",
       "      <th>ratings_5</th>\n",
       "      <th>image_url</th>\n",
       "      <th>small_image_url</th>\n",
       "      <th>description</th>\n",
       "      <th>num_pages</th>\n",
       "      <th>e_book</th>\n",
       "    </tr>\n",
       "  </thead>\n",
       "  <tbody>\n",
       "    <tr>\n",
       "      <th>0</th>\n",
       "      <td>1</td>\n",
       "      <td>2767052</td>\n",
       "      <td>2767052</td>\n",
       "      <td>2792775</td>\n",
       "      <td>272</td>\n",
       "      <td>439023483</td>\n",
       "      <td>9.780439e+12</td>\n",
       "      <td>Suzanne Collins</td>\n",
       "      <td>2008.0</td>\n",
       "      <td>The Hunger Games</td>\n",
       "      <td>...</td>\n",
       "      <td>66715</td>\n",
       "      <td>127936</td>\n",
       "      <td>560092</td>\n",
       "      <td>1481305</td>\n",
       "      <td>2706317</td>\n",
       "      <td>https://images.gr-assets.com/books/1447303603m...</td>\n",
       "      <td>https://images.gr-assets.com/books/1447303603s...</td>\n",
       "      <td>NaN</td>\n",
       "      <td>0</td>\n",
       "      <td>False</td>\n",
       "    </tr>\n",
       "  </tbody>\n",
       "</table>\n",
       "<p>1 rows × 26 columns</p>\n",
       "</div>"
      ],
      "text/plain": [
       "   book_id  goodreads_book_id  best_book_id  work_id  books_count       isbn  \\\n",
       "0        1            2767052       2767052  2792775          272  439023483   \n",
       "\n",
       "         isbn13          authors  original_publication_year    original_title  \\\n",
       "0  9.780439e+12  Suzanne Collins                     2008.0  The Hunger Games   \n",
       "\n",
       "   ... ratings_1 ratings_2  ratings_3  ratings_4  ratings_5  \\\n",
       "0  ...     66715    127936     560092    1481305    2706317   \n",
       "\n",
       "                                           image_url  \\\n",
       "0  https://images.gr-assets.com/books/1447303603m...   \n",
       "\n",
       "                                     small_image_url  description  num_pages  \\\n",
       "0  https://images.gr-assets.com/books/1447303603s...          NaN          0   \n",
       "\n",
       "   e_book  \n",
       "0   False  \n",
       "\n",
       "[1 rows x 26 columns]"
      ]
     },
     "execution_count": 6,
     "metadata": {},
     "output_type": "execute_result"
    }
   ],
   "source": [
    "books =pd.read_csv(\"../data/books_desc.csv\")\n",
    "\n",
    "ratings = pd.read_csv(\"../data/ratings.csv\")\n",
    "print( f\"shape of the ratings dataframe is {ratings.shape}\")\n",
    "\n",
    "book_tags = pd.read_csv(\"../data/book_tags.csv\")\n",
    "print( f\"shape of the books_tags dataframe is {book_tags.shape}\")\n",
    "\n",
    "tags = pd.read_csv(\"../data/tags.csv\")\n",
    "print( f\"shape of the tags dataframe is {tags.shape}\")\n",
    "\n",
    "### Combining booktag ids with the actual names\n",
    "pd.merge(left=book_tags,right =tags, how =\"left\", on ='tag_id')\n",
    "book_tags.to_csv(\"../data/book_tags_combined\",index =False)\n",
    "book_tags = pd.read_csv(\"../data/book_tags_combined.csv\")\n",
    "books.head(1)"
   ]
  },
  {
   "cell_type": "code",
   "execution_count": 7,
   "metadata": {},
   "outputs": [
    {
     "data": {
      "text/html": [
       "<div>\n",
       "<style scoped>\n",
       "    .dataframe tbody tr th:only-of-type {\n",
       "        vertical-align: middle;\n",
       "    }\n",
       "\n",
       "    .dataframe tbody tr th {\n",
       "        vertical-align: top;\n",
       "    }\n",
       "\n",
       "    .dataframe thead th {\n",
       "        text-align: right;\n",
       "    }\n",
       "</style>\n",
       "<table border=\"1\" class=\"dataframe\">\n",
       "  <thead>\n",
       "    <tr style=\"text-align: right;\">\n",
       "      <th></th>\n",
       "      <th>tag_id</th>\n",
       "      <th>tag_name</th>\n",
       "    </tr>\n",
       "  </thead>\n",
       "  <tbody>\n",
       "    <tr>\n",
       "      <th>0</th>\n",
       "      <td>0</td>\n",
       "      <td>-</td>\n",
       "    </tr>\n",
       "  </tbody>\n",
       "</table>\n",
       "</div>"
      ],
      "text/plain": [
       "   tag_id tag_name\n",
       "0       0        -"
      ]
     },
     "execution_count": 7,
     "metadata": {},
     "output_type": "execute_result"
    }
   ],
   "source": [
    "tags.head(1)"
   ]
  },
  {
   "cell_type": "code",
   "execution_count": 8,
   "metadata": {},
   "outputs": [
    {
     "data": {
      "text/html": [
       "<div>\n",
       "<style scoped>\n",
       "    .dataframe tbody tr th:only-of-type {\n",
       "        vertical-align: middle;\n",
       "    }\n",
       "\n",
       "    .dataframe tbody tr th {\n",
       "        vertical-align: top;\n",
       "    }\n",
       "\n",
       "    .dataframe thead th {\n",
       "        text-align: right;\n",
       "    }\n",
       "</style>\n",
       "<table border=\"1\" class=\"dataframe\">\n",
       "  <thead>\n",
       "    <tr style=\"text-align: right;\">\n",
       "      <th></th>\n",
       "      <th>goodreads_book_id</th>\n",
       "      <th>tag_id</th>\n",
       "      <th>count</th>\n",
       "    </tr>\n",
       "  </thead>\n",
       "  <tbody>\n",
       "    <tr>\n",
       "      <th>0</th>\n",
       "      <td>1</td>\n",
       "      <td>30574</td>\n",
       "      <td>167697</td>\n",
       "    </tr>\n",
       "  </tbody>\n",
       "</table>\n",
       "</div>"
      ],
      "text/plain": [
       "   goodreads_book_id  tag_id   count\n",
       "0                  1   30574  167697"
      ]
     },
     "execution_count": 8,
     "metadata": {},
     "output_type": "execute_result"
    }
   ],
   "source": [
    "book_tags.head(1)"
   ]
  },
  {
   "cell_type": "code",
   "execution_count": 9,
   "metadata": {},
   "outputs": [
    {
     "data": {
      "text/html": [
       "<div>\n",
       "<style scoped>\n",
       "    .dataframe tbody tr th:only-of-type {\n",
       "        vertical-align: middle;\n",
       "    }\n",
       "\n",
       "    .dataframe tbody tr th {\n",
       "        vertical-align: top;\n",
       "    }\n",
       "\n",
       "    .dataframe thead th {\n",
       "        text-align: right;\n",
       "    }\n",
       "</style>\n",
       "<table border=\"1\" class=\"dataframe\">\n",
       "  <thead>\n",
       "    <tr style=\"text-align: right;\">\n",
       "      <th></th>\n",
       "      <th>user_id</th>\n",
       "      <th>book_id</th>\n",
       "      <th>rating</th>\n",
       "    </tr>\n",
       "  </thead>\n",
       "  <tbody>\n",
       "    <tr>\n",
       "      <th>0</th>\n",
       "      <td>1</td>\n",
       "      <td>258</td>\n",
       "      <td>5</td>\n",
       "    </tr>\n",
       "  </tbody>\n",
       "</table>\n",
       "</div>"
      ],
      "text/plain": [
       "   user_id  book_id  rating\n",
       "0        1      258       5"
      ]
     },
     "execution_count": 9,
     "metadata": {},
     "output_type": "execute_result"
    }
   ],
   "source": [
    "ratings.head(1)"
   ]
  },
  {
   "cell_type": "code",
   "execution_count": 10,
   "metadata": {},
   "outputs": [],
   "source": [
    "### We are going to populate description , num_of_pages and is_ebook from goodreads Api"
   ]
  },
  {
   "cell_type": "code",
   "execution_count": 11,
   "metadata": {},
   "outputs": [
    {
     "name": "stdout",
     "output_type": "stream",
     "text": [
      "[    1     2     3 ...  9998  9999 10000]\n",
      "getting 10 out of missing 10000 descriptions\n",
      "1,The Hunger Games (The Hunger Games, #1)\n",
      "2,Harry Potter and the Sorcerer's Stone (Harry Potter, #1)\n",
      "3,Twilight (Twilight, #1)\n",
      "4,To Kill a Mockingbird\n",
      "5,The Great Gatsby\n",
      "6,The Fault in Our Stars\n",
      "7,The Hobbit, or There and Back Again\n",
      "8,The Catcher in the Rye\n",
      "9,Angels & Demons (Robert Langdon, #1)\n",
      "10,Pride and Prejudice\n",
      "saving the results to the file....\n"
     ]
    }
   ],
   "source": [
    "books =h.fill_missing_columns(\"../data/books_desc.csv\",10)"
   ]
  },
  {
   "cell_type": "markdown",
   "metadata": {},
   "source": [
    "585 books that are missing orig title, replace them with title\n",
    "book = gc.book(3)\n",
    "book.original_title"
   ]
  },
  {
   "cell_type": "markdown",
   "metadata": {},
   "source": [
    "### Collecting  recent books  based on Denver DSI classmates reading preferences"
   ]
  },
  {
   "cell_type": "code",
   "execution_count": 12,
   "metadata": {},
   "outputs": [],
   "source": [
    "collect_books = pd.DataFrame()\n",
    "topics =['python','of Thrones','Patrick Rothfuss','A Song of Ice and Fire','Inspector Rebus',\n",
    "      'Data Science', 'mechine learning','Data Visualization','Robert T. Kiyosaki','Brené Brown',\n",
    "      'weapons of math destruction','Girl, Wash Your Face','recommender systems']\n",
    "for topic in topics :\n",
    "    df2 =h.get_books(topic)\n",
    "    books = pd.concat([books,df2],sort=True)\n",
    "books.reset_index(inplace=True, drop=True)  \n",
    "books.to_csv(\"../data/books_desc.csv\", index=False)"
   ]
  },
  {
   "cell_type": "code",
   "execution_count": 13,
   "metadata": {},
   "outputs": [
    {
     "data": {
      "text/plain": [
       "Index(['authors', 'average_rating', 'best_book_id', 'book_id', 'books_count',\n",
       "       'description', 'e_book', 'goodreads_book_id', 'image_url', 'is_ebook',\n",
       "       'isbn', 'isbn13', 'language_code', 'num_pages',\n",
       "       'original_publication_year', 'original_title', 'ratings_1', 'ratings_2',\n",
       "       'ratings_3', 'ratings_4', 'ratings_5', 'ratings_count',\n",
       "       'small_image_url', 'title', 'work_id', 'work_ratings_count',\n",
       "       'work_text_reviews_count'],\n",
       "      dtype='object')"
      ]
     },
     "execution_count": 13,
     "metadata": {},
     "output_type": "execute_result"
    }
   ],
   "source": [
    "books.columns"
   ]
  },
  {
   "cell_type": "markdown",
   "metadata": {},
   "source": [
    "### Data Cleaning"
   ]
  },
  {
   "cell_type": "code",
   "execution_count": 14,
   "metadata": {},
   "outputs": [
    {
     "data": {
      "text/plain": [
       "authors                         0\n",
       "average_rating                  0\n",
       "best_book_id                  137\n",
       "book_id                       137\n",
       "books_count                   137\n",
       "description                  9990\n",
       "e_book                        137\n",
       "goodreads_book_id               0\n",
       "image_url                     137\n",
       "is_ebook                     9990\n",
       "isbn                          837\n",
       "isbn13                        722\n",
       "language_code                1137\n",
       "num_pages                       0\n",
       "original_publication_year     158\n",
       "original_title                722\n",
       "ratings_1                     137\n",
       "ratings_2                     137\n",
       "ratings_3                     137\n",
       "ratings_4                     137\n",
       "ratings_5                     137\n",
       "ratings_count                   0\n",
       "small_image_url               137\n",
       "title                           0\n",
       "work_id                       137\n",
       "work_ratings_count            137\n",
       "work_text_reviews_count       137\n",
       "dtype: int64"
      ]
     },
     "execution_count": 14,
     "metadata": {},
     "output_type": "execute_result"
    }
   ],
   "source": [
    "###### How many of the  columns are missing data ?\n",
    "books.isna().sum()"
   ]
  },
  {
   "cell_type": "code",
   "execution_count": 15,
   "metadata": {},
   "outputs": [
    {
     "name": "stdout",
     "output_type": "stream",
     "text": [
      "10137, 722,6152\n"
     ]
    },
    {
     "data": {
      "text/html": [
       "<div>\n",
       "<style scoped>\n",
       "    .dataframe tbody tr th:only-of-type {\n",
       "        vertical-align: middle;\n",
       "    }\n",
       "\n",
       "    .dataframe tbody tr th {\n",
       "        vertical-align: top;\n",
       "    }\n",
       "\n",
       "    .dataframe thead th {\n",
       "        text-align: right;\n",
       "    }\n",
       "</style>\n",
       "<table border=\"1\" class=\"dataframe\">\n",
       "  <thead>\n",
       "    <tr style=\"text-align: right;\">\n",
       "      <th></th>\n",
       "      <th>goodreads_book_id</th>\n",
       "      <th>title</th>\n",
       "      <th>original_title</th>\n",
       "    </tr>\n",
       "  </thead>\n",
       "  <tbody>\n",
       "    <tr>\n",
       "      <th>0</th>\n",
       "      <td>2767052</td>\n",
       "      <td>The Hunger Games (The Hunger Games, #1)</td>\n",
       "      <td>The Hunger Games</td>\n",
       "    </tr>\n",
       "    <tr>\n",
       "      <th>1</th>\n",
       "      <td>3</td>\n",
       "      <td>Harry Potter and the Sorcerer's Stone (Harry P...</td>\n",
       "      <td>Harry Potter and the Philosopher's Stone</td>\n",
       "    </tr>\n",
       "    <tr>\n",
       "      <th>2</th>\n",
       "      <td>41865</td>\n",
       "      <td>Twilight (Twilight, #1)</td>\n",
       "      <td>Twilight</td>\n",
       "    </tr>\n",
       "    <tr>\n",
       "      <th>6</th>\n",
       "      <td>5907</td>\n",
       "      <td>The Hobbit</td>\n",
       "      <td>The Hobbit or There and Back Again</td>\n",
       "    </tr>\n",
       "    <tr>\n",
       "      <th>8</th>\n",
       "      <td>960</td>\n",
       "      <td>Angels &amp; Demons  (Robert Langdon, #1)</td>\n",
       "      <td>Angels &amp; Demons</td>\n",
       "    </tr>\n",
       "    <tr>\n",
       "      <th>...</th>\n",
       "      <td>...</td>\n",
       "      <td>...</td>\n",
       "      <td>...</td>\n",
       "    </tr>\n",
       "    <tr>\n",
       "      <th>10132</th>\n",
       "      <td>23876976</td>\n",
       "      <td>Recommender Systems</td>\n",
       "      <td>NaN</td>\n",
       "    </tr>\n",
       "    <tr>\n",
       "      <th>10133</th>\n",
       "      <td>41310766</td>\n",
       "      <td>Recommender System</td>\n",
       "      <td>NaN</td>\n",
       "    </tr>\n",
       "    <tr>\n",
       "      <th>10134</th>\n",
       "      <td>27136807</td>\n",
       "      <td>Social Network-Based Recommender Systems</td>\n",
       "      <td>NaN</td>\n",
       "    </tr>\n",
       "    <tr>\n",
       "      <th>10135</th>\n",
       "      <td>13379246</td>\n",
       "      <td>Recommender Systems for Social Tagging Systems</td>\n",
       "      <td>NaN</td>\n",
       "    </tr>\n",
       "    <tr>\n",
       "      <th>10136</th>\n",
       "      <td>13193927</td>\n",
       "      <td>Recommender Systems for the Social Web</td>\n",
       "      <td>NaN</td>\n",
       "    </tr>\n",
       "  </tbody>\n",
       "</table>\n",
       "<p>6152 rows × 3 columns</p>\n",
       "</div>"
      ],
      "text/plain": [
       "       goodreads_book_id                                              title  \\\n",
       "0                2767052            The Hunger Games (The Hunger Games, #1)   \n",
       "1                      3  Harry Potter and the Sorcerer's Stone (Harry P...   \n",
       "2                  41865                            Twilight (Twilight, #1)   \n",
       "6                   5907                                         The Hobbit   \n",
       "8                    960              Angels & Demons  (Robert Langdon, #1)   \n",
       "...                  ...                                                ...   \n",
       "10132           23876976                                Recommender Systems   \n",
       "10133           41310766                                 Recommender System   \n",
       "10134           27136807           Social Network-Based Recommender Systems   \n",
       "10135           13379246     Recommender Systems for Social Tagging Systems   \n",
       "10136           13193927             Recommender Systems for the Social Web   \n",
       "\n",
       "                                 original_title  \n",
       "0                              The Hunger Games  \n",
       "1      Harry Potter and the Philosopher's Stone  \n",
       "2                                      Twilight  \n",
       "6            The Hobbit or There and Back Again  \n",
       "8                              Angels & Demons   \n",
       "...                                         ...  \n",
       "10132                                       NaN  \n",
       "10133                                       NaN  \n",
       "10134                                       NaN  \n",
       "10135                                       NaN  \n",
       "10136                                       NaN  \n",
       "\n",
       "[6152 rows x 3 columns]"
      ]
     },
     "execution_count": 15,
     "metadata": {},
     "output_type": "execute_result"
    }
   ],
   "source": [
    "print(f\"{len(books)}, {len(books[books['original_title'].isna()])},{len(books[books['original_title'] != books ['title']])}\")\n",
    "# Title seems to be including original title in all these cases, we are going to drop original_title\n",
    "books[books['original_title'] != books ['title']][['goodreads_book_id','title','original_title']]"
   ]
  },
  {
   "cell_type": "code",
   "execution_count": 16,
   "metadata": {},
   "outputs": [],
   "source": [
    "#Drop columns that are not relevant for the recommender\n",
    "# books = books.drop(['best_book_id','work_id','isbn13','isbn','original_title',\n",
    "#                     'books_count','work_ratings_count','work_text_reviews_count',\n",
    "#                     'image_url','small_image_url'], axis =1)"
   ]
  },
  {
   "cell_type": "code",
   "execution_count": 17,
   "metadata": {},
   "outputs": [],
   "source": [
    "###### If the book description was empty ,  adding a string so that  Vecotrizer can  work with the data\n",
    "books['description'] = books['description'].fillna('-')"
   ]
  },
  {
   "cell_type": "code",
   "execution_count": 18,
   "metadata": {},
   "outputs": [
    {
     "data": {
      "text/plain": [
       "count    10137.000000\n",
       "mean      1951.095492\n",
       "std        288.437688\n",
       "min      -1750.000000\n",
       "25%       1989.000000\n",
       "50%       2004.000000\n",
       "75%       2011.000000\n",
       "max       2017.000000\n",
       "Name: original_publication_year, dtype: float64"
      ]
     },
     "execution_count": 18,
     "metadata": {},
     "output_type": "execute_result"
    }
   ],
   "source": [
    "books['original_publication_year'] = books['original_publication_year'].fillna(0).astype('int')\n",
    "books['original_publication_year'].describe()"
   ]
  },
  {
   "cell_type": "code",
   "execution_count": 19,
   "metadata": {},
   "outputs": [
    {
     "data": {
      "text/plain": [
       "eng      8807\n",
       "other    1330\n",
       "Name: language_code, dtype: int64"
      ]
     },
     "execution_count": 19,
     "metadata": {},
     "output_type": "execute_result"
    }
   ],
   "source": [
    "books['language_code'] = books['language_code'].apply(lambda x : 'eng' if x in  ['eng','en-US','en-GB','en-CA'] else 'other')\n",
    "books['language_code'].value_counts()"
   ]
  },
  {
   "cell_type": "code",
   "execution_count": 20,
   "metadata": {},
   "outputs": [
    {
     "data": {
      "text/plain": [
       "2000-2013    3121\n",
       "2010-2014    2552\n",
       "1950-1990    1586\n",
       "1990-2000    1360\n",
       "<1950         814\n",
       "2015-2020     515\n",
       "unknown       189\n",
       "Name: publication_timeframe, dtype: int64"
      ]
     },
     "execution_count": 20,
     "metadata": {},
     "output_type": "execute_result"
    }
   ],
   "source": [
    "books.loc[books['original_publication_year'] <0,'original_publication_year'] =0\n",
    "def publication_year_categorize(original_publication_year):\n",
    "    if original_publication_year >=2015 :\n",
    "        return('2015-2020')\n",
    "    elif original_publication_year >= 2010:\n",
    "        return('2010-2014')\n",
    "    elif original_publication_year >= 2000:\n",
    "        return('2000-2013')\n",
    "    elif original_publication_year >= 1990:\n",
    "        return('1990-2000')\n",
    "    elif original_publication_year >= 1950:\n",
    "        return('1950-1990')\n",
    "    elif original_publication_year >= 1:\n",
    "        return('<1950')\n",
    "    else:\n",
    "         return('unknown')\n",
    "books['publication_timeframe'] =books['original_publication_year'].map(publication_year_categorize)\n",
    "books['publication_timeframe'].value_counts()"
   ]
  },
  {
   "cell_type": "markdown",
   "metadata": {},
   "source": [
    "###### Are the books unique ?\n",
    "\n",
    "we have books unique isbn numbers  but  they have similar titles.\n",
    "I am little wary of this data set now. It might  be a good  for proof of concept but  we may need to get cleaner data"
   ]
  },
  {
   "cell_type": "code",
   "execution_count": 22,
   "metadata": {},
   "outputs": [
    {
     "name": "stdout",
     "output_type": "stream",
     "text": [
      "duplicate book count = 57\n"
     ]
    }
   ],
   "source": [
    "#De-duplicating the  records as we only care about title and content of the book , \n",
    "books_with_same_title = (books['title'].value_counts()  )\n",
    "print(f\"duplicate book count = {len(books_with_same_title.index[books_with_same_title >1])}\")\n",
    "\n",
    "dup_books =books_with_same_title.index[books_with_same_title >1]\n",
    "dup_book_df = books[books['title'].isin(dup_books)]\n",
    "\n",
    "books = books.groupby('title').agg(\n",
    "                             {\n",
    "                              'book_id':'first',\n",
    "                              'goodreads_book_id':'first',\n",
    "                              'authors':'first', \n",
    "                              'description' :'first',\n",
    "                              'original_publication_year': 'first',\n",
    "                              'language_code' :'first',\n",
    "                              'average_rating':'mean',\n",
    "                              'ratings_count': 'sum',                              \n",
    "                              'num_pages':'first',\n",
    "                              'is_ebook':'first',\n",
    "                              'ratings_count':'first'\n",
    "                              }).reset_index()"
   ]
  },
  {
   "cell_type": "code",
   "execution_count": 25,
   "metadata": {},
   "outputs": [],
   "source": [
    "book_tags = pd.read_csv(\"../data/book_tags_combined.csv\")\n",
    "###### Consolidate all Audio tags under same category\n",
    "def consolidate_tags(tag_lst,target_tag):\n",
    "    target_tag_id = book_tags[book_tags['tag_name']==target_tag]['tag_id'].values[0]  \n",
    "    l= book_tags[(book_tags['tag_name'].isin(tag_lst))]['tag_name'].to_list()\n",
    "    print(f\"replacing {len(l)} tags with {target_tag}, tag_id= {target_tag_id}\")\n",
    "    book_tags['tag_name']= book_tags['tag_name'].apply(lambda x : target_tag if x in tag_lst else x)\n",
    "    book_tags.loc[book_tags['tag_name'] ==target_tag,'tag_id']= target_tag_id "
   ]
  },
  {
   "cell_type": "code",
   "execution_count": null,
   "metadata": {},
   "outputs": [
    {
     "name": "stdout",
     "output_type": "stream",
     "text": [
      "replacing 14759 tags with childrens, tag_id= 6953\n",
      "replacing 33017 tags with audiobook, tag_id= 3389\n",
      "replacing 6577 tags with history, tag_id= 14552\n",
      "replacing 15571 tags with mystery-thriller, tag_id= 20994\n",
      "replacing 17903 tags with novels, tag_id= 22034\n",
      "replacing 4407 tags with young-adult, tag_id= 33114\n",
      "replacing 13064 tags with fiction, tag_id= 11743\n",
      "replacing 4066 tags with supernatural, tag_id= 29011\n",
      "replacing 3069 tags with scifi-fantasy, tag_id= 26897\n",
      "replacing 4483 tags with humor, tag_id= 15048\n",
      "replacing 2507 tags with historical, tag_id= 14467\n",
      "replacing 3396 tags with science-fiction, tag_id= 26837\n",
      "replacing 3857 tags with nonfiction, tag_id= 21773\n",
      "replacing 1593 tags with fiction, tag_id= 11743\n",
      "replacing 4542 tags with fantasy, tag_id= 11305\n",
      "replacing 1353 tags with thriller, tag_id= 30358\n",
      "replacing 6100 tags with childrens, tag_id= 6953\n",
      "replacing 1224 tags with audiobook, tag_id= 3389\n",
      "replacing 1748 tags with nonfiction, tag_id= 21773\n",
      "replacing 1105 tags with romance, tag_id= 26138\n",
      "replacing 0 tags with fantasy, tag_id= 11305\n",
      "replacing 5902 tags with biography, tag_id= 4605\n",
      "replacing 1409 tags with young-adult-fiction, tag_id= 33124\n",
      "replacing 13292 tags with classic-literature, tag_id= 7423\n"
     ]
    }
   ],
   "source": [
    "##### Consolidate all childrens books under same category\n",
    "tag_lst= book_tags[(book_tags['tag_name'].str.contains('children')) ]['tag_name'].to_list()\n",
    "consolidate_tags(list(set(tag_lst)),'childrens')\n",
    "\n",
    "tag_lst= ['audio','audiobooks','audiobook','audible','audio-book','audio-books'] +(book_tags[(book_tags['tag_name'].str.contains('audiobook'))]['tag_name'].to_list())\n",
    "consolidate_tags(set(tag_lst),'audiobook')\n",
    "\n",
    "tag_lst = book_tags[(book_tags['tag_name'].str.contains('history'))]['tag_name'].to_list()\n",
    "consolidate_tags(set(['war'] +tag_lst),'history')\n",
    "\n",
    "#suspense\n",
    "tag_lst= book_tags[(book_tags['tag_name'].str.contains('mystery'))]['tag_name'].to_list()\n",
    "consolidate_tags(tag_lst,'mystery-thriller')\n",
    "\n",
    "\n",
    "tag_lst=set(book_tags[(book_tags['tag_name'].str.contains('novel'))]['tag_name'].to_list())\n",
    "consolidate_tags(tag_lst,'novels')\n",
    "\n",
    "tag_lst=set(book_tags[(book_tags['tag_name'].str.contains('memoir'))]['tag_name'].to_list())\n",
    "consolidate_tags(tag_lst,'biography')\n",
    "\n",
    "## Fiction\n",
    "consolidate_tags(['teen','juvenile','youth','new-adult'],'young-adult')\n",
    "consolidate_tags(['general-fiction','speculative-fiction','magic','literary-fiction','contemporary-fiction','modern-fiction','vampires','vampire','fiction-to-read'],'fiction')\n",
    "consolidate_tags(['ya-fiction','harry-potter'],'fiction') \n",
    "consolidate_tags(['sci-fi','scifi'],'science-fiction')\n",
    "consolidate_tags(['teen-fiction','juvenile-fiction'],'young-adult-fiction')\n",
    "\n",
    "\n",
    "consolidate_tags(['paranormal','paranormal-romance','paranormal-fantasy','fantasy-paranormal'],'supernatural') \n",
    "\n",
    "consolidate_tags(['fantasy-sci-fi,sci-fi-fantasy','science-fiction-fantasy','fantasy-scifi','sci-fi-and-fantasy'],'scifi-fantasy') \n",
    "consolidate_tags(['urban-fantasy','ya-fantasy','high-fantasy','sf-fantasy','guilty-pleasures'],'fantasy')\n",
    "\n",
    "consolidate_tags(['funny','humour','comedy','humorous'],'humor') \n",
    "consolidate_tags(['20th-century','19th-century','historicals'],'historical') \n",
    " \n",
    "consolidate_tags(['non-fiction','to-read-nonfiction','non-fic','nonfiction-to-read'],'nonfiction') \n",
    "consolidate_tags(['to-read-non-fiction','non-fiction-to-read'],'nonfiction') \n",
    "\n",
    "\n",
    "consolidate_tags(['thrillers'],'thriller')\n",
    "consolidate_tags(['childhood-reads','kids','kids-books','childhood-books','childhood','childhood-favorites'],'childrens')\n",
    "\n",
    "\n",
    "consolidate_tags(['contemporary-romance'],'romance')\n",
    "consolidate_tags(['urban-fantasy','ya-fantasy'],'fantasy')\n",
    "\n",
    "\n",
    "\n",
    "\n",
    "\n",
    "consolidate_tags(['classic','literature','literary','classics','american-lit','american-literature','british-literature','chic-lit','kid-lit','chicklit','to-read-classics'],'classic-literature') \n",
    "consolidate_tags(['dystopia'],'dystopian')\n",
    "\n",
    "\n",
    "\n",
    "consolidate_tags(['realistic'],'realistic-fiction')\n",
    "consolidate_tags(['erotica','erotic'],'adult-romance')\n",
    "consolidate_tags(['modern'],'contemporary')\n",
    "consolidate_tags(['suspense-thriller','thriller-mystery','thriller-suspense','mystery-thrillers','epic-fantasy','mystery-suspense-thriller','mystery-thriller-suspense'],'mystery-thriller')\n"
   ]
  },
  {
   "cell_type": "code",
   "execution_count": null,
   "metadata": {},
   "outputs": [],
   "source": [
    "books.to_csv(\"../data/books_desc.csv\", index=False)"
   ]
  },
  {
   "cell_type": "markdown",
   "metadata": {},
   "source": []
  },
  {
   "cell_type": "markdown",
   "metadata": {},
   "source": [
    "######  references\n",
    "https://pypi.org/project/Goodreads/\n",
    "\n",
    "https://betterreads.readthedocs.io/en/latest/\n",
    "\n",
    "Kaggle data source : https://www.kaggle.com/zygmunt/goodbooks-10k\n",
    "\n",
    "data set location : https://github.com/zygmuntz/goodbooks-10k\n",
    "\n",
    "#https://pandas.pydata.org/pandas-docs/stable/reference/groupby.html"
   ]
  }
 ],
 "metadata": {
  "kernelspec": {
   "display_name": "Python 3",
   "language": "python",
   "name": "python3"
  },
  "language_info": {
   "codemirror_mode": {
    "name": "ipython",
    "version": 3
   },
   "file_extension": ".py",
   "mimetype": "text/x-python",
   "name": "python",
   "nbconvert_exporter": "python",
   "pygments_lexer": "ipython3",
   "version": "3.7.4"
  }
 },
 "nbformat": 4,
 "nbformat_minor": 2
}
