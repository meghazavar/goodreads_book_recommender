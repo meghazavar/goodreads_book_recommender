{
 "cells": [
  {
   "cell_type": "markdown",
   "metadata": {},
   "source": [
    "###  installing and importing packages"
   ]
  },
  {
   "cell_type": "code",
   "execution_count": 6,
   "metadata": {},
   "outputs": [
    {
     "name": "stdout",
     "output_type": "stream",
     "text": [
      "Requirement already satisfied: betterreads in /Users/mybiyani/opt/anaconda3/lib/python3.7/site-packages (0.4.2)\n",
      "Requirement already satisfied: rauth in /Users/mybiyani/opt/anaconda3/lib/python3.7/site-packages/rauth-0.7.3-py3.7.egg (from betterreads) (0.7.3)\n",
      "Requirement already satisfied: requests in /Users/mybiyani/opt/anaconda3/lib/python3.7/site-packages (from betterreads) (2.22.0)\n",
      "Requirement already satisfied: backports-datetime-fromisoformat in /Users/mybiyani/opt/anaconda3/lib/python3.7/site-packages (from betterreads) (1.0.0)\n",
      "Requirement already satisfied: xmltodict in /Users/mybiyani/opt/anaconda3/lib/python3.7/site-packages/xmltodict-0.12.0-py3.7.egg (from betterreads) (0.12.0)\n",
      "Requirement already satisfied: idna<2.9,>=2.5 in /Users/mybiyani/opt/anaconda3/lib/python3.7/site-packages (from requests->betterreads) (2.8)\n",
      "Requirement already satisfied: urllib3!=1.25.0,!=1.25.1,<1.26,>=1.21.1 in /Users/mybiyani/opt/anaconda3/lib/python3.7/site-packages (from requests->betterreads) (1.24.2)\n",
      "Requirement already satisfied: chardet<3.1.0,>=3.0.2 in /Users/mybiyani/opt/anaconda3/lib/python3.7/site-packages (from requests->betterreads) (3.0.4)\n",
      "Requirement already satisfied: certifi>=2017.4.17 in /Users/mybiyani/opt/anaconda3/lib/python3.7/site-packages (from requests->betterreads) (2019.9.11)\n",
      "Note: you may need to restart the kernel to use updated packages.\n"
     ]
    }
   ],
   "source": [
    "pip install betterreads"
   ]
  },
  {
   "cell_type": "code",
   "execution_count": 8,
   "metadata": {},
   "outputs": [],
   "source": [
    "import pandas as pd\n",
    "from betterreads import client"
   ]
  },
  {
   "cell_type": "markdown",
   "metadata": {},
   "source": [
    "###  Data collection approach\n",
    "\n",
    "I am starting with a Kaggle dataset from  https://www.kaggle.com/zygmunt/goodbooks-10k\n",
    "\n",
    "# TODO < include > eda\n",
    "\n",
    "\n",
    "additional data collection for \n",
    "*Book description \n",
    "*number of pages\n",
    "*is_book_enum"
   ]
  },
  {
   "cell_type": "code",
   "execution_count": 9,
   "metadata": {},
   "outputs": [],
   "source": [
    "#  Get the API keys here https://www.goodreads.com/api/keys\n",
    "\n",
    "gc = client.GoodreadsClient('zIHHGGHATvYay6dTTZ1AqA',\n",
    "                            'xFiCr7PBabSezd7zpXhqNyvsIDFfoX4ftC6Pww7v2g')"
   ]
  },
  {
   "cell_type": "code",
   "execution_count": 10,
   "metadata": {},
   "outputs": [
    {
     "name": "stdout",
     "output_type": "stream",
     "text": [
      "shape of the books dataframe is (10000, 26)\n"
     ]
    },
    {
     "data": {
      "text/html": [
       "<div>\n",
       "<style scoped>\n",
       "    .dataframe tbody tr th:only-of-type {\n",
       "        vertical-align: middle;\n",
       "    }\n",
       "\n",
       "    .dataframe tbody tr th {\n",
       "        vertical-align: top;\n",
       "    }\n",
       "\n",
       "    .dataframe thead th {\n",
       "        text-align: right;\n",
       "    }\n",
       "</style>\n",
       "<table border=\"1\" class=\"dataframe\">\n",
       "  <thead>\n",
       "    <tr style=\"text-align: right;\">\n",
       "      <th></th>\n",
       "      <th>book_id</th>\n",
       "      <th>goodreads_book_id</th>\n",
       "      <th>best_book_id</th>\n",
       "      <th>work_id</th>\n",
       "      <th>books_count</th>\n",
       "      <th>isbn</th>\n",
       "      <th>isbn13</th>\n",
       "      <th>authors</th>\n",
       "      <th>original_publication_year</th>\n",
       "      <th>original_title</th>\n",
       "      <th>...</th>\n",
       "      <th>ratings_1</th>\n",
       "      <th>ratings_2</th>\n",
       "      <th>ratings_3</th>\n",
       "      <th>ratings_4</th>\n",
       "      <th>ratings_5</th>\n",
       "      <th>image_url</th>\n",
       "      <th>small_image_url</th>\n",
       "      <th>description</th>\n",
       "      <th>num_pages</th>\n",
       "      <th>is_ebook</th>\n",
       "    </tr>\n",
       "  </thead>\n",
       "  <tbody>\n",
       "    <tr>\n",
       "      <th>0</th>\n",
       "      <td>1</td>\n",
       "      <td>2767052</td>\n",
       "      <td>2767052</td>\n",
       "      <td>2792775</td>\n",
       "      <td>272</td>\n",
       "      <td>439023483</td>\n",
       "      <td>9.780439e+12</td>\n",
       "      <td>Suzanne Collins</td>\n",
       "      <td>2008.0</td>\n",
       "      <td>The Hunger Games</td>\n",
       "      <td>...</td>\n",
       "      <td>66715</td>\n",
       "      <td>127936</td>\n",
       "      <td>560092</td>\n",
       "      <td>1481305</td>\n",
       "      <td>2706317</td>\n",
       "      <td>https://images.gr-assets.com/books/1447303603m...</td>\n",
       "      <td>https://images.gr-assets.com/books/1447303603s...</td>\n",
       "      <td>Could you survive on your own, in the wild, wi...</td>\n",
       "      <td>374.0</td>\n",
       "      <td>False</td>\n",
       "    </tr>\n",
       "  </tbody>\n",
       "</table>\n",
       "<p>1 rows × 26 columns</p>\n",
       "</div>"
      ],
      "text/plain": [
       "   book_id  goodreads_book_id  best_book_id  work_id  books_count       isbn  \\\n",
       "0        1            2767052       2767052  2792775          272  439023483   \n",
       "\n",
       "         isbn13          authors  original_publication_year    original_title  \\\n",
       "0  9.780439e+12  Suzanne Collins                     2008.0  The Hunger Games   \n",
       "\n",
       "   ... ratings_1 ratings_2  ratings_3  ratings_4  ratings_5  \\\n",
       "0  ...     66715    127936     560092    1481305    2706317   \n",
       "\n",
       "                                           image_url  \\\n",
       "0  https://images.gr-assets.com/books/1447303603m...   \n",
       "\n",
       "                                     small_image_url  \\\n",
       "0  https://images.gr-assets.com/books/1447303603s...   \n",
       "\n",
       "                                         description  num_pages  is_ebook  \n",
       "0  Could you survive on your own, in the wild, wi...      374.0     False  \n",
       "\n",
       "[1 rows x 26 columns]"
      ]
     },
     "execution_count": 10,
     "metadata": {},
     "output_type": "execute_result"
    }
   ],
   "source": [
    "books = pd.read_csv('../data/books.csv')\n",
    "print( f\"shape of the books dataframe is {books.shape}\")\n",
    "books.head(1)"
   ]
  },
  {
   "cell_type": "code",
   "execution_count": 12,
   "metadata": {},
   "outputs": [
    {
     "data": {
      "text/plain": [
       "array([ 728,  977,  992,  994, 1108, 1113, 1329, 1338, 1382, 1432, 1475,\n",
       "       1666, 1679, 1691, 1754, 1935, 2068, 2100, 2139, 2151, 2397, 2680,\n",
       "       2685, 3054, 3413, 3438, 3484, 3577, 3636, 3813, 4154, 4157, 4264,\n",
       "       4291, 4309, 4330, 4504, 4601, 4676, 4717, 4835, 4980, 5002, 5027,\n",
       "       5094, 5376, 5540, 5706, 5802, 5898, 5914, 5957, 6022, 6141, 6240,\n",
       "       6251, 6372, 6457, 6514, 6518, 6524, 6530, 6561, 6586, 6778, 6938,\n",
       "       6959, 7114, 7196, 7239, 7263, 7428, 7484, 7767, 7795, 7803, 7813,\n",
       "       7838, 7990, 8011, 8033, 8038, 8197, 8214, 8336, 8372, 8390, 8441,\n",
       "       8472, 8665, 8696, 8755, 8761, 8854, 8880, 8903, 8947, 8971, 9076,\n",
       "       9120, 9137, 9183, 9220, 9241, 9252, 9327, 9343, 9555, 9667, 9714,\n",
       "       9816, 9818, 9900, 9974, 9990])"
      ]
     },
     "execution_count": 12,
     "metadata": {},
     "output_type": "execute_result"
    }
   ],
   "source": [
    "books['description'].isna().sum()\n",
    "missing_desc_books = books[books['description'].isna()]['book_id'].values\n",
    "missing_desc_books"
   ]
  },
  {
   "cell_type": "code",
   "execution_count": 13,
   "metadata": {},
   "outputs": [
    {
     "name": "stdout",
     "output_type": "stream",
     "text": [
      "failed to parse 728\n",
      "failed to parse 977\n",
      "failed to parse 992\n",
      "failed to parse 994\n",
      "failed to parse 1108\n",
      "failed to parse 1113\n",
      "failed to parse 1329\n",
      "failed to parse 1338\n",
      "failed to parse 1382\n",
      "failed to parse 1432\n",
      "failed to parse 1475\n",
      "failed to parse 1666\n",
      "failed to parse 1679\n",
      "failed to parse 1691\n",
      "failed to parse 1754\n",
      "failed to parse 1935\n",
      "failed to parse 2068\n",
      "failed to parse 2100\n",
      "failed to parse 2139\n",
      "failed to parse 2151\n",
      "failed to parse 2397\n",
      "failed to parse 2680\n",
      "failed to parse 2685\n",
      "failed to parse 3054\n",
      "failed to parse 3413\n",
      "failed to parse 3438\n",
      "failed to parse 3484\n",
      "failed to parse 3577\n",
      "failed to parse 3636\n",
      "failed to parse 3813\n",
      "failed to parse 4154\n",
      "failed to parse 4157\n",
      "failed to parse 4264\n",
      "failed to parse 4291\n",
      "failed to parse 4309\n",
      "failed to parse 4330\n",
      "failed to parse 4504\n",
      "failed to parse 4601\n",
      "failed to parse 4676\n",
      "failed to parse 4717\n",
      "failed to parse 4835\n",
      "failed to parse 4980\n",
      "failed to parse 5002\n",
      "failed to parse 5027\n",
      "failed to parse 5094\n",
      "failed to parse 5376\n",
      "failed to parse 5540\n",
      "failed to parse 5706\n",
      "failed to parse 5802\n",
      "failed to parse 5898\n",
      "failed to parse 5914\n",
      "failed to parse 5957\n",
      "failed to parse 6022\n",
      "failed to parse 6141\n",
      "failed to parse 6240\n",
      "failed to parse 6251\n",
      "failed to parse 6372\n",
      "failed to parse 6457\n",
      "failed to parse 6514\n",
      "failed to parse 6518\n",
      "failed to parse 6524\n",
      "failed to parse 6530\n",
      "failed to parse 6561\n",
      "failed to parse 6586\n",
      "failed to parse 6778\n",
      "failed to parse 6938\n",
      "failed to parse 6959\n",
      "failed to parse 7114\n",
      "failed to parse 7196\n",
      "failed to parse 7239\n",
      "failed to parse 7263\n",
      "failed to parse 7428\n",
      "failed to parse 7484\n",
      "failed to parse 7767\n",
      "failed to parse 7795\n",
      "failed to parse 7803\n",
      "failed to parse 7813\n",
      "failed to parse 7838\n",
      "failed to parse 7990\n",
      "failed to parse 8011\n",
      "failed to parse 8033\n",
      "failed to parse 8038\n",
      "failed to parse 8197\n",
      "failed to parse 8214\n",
      "failed to parse 8336\n",
      "failed to parse 8372\n",
      "failed to parse 8390\n",
      "failed to parse 8441\n",
      "failed to parse 8472\n",
      "failed to parse 8665\n",
      "failed to parse 8696\n",
      "failed to parse 8755\n",
      "failed to parse 8761\n",
      "failed to parse 8854\n",
      "failed to parse 8880\n",
      "failed to parse 8903\n",
      "failed to parse 8947\n",
      "failed to parse 8971\n",
      "failed to parse 9076\n",
      "failed to parse 9120\n",
      "failed to parse 9137\n",
      "failed to parse 9183\n",
      "failed to parse 9220\n",
      "failed to parse 9241\n",
      "failed to parse 9252\n",
      "failed to parse 9327\n",
      "failed to parse 9343\n",
      "failed to parse 9555\n",
      "failed to parse 9667\n",
      "failed to parse 9714\n",
      "failed to parse 9816\n",
      "failed to parse 9818\n",
      "failed to parse 9900\n",
      "failed to parse 9974\n",
      "failed to parse 9990\n"
     ]
    }
   ],
   "source": [
    "#https://betterreads.readthedocs.io/en/latest/book.html\n",
    "#for i in range(1,4000):\n",
    "for i in missing_desc_books:\n",
    "    goodreads_book_id = books.loc[books['book_id'] == i,'goodreads_book_id'].values[0]\n",
    "    try:\n",
    "        book_obj= get_book(goodreads_book_id)\n",
    "        print( f\"{i},{book_obj}\")\n",
    "        books.loc[books['book_id'] == i,'description']= book_obj.description\n",
    "        try:\n",
    "            books.loc[books['book_id'] == i,'num_pages']=  book_obj.num_pages\n",
    "        except:\n",
    "            books.loc[books['book_id'] == i,'num_pages']=  0\n",
    "\n",
    "        books.loc[books['book_id'] == i,'is_ebook']=book_obj.is_ebook  \n",
    "    except:\n",
    "        print(f\"failed to parse {i}\")"
   ]
  },
  {
   "cell_type": "code",
   "execution_count": 15,
   "metadata": {},
   "outputs": [
    {
     "name": "stdout",
     "output_type": "stream",
     "text": [
      "shape of the books dataframe is (5976479, 3)\n"
     ]
    },
    {
     "data": {
      "text/html": [
       "<div>\n",
       "<style scoped>\n",
       "    .dataframe tbody tr th:only-of-type {\n",
       "        vertical-align: middle;\n",
       "    }\n",
       "\n",
       "    .dataframe tbody tr th {\n",
       "        vertical-align: top;\n",
       "    }\n",
       "\n",
       "    .dataframe thead th {\n",
       "        text-align: right;\n",
       "    }\n",
       "</style>\n",
       "<table border=\"1\" class=\"dataframe\">\n",
       "  <thead>\n",
       "    <tr style=\"text-align: right;\">\n",
       "      <th></th>\n",
       "      <th>user_id</th>\n",
       "      <th>book_id</th>\n",
       "      <th>rating</th>\n",
       "    </tr>\n",
       "  </thead>\n",
       "  <tbody>\n",
       "    <tr>\n",
       "      <th>0</th>\n",
       "      <td>1</td>\n",
       "      <td>258</td>\n",
       "      <td>5</td>\n",
       "    </tr>\n",
       "  </tbody>\n",
       "</table>\n",
       "</div>"
      ],
      "text/plain": [
       "   user_id  book_id  rating\n",
       "0        1      258       5"
      ]
     },
     "execution_count": 15,
     "metadata": {},
     "output_type": "execute_result"
    }
   ],
   "source": [
    "# Read book ratings\n",
    "ratings = pd.read_csv(\"../data/ratings.csv\")\n",
    "print( f\"shape of the books dataframe is {ratings.shape}\")\n",
    "ratings.head(1)"
   ]
  },
  {
   "cell_type": "code",
   "execution_count": 16,
   "metadata": {},
   "outputs": [],
   "source": [
    "books.rename({'original_title':'title'},inplace=True)\n",
    "#books =pd.merge(books,ratings, how ='inner',left_on ='book_id',right_on='book_id')\n",
    "#books.head(1)"
   ]
  },
  {
   "cell_type": "code",
   "execution_count": 17,
   "metadata": {},
   "outputs": [
    {
     "name": "stdout",
     "output_type": "stream",
     "text": [
      "shape of the books dataframe is (999912, 3)\n"
     ]
    },
    {
     "data": {
      "text/html": [
       "<div>\n",
       "<style scoped>\n",
       "    .dataframe tbody tr th:only-of-type {\n",
       "        vertical-align: middle;\n",
       "    }\n",
       "\n",
       "    .dataframe tbody tr th {\n",
       "        vertical-align: top;\n",
       "    }\n",
       "\n",
       "    .dataframe thead th {\n",
       "        text-align: right;\n",
       "    }\n",
       "</style>\n",
       "<table border=\"1\" class=\"dataframe\">\n",
       "  <thead>\n",
       "    <tr style=\"text-align: right;\">\n",
       "      <th></th>\n",
       "      <th>goodreads_book_id</th>\n",
       "      <th>tag_id</th>\n",
       "      <th>count</th>\n",
       "    </tr>\n",
       "  </thead>\n",
       "  <tbody>\n",
       "    <tr>\n",
       "      <th>0</th>\n",
       "      <td>1</td>\n",
       "      <td>30574</td>\n",
       "      <td>167697</td>\n",
       "    </tr>\n",
       "  </tbody>\n",
       "</table>\n",
       "</div>"
      ],
      "text/plain": [
       "   goodreads_book_id  tag_id   count\n",
       "0                  1   30574  167697"
      ]
     },
     "execution_count": 17,
     "metadata": {},
     "output_type": "execute_result"
    }
   ],
   "source": [
    "book_tags = pd.read_csv(\"../data/book_tags.csv\")\n",
    "print( f\"shape of the books dataframe is {book_tags.shape}\")\n",
    "book_tags.head(1)"
   ]
  },
  {
   "cell_type": "code",
   "execution_count": 18,
   "metadata": {},
   "outputs": [
    {
     "name": "stdout",
     "output_type": "stream",
     "text": [
      "shape of the books dataframe is (34252, 2)\n"
     ]
    },
    {
     "data": {
      "text/html": [
       "<div>\n",
       "<style scoped>\n",
       "    .dataframe tbody tr th:only-of-type {\n",
       "        vertical-align: middle;\n",
       "    }\n",
       "\n",
       "    .dataframe tbody tr th {\n",
       "        vertical-align: top;\n",
       "    }\n",
       "\n",
       "    .dataframe thead th {\n",
       "        text-align: right;\n",
       "    }\n",
       "</style>\n",
       "<table border=\"1\" class=\"dataframe\">\n",
       "  <thead>\n",
       "    <tr style=\"text-align: right;\">\n",
       "      <th></th>\n",
       "      <th>tag_id</th>\n",
       "      <th>tag_name</th>\n",
       "    </tr>\n",
       "  </thead>\n",
       "  <tbody>\n",
       "    <tr>\n",
       "      <th>0</th>\n",
       "      <td>0</td>\n",
       "      <td>-</td>\n",
       "    </tr>\n",
       "  </tbody>\n",
       "</table>\n",
       "</div>"
      ],
      "text/plain": [
       "   tag_id tag_name\n",
       "0       0        -"
      ]
     },
     "execution_count": 18,
     "metadata": {},
     "output_type": "execute_result"
    }
   ],
   "source": [
    "tags = pd.read_csv(\"../data/tags.csv\")\n",
    "print( f\"shape of the books dataframe is {tags.shape}\")\n",
    "tags.head(1)"
   ]
  },
  {
   "cell_type": "code",
   "execution_count": 19,
   "metadata": {},
   "outputs": [
    {
     "data": {
      "text/html": [
       "<div>\n",
       "<style scoped>\n",
       "    .dataframe tbody tr th:only-of-type {\n",
       "        vertical-align: middle;\n",
       "    }\n",
       "\n",
       "    .dataframe tbody tr th {\n",
       "        vertical-align: top;\n",
       "    }\n",
       "\n",
       "    .dataframe thead th {\n",
       "        text-align: right;\n",
       "    }\n",
       "</style>\n",
       "<table border=\"1\" class=\"dataframe\">\n",
       "  <thead>\n",
       "    <tr style=\"text-align: right;\">\n",
       "      <th></th>\n",
       "      <th>goodreads_book_id</th>\n",
       "      <th>tag_id</th>\n",
       "      <th>count</th>\n",
       "      <th>tag_name</th>\n",
       "    </tr>\n",
       "  </thead>\n",
       "  <tbody>\n",
       "    <tr>\n",
       "      <th>0</th>\n",
       "      <td>1</td>\n",
       "      <td>30574</td>\n",
       "      <td>167697</td>\n",
       "      <td>to-read</td>\n",
       "    </tr>\n",
       "  </tbody>\n",
       "</table>\n",
       "</div>"
      ],
      "text/plain": [
       "   goodreads_book_id  tag_id   count tag_name\n",
       "0                  1   30574  167697  to-read"
      ]
     },
     "execution_count": 19,
     "metadata": {},
     "output_type": "execute_result"
    }
   ],
   "source": [
    "book_tags =pd.merge(left =book_tags,right=tags, how=\"left\")\n",
    "book_tags.head(1)"
   ]
  },
  {
   "cell_type": "code",
   "execution_count": 20,
   "metadata": {},
   "outputs": [],
   "source": [
    "#books =pd.merge(books,book_tags, how ='inner',left_on ='goodreads_book_id',right_on='goodreads_book_id')\n",
    "#books.head(1)"
   ]
  },
  {
   "cell_type": "code",
   "execution_count": 21,
   "metadata": {},
   "outputs": [],
   "source": [
    "def get_book(id):\n",
    "    book = gc.book(id)\n",
    "    return book"
   ]
  },
  {
   "cell_type": "code",
   "execution_count": 22,
   "metadata": {},
   "outputs": [],
   "source": [
    "books.to_csv(\"../data/books.csv\", index=False)\n"
   ]
  },
  {
   "cell_type": "code",
   "execution_count": null,
   "metadata": {},
   "outputs": [],
   "source": [
    "# Combine all data frames in to one"
   ]
  },
  {
   "cell_type": "markdown",
   "metadata": {},
   "source": [
    "######  references\n",
    "https://pypi.org/project/Goodreads/\n",
    "\n",
    "https://betterreads.readthedocs.io/en/latest/\n",
    "\n",
    "https://www.kaggle.com/zygmunt/goodbooks-10k"
   ]
  }
 ],
 "metadata": {
  "kernelspec": {
   "display_name": "Python 3",
   "language": "python",
   "name": "python3"
  },
  "language_info": {
   "codemirror_mode": {
    "name": "ipython",
    "version": 3
   },
   "file_extension": ".py",
   "mimetype": "text/x-python",
   "name": "python",
   "nbconvert_exporter": "python",
   "pygments_lexer": "ipython3",
   "version": "3.7.4"
  }
 },
 "nbformat": 4,
 "nbformat_minor": 2
}
