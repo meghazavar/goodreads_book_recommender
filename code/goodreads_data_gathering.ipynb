{
 "cells": [
  {
   "cell_type": "markdown",
   "metadata": {},
   "source": [
    "###  installing and importing packages"
   ]
  },
  {
   "cell_type": "code",
   "execution_count": 6,
   "metadata": {},
   "outputs": [
    {
     "name": "stdout",
     "output_type": "stream",
     "text": [
      "Requirement already satisfied: betterreads in /Users/mybiyani/opt/anaconda3/lib/python3.7/site-packages (0.4.2)\n",
      "Requirement already satisfied: rauth in /Users/mybiyani/opt/anaconda3/lib/python3.7/site-packages/rauth-0.7.3-py3.7.egg (from betterreads) (0.7.3)\n",
      "Requirement already satisfied: requests in /Users/mybiyani/opt/anaconda3/lib/python3.7/site-packages (from betterreads) (2.22.0)\n",
      "Requirement already satisfied: backports-datetime-fromisoformat in /Users/mybiyani/opt/anaconda3/lib/python3.7/site-packages (from betterreads) (1.0.0)\n",
      "Requirement already satisfied: xmltodict in /Users/mybiyani/opt/anaconda3/lib/python3.7/site-packages/xmltodict-0.12.0-py3.7.egg (from betterreads) (0.12.0)\n",
      "Requirement already satisfied: idna<2.9,>=2.5 in /Users/mybiyani/opt/anaconda3/lib/python3.7/site-packages (from requests->betterreads) (2.8)\n",
      "Requirement already satisfied: urllib3!=1.25.0,!=1.25.1,<1.26,>=1.21.1 in /Users/mybiyani/opt/anaconda3/lib/python3.7/site-packages (from requests->betterreads) (1.24.2)\n",
      "Requirement already satisfied: chardet<3.1.0,>=3.0.2 in /Users/mybiyani/opt/anaconda3/lib/python3.7/site-packages (from requests->betterreads) (3.0.4)\n",
      "Requirement already satisfied: certifi>=2017.4.17 in /Users/mybiyani/opt/anaconda3/lib/python3.7/site-packages (from requests->betterreads) (2019.9.11)\n",
      "Note: you may need to restart the kernel to use updated packages.\n"
     ]
    }
   ],
   "source": [
    "pip install betterreads"
   ]
  },
  {
   "cell_type": "code",
   "execution_count": 21,
   "metadata": {},
   "outputs": [],
   "source": [
    "import pandas as pd\n",
    "from betterreads import client"
   ]
  },
  {
   "cell_type": "markdown",
   "metadata": {},
   "source": [
    "###  Data collection approach\n",
    "\n",
    "I am starting with a Kaggle dataset from  https://www.kaggle.com/zygmunt/goodbooks-10k\n",
    "\n",
    "# TODO < include > eda\n",
    "\n",
    "\n",
    "additional data collection for \n",
    "*Book description \n",
    "*number of pages\n",
    "*is_book_enum"
   ]
  },
  {
   "cell_type": "code",
   "execution_count": 22,
   "metadata": {},
   "outputs": [],
   "source": [
    "#  Get the API keys here https://www.goodreads.com/api/keys\n",
    "gc = client.GoodreadsClient('zIHHGGHATvYay6dTTZ1AqA',\n",
    "                            'xFiCr7PBabSezd7zpXhqNyvsIDFfoX4ftC6Pww7v2g')"
   ]
  },
  {
   "cell_type": "code",
   "execution_count": 23,
   "metadata": {},
   "outputs": [
    {
     "name": "stdout",
     "output_type": "stream",
     "text": [
      "shape of the books dataframe is (10000, 23)\n"
     ]
    },
    {
     "data": {
      "text/html": [
       "<div>\n",
       "<style scoped>\n",
       "    .dataframe tbody tr th:only-of-type {\n",
       "        vertical-align: middle;\n",
       "    }\n",
       "\n",
       "    .dataframe tbody tr th {\n",
       "        vertical-align: top;\n",
       "    }\n",
       "\n",
       "    .dataframe thead th {\n",
       "        text-align: right;\n",
       "    }\n",
       "</style>\n",
       "<table border=\"1\" class=\"dataframe\">\n",
       "  <thead>\n",
       "    <tr style=\"text-align: right;\">\n",
       "      <th></th>\n",
       "      <th>book_id</th>\n",
       "      <th>goodreads_book_id</th>\n",
       "      <th>best_book_id</th>\n",
       "      <th>work_id</th>\n",
       "      <th>books_count</th>\n",
       "      <th>isbn</th>\n",
       "      <th>isbn13</th>\n",
       "      <th>authors</th>\n",
       "      <th>original_publication_year</th>\n",
       "      <th>original_title</th>\n",
       "      <th>...</th>\n",
       "      <th>ratings_count</th>\n",
       "      <th>work_ratings_count</th>\n",
       "      <th>work_text_reviews_count</th>\n",
       "      <th>ratings_1</th>\n",
       "      <th>ratings_2</th>\n",
       "      <th>ratings_3</th>\n",
       "      <th>ratings_4</th>\n",
       "      <th>ratings_5</th>\n",
       "      <th>image_url</th>\n",
       "      <th>small_image_url</th>\n",
       "    </tr>\n",
       "  </thead>\n",
       "  <tbody>\n",
       "    <tr>\n",
       "      <th>0</th>\n",
       "      <td>1</td>\n",
       "      <td>2767052</td>\n",
       "      <td>2767052</td>\n",
       "      <td>2792775</td>\n",
       "      <td>272</td>\n",
       "      <td>439023483</td>\n",
       "      <td>9.780439e+12</td>\n",
       "      <td>Suzanne Collins</td>\n",
       "      <td>2008.0</td>\n",
       "      <td>The Hunger Games</td>\n",
       "      <td>...</td>\n",
       "      <td>4780653</td>\n",
       "      <td>4942365</td>\n",
       "      <td>155254</td>\n",
       "      <td>66715</td>\n",
       "      <td>127936</td>\n",
       "      <td>560092</td>\n",
       "      <td>1481305</td>\n",
       "      <td>2706317</td>\n",
       "      <td>https://images.gr-assets.com/books/1447303603m...</td>\n",
       "      <td>https://images.gr-assets.com/books/1447303603s...</td>\n",
       "    </tr>\n",
       "  </tbody>\n",
       "</table>\n",
       "<p>1 rows × 23 columns</p>\n",
       "</div>"
      ],
      "text/plain": [
       "   book_id  goodreads_book_id  best_book_id  work_id  books_count       isbn  \\\n",
       "0        1            2767052       2767052  2792775          272  439023483   \n",
       "\n",
       "         isbn13          authors  original_publication_year    original_title  \\\n",
       "0  9.780439e+12  Suzanne Collins                     2008.0  The Hunger Games   \n",
       "\n",
       "   ... ratings_count work_ratings_count  work_text_reviews_count  ratings_1  \\\n",
       "0  ...       4780653            4942365                   155254      66715   \n",
       "\n",
       "   ratings_2  ratings_3  ratings_4  ratings_5  \\\n",
       "0     127936     560092    1481305    2706317   \n",
       "\n",
       "                                           image_url  \\\n",
       "0  https://images.gr-assets.com/books/1447303603m...   \n",
       "\n",
       "                                     small_image_url  \n",
       "0  https://images.gr-assets.com/books/1447303603s...  \n",
       "\n",
       "[1 rows x 23 columns]"
      ]
     },
     "execution_count": 23,
     "metadata": {},
     "output_type": "execute_result"
    }
   ],
   "source": [
    "books = pd.read_csv('../data/books.csv')\n",
    "print( f\"shape of the books dataframe is {books.shape}\")\n",
    "books.head(1)"
   ]
  },
  {
   "cell_type": "code",
   "execution_count": 24,
   "metadata": {},
   "outputs": [
    {
     "data": {
      "text/plain": [
       "book_id                         0\n",
       "goodreads_book_id               0\n",
       "best_book_id                    0\n",
       "work_id                         0\n",
       "books_count                     0\n",
       "isbn                          700\n",
       "isbn13                        585\n",
       "authors                         0\n",
       "original_publication_year      21\n",
       "original_title                585\n",
       "title                           0\n",
       "language_code                1084\n",
       "average_rating                  0\n",
       "ratings_count                   0\n",
       "work_ratings_count              0\n",
       "work_text_reviews_count         0\n",
       "ratings_1                       0\n",
       "ratings_2                       0\n",
       "ratings_3                       0\n",
       "ratings_4                       0\n",
       "ratings_5                       0\n",
       "image_url                       0\n",
       "small_image_url                 0\n",
       "dtype: int64"
      ]
     },
     "execution_count": 24,
     "metadata": {},
     "output_type": "execute_result"
    }
   ],
   "source": [
    "books.isna().sum()"
   ]
  },
  {
   "cell_type": "code",
   "execution_count": 25,
   "metadata": {},
   "outputs": [
    {
     "data": {
      "text/html": [
       "<div>\n",
       "<style scoped>\n",
       "    .dataframe tbody tr th:only-of-type {\n",
       "        vertical-align: middle;\n",
       "    }\n",
       "\n",
       "    .dataframe tbody tr th {\n",
       "        vertical-align: top;\n",
       "    }\n",
       "\n",
       "    .dataframe thead th {\n",
       "        text-align: right;\n",
       "    }\n",
       "</style>\n",
       "<table border=\"1\" class=\"dataframe\">\n",
       "  <thead>\n",
       "    <tr style=\"text-align: right;\">\n",
       "      <th></th>\n",
       "      <th>title</th>\n",
       "      <th>original_title</th>\n",
       "    </tr>\n",
       "  </thead>\n",
       "  <tbody>\n",
       "    <tr>\n",
       "      <th>74</th>\n",
       "      <td>Bridget Jones's Diary (Bridget Jones, #1)</td>\n",
       "      <td>NaN</td>\n",
       "    </tr>\n",
       "    <tr>\n",
       "      <th>142</th>\n",
       "      <td>All the Light We Cannot See</td>\n",
       "      <td>NaN</td>\n",
       "    </tr>\n",
       "    <tr>\n",
       "      <th>209</th>\n",
       "      <td>Vampire Academy (Vampire Academy, #1)</td>\n",
       "      <td>NaN</td>\n",
       "    </tr>\n",
       "    <tr>\n",
       "      <th>214</th>\n",
       "      <td>Ready Player One</td>\n",
       "      <td>NaN</td>\n",
       "    </tr>\n",
       "    <tr>\n",
       "      <th>256</th>\n",
       "      <td>Alice in Wonderland</td>\n",
       "      <td>NaN</td>\n",
       "    </tr>\n",
       "    <tr>\n",
       "      <th>...</th>\n",
       "      <td>...</td>\n",
       "      <td>...</td>\n",
       "    </tr>\n",
       "    <tr>\n",
       "      <th>9942</th>\n",
       "      <td>Sherlock Holmes and the Case of the Hound of t...</td>\n",
       "      <td>NaN</td>\n",
       "    </tr>\n",
       "    <tr>\n",
       "      <th>9944</th>\n",
       "      <td>Rock Bottom (Tristan &amp; Danika, #2)</td>\n",
       "      <td>NaN</td>\n",
       "    </tr>\n",
       "    <tr>\n",
       "      <th>9956</th>\n",
       "      <td>Inside of a Dog: What Dogs See, Smell, and Know</td>\n",
       "      <td>NaN</td>\n",
       "    </tr>\n",
       "    <tr>\n",
       "      <th>9957</th>\n",
       "      <td>The Pacific</td>\n",
       "      <td>NaN</td>\n",
       "    </tr>\n",
       "    <tr>\n",
       "      <th>9970</th>\n",
       "      <td>The Tycoon's Revenge (Baby for the Billionaire...</td>\n",
       "      <td>NaN</td>\n",
       "    </tr>\n",
       "  </tbody>\n",
       "</table>\n",
       "<p>585 rows × 2 columns</p>\n",
       "</div>"
      ],
      "text/plain": [
       "                                                  title original_title\n",
       "74            Bridget Jones's Diary (Bridget Jones, #1)            NaN\n",
       "142                         All the Light We Cannot See            NaN\n",
       "209               Vampire Academy (Vampire Academy, #1)            NaN\n",
       "214                                    Ready Player One            NaN\n",
       "256                                 Alice in Wonderland            NaN\n",
       "...                                                 ...            ...\n",
       "9942  Sherlock Holmes and the Case of the Hound of t...            NaN\n",
       "9944                 Rock Bottom (Tristan & Danika, #2)            NaN\n",
       "9956    Inside of a Dog: What Dogs See, Smell, and Know            NaN\n",
       "9957                                        The Pacific            NaN\n",
       "9970  The Tycoon's Revenge (Baby for the Billionaire...            NaN\n",
       "\n",
       "[585 rows x 2 columns]"
      ]
     },
     "execution_count": 25,
     "metadata": {},
     "output_type": "execute_result"
    }
   ],
   "source": [
    "books[books['original_title'].isna()][['title','original_title']]"
   ]
  },
  {
   "cell_type": "code",
   "execution_count": 26,
   "metadata": {},
   "outputs": [
    {
     "ename": "KeyError",
     "evalue": "'description'",
     "output_type": "error",
     "traceback": [
      "\u001b[0;31m---------------------------------------------------------------------------\u001b[0m",
      "\u001b[0;31mKeyError\u001b[0m                                  Traceback (most recent call last)",
      "\u001b[0;32m~/opt/anaconda3/lib/python3.7/site-packages/pandas/core/indexes/base.py\u001b[0m in \u001b[0;36mget_loc\u001b[0;34m(self, key, method, tolerance)\u001b[0m\n\u001b[1;32m   2896\u001b[0m             \u001b[0;32mtry\u001b[0m\u001b[0;34m:\u001b[0m\u001b[0;34m\u001b[0m\u001b[0;34m\u001b[0m\u001b[0m\n\u001b[0;32m-> 2897\u001b[0;31m                 \u001b[0;32mreturn\u001b[0m \u001b[0mself\u001b[0m\u001b[0;34m.\u001b[0m\u001b[0m_engine\u001b[0m\u001b[0;34m.\u001b[0m\u001b[0mget_loc\u001b[0m\u001b[0;34m(\u001b[0m\u001b[0mkey\u001b[0m\u001b[0;34m)\u001b[0m\u001b[0;34m\u001b[0m\u001b[0;34m\u001b[0m\u001b[0m\n\u001b[0m\u001b[1;32m   2898\u001b[0m             \u001b[0;32mexcept\u001b[0m \u001b[0mKeyError\u001b[0m\u001b[0;34m:\u001b[0m\u001b[0;34m\u001b[0m\u001b[0;34m\u001b[0m\u001b[0m\n",
      "\u001b[0;32mpandas/_libs/index.pyx\u001b[0m in \u001b[0;36mpandas._libs.index.IndexEngine.get_loc\u001b[0;34m()\u001b[0m\n",
      "\u001b[0;32mpandas/_libs/index.pyx\u001b[0m in \u001b[0;36mpandas._libs.index.IndexEngine.get_loc\u001b[0;34m()\u001b[0m\n",
      "\u001b[0;32mpandas/_libs/hashtable_class_helper.pxi\u001b[0m in \u001b[0;36mpandas._libs.hashtable.PyObjectHashTable.get_item\u001b[0;34m()\u001b[0m\n",
      "\u001b[0;32mpandas/_libs/hashtable_class_helper.pxi\u001b[0m in \u001b[0;36mpandas._libs.hashtable.PyObjectHashTable.get_item\u001b[0;34m()\u001b[0m\n",
      "\u001b[0;31mKeyError\u001b[0m: 'description'",
      "\nDuring handling of the above exception, another exception occurred:\n",
      "\u001b[0;31mKeyError\u001b[0m                                  Traceback (most recent call last)",
      "\u001b[0;32m<ipython-input-26-785eb0a9c25a>\u001b[0m in \u001b[0;36m<module>\u001b[0;34m\u001b[0m\n\u001b[1;32m      4\u001b[0m     \u001b[0;32mreturn\u001b[0m \u001b[0mmissing_desc_books\u001b[0m\u001b[0;34m\u001b[0m\u001b[0;34m\u001b[0m\u001b[0m\n\u001b[1;32m      5\u001b[0m \u001b[0;34m\u001b[0m\u001b[0m\n\u001b[0;32m----> 6\u001b[0;31m \u001b[0mget_book_id_list_for_missing_column\u001b[0m\u001b[0;34m(\u001b[0m\u001b[0;34m'description'\u001b[0m\u001b[0;34m)\u001b[0m\u001b[0;34m\u001b[0m\u001b[0;34m\u001b[0m\u001b[0m\n\u001b[0m",
      "\u001b[0;32m<ipython-input-26-785eb0a9c25a>\u001b[0m in \u001b[0;36mget_book_id_list_for_missing_column\u001b[0;34m(column)\u001b[0m\n\u001b[1;32m      1\u001b[0m \u001b[0;32mdef\u001b[0m \u001b[0mget_book_id_list_for_missing_column\u001b[0m\u001b[0;34m(\u001b[0m\u001b[0mcolumn\u001b[0m\u001b[0;34m)\u001b[0m\u001b[0;34m:\u001b[0m\u001b[0;34m\u001b[0m\u001b[0;34m\u001b[0m\u001b[0m\n\u001b[0;32m----> 2\u001b[0;31m     \u001b[0mbooks\u001b[0m\u001b[0;34m[\u001b[0m\u001b[0mcolumn\u001b[0m\u001b[0;34m]\u001b[0m\u001b[0;34m.\u001b[0m\u001b[0misna\u001b[0m\u001b[0;34m(\u001b[0m\u001b[0;34m)\u001b[0m\u001b[0;34m.\u001b[0m\u001b[0msum\u001b[0m\u001b[0;34m(\u001b[0m\u001b[0;34m)\u001b[0m\u001b[0;34m\u001b[0m\u001b[0;34m\u001b[0m\u001b[0m\n\u001b[0m\u001b[1;32m      3\u001b[0m     \u001b[0mmissing_desc_books\u001b[0m \u001b[0;34m=\u001b[0m \u001b[0mbooks\u001b[0m\u001b[0;34m[\u001b[0m\u001b[0mbooks\u001b[0m\u001b[0;34m[\u001b[0m\u001b[0mcolumn\u001b[0m\u001b[0;34m]\u001b[0m\u001b[0;34m.\u001b[0m\u001b[0misna\u001b[0m\u001b[0;34m(\u001b[0m\u001b[0;34m)\u001b[0m\u001b[0;34m]\u001b[0m\u001b[0;34m[\u001b[0m\u001b[0;34m'book_id'\u001b[0m\u001b[0;34m]\u001b[0m\u001b[0;34m.\u001b[0m\u001b[0mvalues\u001b[0m\u001b[0;34m\u001b[0m\u001b[0;34m\u001b[0m\u001b[0m\n\u001b[1;32m      4\u001b[0m     \u001b[0;32mreturn\u001b[0m \u001b[0mmissing_desc_books\u001b[0m\u001b[0;34m\u001b[0m\u001b[0;34m\u001b[0m\u001b[0m\n\u001b[1;32m      5\u001b[0m \u001b[0;34m\u001b[0m\u001b[0m\n",
      "\u001b[0;32m~/opt/anaconda3/lib/python3.7/site-packages/pandas/core/frame.py\u001b[0m in \u001b[0;36m__getitem__\u001b[0;34m(self, key)\u001b[0m\n\u001b[1;32m   2993\u001b[0m             \u001b[0;32mif\u001b[0m \u001b[0mself\u001b[0m\u001b[0;34m.\u001b[0m\u001b[0mcolumns\u001b[0m\u001b[0;34m.\u001b[0m\u001b[0mnlevels\u001b[0m \u001b[0;34m>\u001b[0m \u001b[0;36m1\u001b[0m\u001b[0;34m:\u001b[0m\u001b[0;34m\u001b[0m\u001b[0;34m\u001b[0m\u001b[0m\n\u001b[1;32m   2994\u001b[0m                 \u001b[0;32mreturn\u001b[0m \u001b[0mself\u001b[0m\u001b[0;34m.\u001b[0m\u001b[0m_getitem_multilevel\u001b[0m\u001b[0;34m(\u001b[0m\u001b[0mkey\u001b[0m\u001b[0;34m)\u001b[0m\u001b[0;34m\u001b[0m\u001b[0;34m\u001b[0m\u001b[0m\n\u001b[0;32m-> 2995\u001b[0;31m             \u001b[0mindexer\u001b[0m \u001b[0;34m=\u001b[0m \u001b[0mself\u001b[0m\u001b[0;34m.\u001b[0m\u001b[0mcolumns\u001b[0m\u001b[0;34m.\u001b[0m\u001b[0mget_loc\u001b[0m\u001b[0;34m(\u001b[0m\u001b[0mkey\u001b[0m\u001b[0;34m)\u001b[0m\u001b[0;34m\u001b[0m\u001b[0;34m\u001b[0m\u001b[0m\n\u001b[0m\u001b[1;32m   2996\u001b[0m             \u001b[0;32mif\u001b[0m \u001b[0mis_integer\u001b[0m\u001b[0;34m(\u001b[0m\u001b[0mindexer\u001b[0m\u001b[0;34m)\u001b[0m\u001b[0;34m:\u001b[0m\u001b[0;34m\u001b[0m\u001b[0;34m\u001b[0m\u001b[0m\n\u001b[1;32m   2997\u001b[0m                 \u001b[0mindexer\u001b[0m \u001b[0;34m=\u001b[0m \u001b[0;34m[\u001b[0m\u001b[0mindexer\u001b[0m\u001b[0;34m]\u001b[0m\u001b[0;34m\u001b[0m\u001b[0;34m\u001b[0m\u001b[0m\n",
      "\u001b[0;32m~/opt/anaconda3/lib/python3.7/site-packages/pandas/core/indexes/base.py\u001b[0m in \u001b[0;36mget_loc\u001b[0;34m(self, key, method, tolerance)\u001b[0m\n\u001b[1;32m   2897\u001b[0m                 \u001b[0;32mreturn\u001b[0m \u001b[0mself\u001b[0m\u001b[0;34m.\u001b[0m\u001b[0m_engine\u001b[0m\u001b[0;34m.\u001b[0m\u001b[0mget_loc\u001b[0m\u001b[0;34m(\u001b[0m\u001b[0mkey\u001b[0m\u001b[0;34m)\u001b[0m\u001b[0;34m\u001b[0m\u001b[0;34m\u001b[0m\u001b[0m\n\u001b[1;32m   2898\u001b[0m             \u001b[0;32mexcept\u001b[0m \u001b[0mKeyError\u001b[0m\u001b[0;34m:\u001b[0m\u001b[0;34m\u001b[0m\u001b[0;34m\u001b[0m\u001b[0m\n\u001b[0;32m-> 2899\u001b[0;31m                 \u001b[0;32mreturn\u001b[0m \u001b[0mself\u001b[0m\u001b[0;34m.\u001b[0m\u001b[0m_engine\u001b[0m\u001b[0;34m.\u001b[0m\u001b[0mget_loc\u001b[0m\u001b[0;34m(\u001b[0m\u001b[0mself\u001b[0m\u001b[0;34m.\u001b[0m\u001b[0m_maybe_cast_indexer\u001b[0m\u001b[0;34m(\u001b[0m\u001b[0mkey\u001b[0m\u001b[0;34m)\u001b[0m\u001b[0;34m)\u001b[0m\u001b[0;34m\u001b[0m\u001b[0;34m\u001b[0m\u001b[0m\n\u001b[0m\u001b[1;32m   2900\u001b[0m         \u001b[0mindexer\u001b[0m \u001b[0;34m=\u001b[0m \u001b[0mself\u001b[0m\u001b[0;34m.\u001b[0m\u001b[0mget_indexer\u001b[0m\u001b[0;34m(\u001b[0m\u001b[0;34m[\u001b[0m\u001b[0mkey\u001b[0m\u001b[0;34m]\u001b[0m\u001b[0;34m,\u001b[0m \u001b[0mmethod\u001b[0m\u001b[0;34m=\u001b[0m\u001b[0mmethod\u001b[0m\u001b[0;34m,\u001b[0m \u001b[0mtolerance\u001b[0m\u001b[0;34m=\u001b[0m\u001b[0mtolerance\u001b[0m\u001b[0;34m)\u001b[0m\u001b[0;34m\u001b[0m\u001b[0;34m\u001b[0m\u001b[0m\n\u001b[1;32m   2901\u001b[0m         \u001b[0;32mif\u001b[0m \u001b[0mindexer\u001b[0m\u001b[0;34m.\u001b[0m\u001b[0mndim\u001b[0m \u001b[0;34m>\u001b[0m \u001b[0;36m1\u001b[0m \u001b[0;32mor\u001b[0m \u001b[0mindexer\u001b[0m\u001b[0;34m.\u001b[0m\u001b[0msize\u001b[0m \u001b[0;34m>\u001b[0m \u001b[0;36m1\u001b[0m\u001b[0;34m:\u001b[0m\u001b[0;34m\u001b[0m\u001b[0;34m\u001b[0m\u001b[0m\n",
      "\u001b[0;32mpandas/_libs/index.pyx\u001b[0m in \u001b[0;36mpandas._libs.index.IndexEngine.get_loc\u001b[0;34m()\u001b[0m\n",
      "\u001b[0;32mpandas/_libs/index.pyx\u001b[0m in \u001b[0;36mpandas._libs.index.IndexEngine.get_loc\u001b[0;34m()\u001b[0m\n",
      "\u001b[0;32mpandas/_libs/hashtable_class_helper.pxi\u001b[0m in \u001b[0;36mpandas._libs.hashtable.PyObjectHashTable.get_item\u001b[0;34m()\u001b[0m\n",
      "\u001b[0;32mpandas/_libs/hashtable_class_helper.pxi\u001b[0m in \u001b[0;36mpandas._libs.hashtable.PyObjectHashTable.get_item\u001b[0;34m()\u001b[0m\n",
      "\u001b[0;31mKeyError\u001b[0m: 'description'"
     ]
    }
   ],
   "source": [
    "def get_book_id_list_for_missing_column(column):\n",
    "    books[column].isna().sum()\n",
    "    missing_desc_books = books[books[column].isna()]['book_id'].values\n",
    "    return missing_desc_books\n",
    "\n",
    "get_book_id_list_for_missing_column('description')"
   ]
  },
  {
   "cell_type": "code",
   "execution_count": 9,
   "metadata": {},
   "outputs": [
    {
     "data": {
      "text/plain": [
       "array([], dtype=int64)"
      ]
     },
     "execution_count": 9,
     "metadata": {},
     "output_type": "execute_result"
    }
   ],
   "source": [
    "missing_isbn_list = get_book_id_list_for_missing_column('isbn')\n",
    "missing_isbn_list"
   ]
  },
  {
   "cell_type": "code",
   "execution_count": 12,
   "metadata": {},
   "outputs": [
    {
     "data": {
      "text/plain": [
       "700"
      ]
     },
     "execution_count": 12,
     "metadata": {},
     "output_type": "execute_result"
    }
   ],
   "source": [
    "# get  missing ISBN numbers\n",
    "for i in missing_isbn_list:\n",
    "    goodreads_book_id = books.loc[books['book_id'] == i,'goodreads_book_id'].values[0]\n",
    "    try:\n",
    "        book_obj= get_book(goodreads_book_id)\n",
    "        books.loc[books['book_id'] == i,'isbn']= book_obj.isbn\n",
    "    except:  \n",
    "        books.loc[books['book_id'] == i,'isbn']= 0\n",
    "len(books[books['isbn']==0])"
   ]
  },
  {
   "cell_type": "code",
   "execution_count": 27,
   "metadata": {},
   "outputs": [
    {
     "name": "stdout",
     "output_type": "stream",
     "text": [
      "728,Brown Bear, Brown Bear, What Do You See?\n",
      "977,Inferno\n",
      "992,The Twilight Saga (Twilight, #1-4)\n",
      "994,All Creatures Great and Small (All Creatures Great and Small, #1)\n",
      "1108,The Complete Fairy Tales\n",
      "1113,Thus Spoke Zarathustra\n",
      "1329,Howl and Other Poems\n",
      "1338,The Book of Mormon: Another Testament of Jesus Christ\n",
      "1382,Anne Rice's The Vampire Lestat: A Graphic Novel\n",
      "1432,The Communist Manifesto\n",
      "failed to parse 1475\n",
      "1666,Shakespeare's Sonnets\n",
      "1679,Leaves of Grass\n",
      "1691,Narrative of the Life of Frederick Douglass\n",
      "1754,The Mortal Instruments Boxed Set: City of Bones; City of Ashes; City of Glass (The Mortal Instruments, #1-3)\n",
      "1935,Kindle Paperwhite User's Guide\n",
      "2068,Out of the Dust\n",
      "2100,Batman: The Dark Knight Returns #1\n",
      "failed to parse 2139\n",
      "failed to parse 2151\n",
      "2397,The Further Adventures of Sherlock Holmes: After Sir Arthur Conan Doyle (Classic Crime)\n",
      "2680,The Autobiography of Benjamin Franklin\n",
      "2685,Killer (Pretty Little Liars, #6)\n",
      "3054,Harry Potter and the Chamber of Secrets: Sheet Music for Flute with C.D\n",
      "3413,First Things First\n",
      "failed to parse 3438\n",
      "3484,A Modest Proposal\n",
      "3577,The Vampire's Assistant (Cirque du Freak #2)\n",
      "3636,Eragon, Eldest & Brisingr (Inheritance, #1-3)\n",
      "3813,Alice's Adventures in Wonderland & Other Stories\n",
      "4154,Book of Mormon, Doctrine and Covenants, Pearl of Great Price\n",
      "4157,Conversations With God: An Uncommon Dialogue, Book 2\n",
      "4264,ذاكرة الجسد\n",
      "4291,Alice's Adventures in Wonderland: A Pop-Up Adaptation\n",
      "4309,Reviving Ophelia: Saving the Selves of Adolescent Girls\n",
      "4330,The Trial and Death of Socrates (Euthyphro, Apology, Crito, Phaedo (death scene only))\n",
      "4504,Winesburg, Ohio\n",
      "failed to parse 4601\n",
      "4676,1/4 جرام\n",
      "4717,The Shunning (The Heritage of Lancaster County, #1)\n",
      "4835,Sang Pemimpi\n",
      "4980,فوضى الحواس\n",
      "failed to parse 5002\n",
      "5027,Genome: the Autobiography of a Species in 23 Chapters\n",
      "5094,Deceptively Delicious: Simple Secrets to Get Your Kids Eating Good Food\n",
      "5376,The Constitution of the United States of America\n",
      "5540,Antony and Cleopatra\n",
      "failed to parse 5706\n",
      "5802,Arsenic and Old Lace\n",
      "5898,Disney Sleeping Beauty (A Little Golden Book)\n",
      "5914,Quentins\n",
      "5957,The King's Buccaneer (Krondor's Sons, #2)\n",
      "6022,The Complete Poems\n",
      "6141,Harry Potter and the Order of the Phoenix (Harry Potter, #5, Part 1)\n",
      "6240,Conversations With God: An Uncommon Dialogue, Book 3\n",
      "6251,Eiger Dreams: Ventures Among Men and Mountains\n",
      "6372,Heartbreaker (Buchanan-Renard, #1)\n",
      "6457,The Miracle of Forgiveness\n",
      "6514,The Hat\n",
      "6518,Food Inc.: A Participant Guide: How Industrial Food is Making Us Sicker, Fatter, and Poorer-And What You Can Do About It\n",
      "6524,The Imitation of Christ\n",
      "6530,Titus Andronicus\n",
      "6561,Eyes of Prey (Lucas Davenport, #3)\n",
      "6586,Figure Drawing for All It's Worth (How to draw and paint)\n",
      "6778,Madeline and the Bad Hat\n",
      "6938,Running Out of Time\n",
      "6959,Runaway Ralph (Ralph S. Mouse, #2)\n",
      "failed to parse 7114\n",
      "failed to parse 7196\n",
      "7239,Personal History\n",
      "7263,The Past Through Tomorrow (Future History, #1-21)\n",
      "7428,Two Treatises of Government\n",
      "7484,Filosofi Kopi: Kumpulan Cerita dan Prosa Satu Dekade\n",
      "7767,The Faraway Tree Stories (The Faraway Tree #1-3)\n",
      "7795,Supernova: Akar\n",
      "7803,Kindle User's Guide\n",
      "7813,The Walking Dead, Vol. 11: Fear the Hunters\n",
      "7838,Lady Windermere's Fan\n",
      "7990,An Essay Concerning Human Understanding\n",
      "8011,An Enquiry Concerning Human Understanding\n",
      "8033,The Gift of Therapy: An Open Letter to a New Generation of Therapists and Their Patients\n",
      "8038,The Belgariad Boxed Set: Pawn of Prophecy / Queen of Sorcery / Magician's Gambit / Castle of Wizardry / Enchanters' End Game (The Belgariad, #1-5)\n",
      "8197,The Uglies Trilogy (Uglies, #1-3)\n",
      "8214,Sin City, Vol. 3: The Big Fat Kill (Sin City, #3)\n",
      "8336,ماهی سیاه کوچولو\n",
      "8372,Daun Yang Jatuh Tak Pernah Membenci Angin\n",
      "8390,Philosophical Investigations\n",
      "8441,قمر على سمرقند\n",
      "8472,Metaphysics\n",
      "8665,The Country Mouse and the City Mouse; The Fox and the Crow; The Dog and His Bone\n",
      "8696,Glengarry Glen Ross\n",
      "8755,The Sworn Sword (The Tales of Dunk and Egg, #2)\n",
      "8761,Evil Star (The Gatekeepers, #2)\n",
      "8854,Mark of the Lion Trilogy\n",
      "8880,Transmetropolitan, Vol. 5: Lonely City\n",
      "8903,One Up On Wall Street: How to Use What You Already Know to Make Money in the Market\n",
      "8947,Once a Runner\n",
      "8971,If I Stay Collection (If I Stay, #1-2)\n",
      "9076,Preach My Gospel: A Guide To Missionary Service\n",
      "9120,Pinocchio\n",
      "9137,Tennis Shoes Among the Nephites (Tennis Shoes, #1)\n",
      "9183,13 Hours: The Inside Account of What Really Happened In Benghazi\n",
      "9220,On Becoming Baby Wise: Giving Your Infant the Gift of Nighttime Sleep\n",
      "9241,Truth Will Prevail (The Work and the Glory, #3)\n",
      "9252,Wicked - Piano/Vocal Arrangement\n",
      "9327,Artemis Fowl Boxed Set, Bks 1-5 (Artemis Fowl, #1-5)\n",
      "9343,The Wheel of Time: Boxed Set  (Wheel of Time, #1-8)\n",
      "9555,شاب كشك في رحلة البحث عن الجادون\n",
      "9667,The Gay Science\n",
      "9714,The River Why\n",
      "failed to parse 9816\n",
      "9818,Disney's The Lion King (Disney's Wonderful World of Reading)\n",
      "9900,Guts\n",
      "9974,Anastasia Krupnik (Anastasia Krupnik, #1)\n",
      "9990,The Mambo Kings Play Songs of Love\n"
     ]
    }
   ],
   "source": [
    "#https://betterreads.readthedocs.io/en/latest/book.html\n",
    "#for i in range(1,4000):\n",
    "for i in missing_desc_books:\n",
    "    goodreads_book_id = books.loc[books['book_id'] == i,'goodreads_book_id'].values[0]\n",
    "    try:\n",
    "        book_obj= get_book(goodreads_book_id)\n",
    "        print( f\"{i},{book_obj}\")\n",
    "        books.loc[books['book_id'] == i,'description']= book_obj.description\n",
    "        try:\n",
    "            books.loc[books['book_id'] == i,'num_pages']=  book_obj.num_pages\n",
    "        except:\n",
    "            books.loc[books['book_id'] == i,'num_pages']=  0\n",
    "\n",
    "        books.loc[books['book_id'] == i,'is_ebook']=book_obj.is_ebook  \n",
    "    except:\n",
    "        books.loc[books['book_id'] == i,'num_pages']=  0\n",
    "        books.loc[books['book_id'] == i,'description'] =\"\"\n",
    "        books.loc[books['book_id'] == i,'is_ebook'] =False\n",
    "        print(f\"failed to parse {i}\")"
   ]
  },
  {
   "cell_type": "code",
   "execution_count": 15,
   "metadata": {},
   "outputs": [
    {
     "name": "stdout",
     "output_type": "stream",
     "text": [
      "shape of the books dataframe is (5976479, 3)\n"
     ]
    },
    {
     "data": {
      "text/html": [
       "<div>\n",
       "<style scoped>\n",
       "    .dataframe tbody tr th:only-of-type {\n",
       "        vertical-align: middle;\n",
       "    }\n",
       "\n",
       "    .dataframe tbody tr th {\n",
       "        vertical-align: top;\n",
       "    }\n",
       "\n",
       "    .dataframe thead th {\n",
       "        text-align: right;\n",
       "    }\n",
       "</style>\n",
       "<table border=\"1\" class=\"dataframe\">\n",
       "  <thead>\n",
       "    <tr style=\"text-align: right;\">\n",
       "      <th></th>\n",
       "      <th>user_id</th>\n",
       "      <th>book_id</th>\n",
       "      <th>rating</th>\n",
       "    </tr>\n",
       "  </thead>\n",
       "  <tbody>\n",
       "    <tr>\n",
       "      <th>0</th>\n",
       "      <td>1</td>\n",
       "      <td>258</td>\n",
       "      <td>5</td>\n",
       "    </tr>\n",
       "  </tbody>\n",
       "</table>\n",
       "</div>"
      ],
      "text/plain": [
       "   user_id  book_id  rating\n",
       "0        1      258       5"
      ]
     },
     "execution_count": 15,
     "metadata": {},
     "output_type": "execute_result"
    }
   ],
   "source": [
    "# Read book ratings\n",
    "ratings = pd.read_csv(\"../data/ratings.csv\")\n",
    "print( f\"shape of the books dataframe is {ratings.shape}\")\n",
    "ratings.head(1)"
   ]
  },
  {
   "cell_type": "code",
   "execution_count": 16,
   "metadata": {},
   "outputs": [],
   "source": [
    "books.rename({'original_title':'title'},inplace=True)\n",
    "#books =pd.merge(books,ratings, how ='inner',left_on ='book_id',right_on='book_id')\n",
    "#books.head(1)"
   ]
  },
  {
   "cell_type": "code",
   "execution_count": 17,
   "metadata": {},
   "outputs": [
    {
     "name": "stdout",
     "output_type": "stream",
     "text": [
      "shape of the books dataframe is (999912, 3)\n"
     ]
    },
    {
     "data": {
      "text/html": [
       "<div>\n",
       "<style scoped>\n",
       "    .dataframe tbody tr th:only-of-type {\n",
       "        vertical-align: middle;\n",
       "    }\n",
       "\n",
       "    .dataframe tbody tr th {\n",
       "        vertical-align: top;\n",
       "    }\n",
       "\n",
       "    .dataframe thead th {\n",
       "        text-align: right;\n",
       "    }\n",
       "</style>\n",
       "<table border=\"1\" class=\"dataframe\">\n",
       "  <thead>\n",
       "    <tr style=\"text-align: right;\">\n",
       "      <th></th>\n",
       "      <th>goodreads_book_id</th>\n",
       "      <th>tag_id</th>\n",
       "      <th>count</th>\n",
       "    </tr>\n",
       "  </thead>\n",
       "  <tbody>\n",
       "    <tr>\n",
       "      <th>0</th>\n",
       "      <td>1</td>\n",
       "      <td>30574</td>\n",
       "      <td>167697</td>\n",
       "    </tr>\n",
       "  </tbody>\n",
       "</table>\n",
       "</div>"
      ],
      "text/plain": [
       "   goodreads_book_id  tag_id   count\n",
       "0                  1   30574  167697"
      ]
     },
     "execution_count": 17,
     "metadata": {},
     "output_type": "execute_result"
    }
   ],
   "source": [
    "book_tags = pd.read_csv(\"../data/book_tags.csv\")\n",
    "print( f\"shape of the books dataframe is {book_tags.shape}\")\n",
    "book_tags.head(1)"
   ]
  },
  {
   "cell_type": "code",
   "execution_count": 18,
   "metadata": {},
   "outputs": [
    {
     "name": "stdout",
     "output_type": "stream",
     "text": [
      "shape of the books dataframe is (34252, 2)\n"
     ]
    },
    {
     "data": {
      "text/html": [
       "<div>\n",
       "<style scoped>\n",
       "    .dataframe tbody tr th:only-of-type {\n",
       "        vertical-align: middle;\n",
       "    }\n",
       "\n",
       "    .dataframe tbody tr th {\n",
       "        vertical-align: top;\n",
       "    }\n",
       "\n",
       "    .dataframe thead th {\n",
       "        text-align: right;\n",
       "    }\n",
       "</style>\n",
       "<table border=\"1\" class=\"dataframe\">\n",
       "  <thead>\n",
       "    <tr style=\"text-align: right;\">\n",
       "      <th></th>\n",
       "      <th>tag_id</th>\n",
       "      <th>tag_name</th>\n",
       "    </tr>\n",
       "  </thead>\n",
       "  <tbody>\n",
       "    <tr>\n",
       "      <th>0</th>\n",
       "      <td>0</td>\n",
       "      <td>-</td>\n",
       "    </tr>\n",
       "  </tbody>\n",
       "</table>\n",
       "</div>"
      ],
      "text/plain": [
       "   tag_id tag_name\n",
       "0       0        -"
      ]
     },
     "execution_count": 18,
     "metadata": {},
     "output_type": "execute_result"
    }
   ],
   "source": [
    "tags = pd.read_csv(\"../data/tags.csv\")\n",
    "print( f\"shape of the books dataframe is {tags.shape}\")\n",
    "tags.head(1)"
   ]
  },
  {
   "cell_type": "code",
   "execution_count": 19,
   "metadata": {},
   "outputs": [
    {
     "data": {
      "text/html": [
       "<div>\n",
       "<style scoped>\n",
       "    .dataframe tbody tr th:only-of-type {\n",
       "        vertical-align: middle;\n",
       "    }\n",
       "\n",
       "    .dataframe tbody tr th {\n",
       "        vertical-align: top;\n",
       "    }\n",
       "\n",
       "    .dataframe thead th {\n",
       "        text-align: right;\n",
       "    }\n",
       "</style>\n",
       "<table border=\"1\" class=\"dataframe\">\n",
       "  <thead>\n",
       "    <tr style=\"text-align: right;\">\n",
       "      <th></th>\n",
       "      <th>goodreads_book_id</th>\n",
       "      <th>tag_id</th>\n",
       "      <th>count</th>\n",
       "      <th>tag_name</th>\n",
       "    </tr>\n",
       "  </thead>\n",
       "  <tbody>\n",
       "    <tr>\n",
       "      <th>0</th>\n",
       "      <td>1</td>\n",
       "      <td>30574</td>\n",
       "      <td>167697</td>\n",
       "      <td>to-read</td>\n",
       "    </tr>\n",
       "  </tbody>\n",
       "</table>\n",
       "</div>"
      ],
      "text/plain": [
       "   goodreads_book_id  tag_id   count tag_name\n",
       "0                  1   30574  167697  to-read"
      ]
     },
     "execution_count": 19,
     "metadata": {},
     "output_type": "execute_result"
    }
   ],
   "source": [
    "book_tags =pd.merge(left =book_tags,right=tags, how=\"left\")\n",
    "book_tags.head(1)"
   ]
  },
  {
   "cell_type": "code",
   "execution_count": 20,
   "metadata": {},
   "outputs": [],
   "source": [
    "#books =pd.merge(books,book_tags, how ='inner',left_on ='goodreads_book_id',right_on='goodreads_book_id')\n",
    "#books.head(1)"
   ]
  },
  {
   "cell_type": "code",
   "execution_count": 21,
   "metadata": {},
   "outputs": [],
   "source": [
    "def get_book(id):\n",
    "    book = gc.book(id)\n",
    "    return book"
   ]
  },
  {
   "cell_type": "code",
   "execution_count": 22,
   "metadata": {},
   "outputs": [],
   "source": [
    "books.to_csv(\"../data/books_desc.csv\", index=False)"
   ]
  },
  {
   "cell_type": "code",
   "execution_count": null,
   "metadata": {},
   "outputs": [],
   "source": [
    "# Combine all data frames in to one"
   ]
  },
  {
   "cell_type": "markdown",
   "metadata": {},
   "source": [
    "######  references\n",
    "https://pypi.org/project/Goodreads/\n",
    "\n",
    "https://betterreads.readthedocs.io/en/latest/\n",
    "\n",
    "https://www.kaggle.com/zygmunt/goodbooks-10k"
   ]
  }
 ],
 "metadata": {
  "kernelspec": {
   "display_name": "Python 3",
   "language": "python",
   "name": "python3"
  },
  "language_info": {
   "codemirror_mode": {
    "name": "ipython",
    "version": 3
   },
   "file_extension": ".py",
   "mimetype": "text/x-python",
   "name": "python",
   "nbconvert_exporter": "python",
   "pygments_lexer": "ipython3",
   "version": "3.7.4"
  }
 },
 "nbformat": 4,
 "nbformat_minor": 2
}
