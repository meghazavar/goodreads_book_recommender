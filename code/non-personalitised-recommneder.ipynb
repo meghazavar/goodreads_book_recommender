{
 "cells": [
  {
   "cell_type": "code",
   "execution_count": 1,
   "metadata": {},
   "outputs": [],
   "source": [
    "#https://www.gspann.com/resources/blogs/non-personalized-recommender-systems-in-ecommerce"
   ]
  },
  {
   "cell_type": "code",
   "execution_count": null,
   "metadata": {},
   "outputs": [],
   "source": [
    "Summary statistics\n",
    "– Best-seller; Most popular; Trending Hot\n",
    "– Zagat, Billboard music rankings, TripAdvisor hotel ratings\n",
    "– Knows nothing about the person consuming it\n",
    "– Problem: Averag"
   ]
  }
 ],
 "metadata": {
  "kernelspec": {
   "display_name": "Python 3",
   "language": "python",
   "name": "python3"
  },
  "language_info": {
   "codemirror_mode": {
    "name": "ipython",
    "version": 3
   },
   "file_extension": ".py",
   "mimetype": "text/x-python",
   "name": "python",
   "nbconvert_exporter": "python",
   "pygments_lexer": "ipython3",
   "version": "3.7.4"
  }
 },
 "nbformat": 4,
 "nbformat_minor": 2
}
