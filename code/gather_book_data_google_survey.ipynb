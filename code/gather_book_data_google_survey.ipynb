{
 "cells": [
  {
   "cell_type": "code",
   "execution_count": 15,
   "metadata": {},
   "outputs": [],
   "source": [
    "from __future__ import print_function\n",
    "import gspread\n",
    "from google.oauth2.service_account import Credentials\n",
    "import pandas as pd\n",
    "import json"
   ]
  },
  {
   "cell_type": "code",
   "execution_count": 16,
   "metadata": {},
   "outputs": [],
   "source": [
    "#credentials = service_account.Credentials.from_service_account_file('my_client_secrets.json')"
   ]
  },
  {
   "cell_type": "code",
   "execution_count": 17,
   "metadata": {},
   "outputs": [],
   "source": [
    "scopes =  ['https://spreadsheets.google.com/feeds','https://www.googleapis.com/auth/drive']\n",
    "\n",
    "keyfile_dict = {\n",
    "  \"type\": \"service_account\",\n",
    "  \"project_id\": \"booksurvey\",\n",
    "# removing private key\n",
    " \"client_email\": \"mz-558@booksurvey.iam.gserviceaccount.com\",\n",
    "  \"client_id\": \"112253823112176572851\",\n",
    "  \"auth_uri\": \"https://accounts.google.com/o/oauth2/auth\",\n",
    "  \"token_uri\": \"https://oauth2.googleapis.com/token\",\n",
    "  \"auth_provider_x509_cert_url\": \"https://www.googleapis.com/oauth2/v1/certs\",\n",
    "  \"client_x509_cert_url\": \"https://www.googleapis.com/robot/v1/metadata/x509/mz-558%40booksurvey.iam.gserviceaccount.com\"\n",
    "}"
   ]
  },
  {
   "cell_type": "code",
   "execution_count": 18,
   "metadata": {},
   "outputs": [],
   "source": [
    "credentials = Credentials.from_service_account_info(\n",
    "    keyfile_dict, scopes=scopes)"
   ]
  },
  {
   "cell_type": "code",
   "execution_count": 19,
   "metadata": {},
   "outputs": [],
   "source": [
    "scoped_credentials = credentials.with_scopes(\n",
    "        ['https://spreadsheets.google.com/feeds',\n",
    "         'https://www.googleapis.com/auth/drive']\n",
    "        )"
   ]
  },
  {
   "cell_type": "code",
   "execution_count": 20,
   "metadata": {},
   "outputs": [
    {
     "name": "stdout",
     "output_type": "stream",
     "text": [
      "booksurvey (Responses)\n"
     ]
    }
   ],
   "source": [
    "from google.auth.transport.requests import AuthorizedSession\n",
    "gc = gspread.Client(auth=scoped_credentials)\n",
    "gc.session = AuthorizedSession(scoped_credentials)\n",
    "sheet = gc.open('booksurvey (Responses)')\n",
    "print(sheet.title)"
   ]
  },
  {
   "cell_type": "code",
   "execution_count": 21,
   "metadata": {},
   "outputs": [
    {
     "name": "stdout",
     "output_type": "stream",
     "text": [
      "The following sheets are available\n",
      "booksurvey (Responses) - 1zaaJKZ9_QSBhE3FR_z6jLOM5J0D2O-AtLR-7lWKSeVQ\n"
     ]
    }
   ],
   "source": [
    "print(\"The following sheets are available\")\n",
    "for sheet in gc.openall():\n",
    "    print(\"{} - {}\".format(sheet.title, sheet.id))"
   ]
  },
  {
   "cell_type": "code",
   "execution_count": 22,
   "metadata": {},
   "outputs": [],
   "source": [
    "sheet_m = sheet.sheet1"
   ]
  },
  {
   "cell_type": "code",
   "execution_count": 23,
   "metadata": {},
   "outputs": [],
   "source": [
    "data = pd.DataFrame(sheet_m.get_all_records())"
   ]
  },
  {
   "cell_type": "code",
   "execution_count": 31,
   "metadata": {},
   "outputs": [
    {
     "data": {
      "text/html": [
       "<div>\n",
       "<style scoped>\n",
       "    .dataframe tbody tr th:only-of-type {\n",
       "        vertical-align: middle;\n",
       "    }\n",
       "\n",
       "    .dataframe tbody tr th {\n",
       "        vertical-align: top;\n",
       "    }\n",
       "\n",
       "    .dataframe thead th {\n",
       "        text-align: right;\n",
       "    }\n",
       "</style>\n",
       "<table border=\"1\" class=\"dataframe\">\n",
       "  <thead>\n",
       "    <tr style=\"text-align: right;\">\n",
       "      <th></th>\n",
       "      <th>Timestamp</th>\n",
       "      <th>How do you choose the next book you will read?</th>\n",
       "      <th>Do you prefer recommendations?</th>\n",
       "      <th>What types of genres do you prefer?</th>\n",
       "      <th>What are the top 10 books you like?</th>\n",
       "      <th>What’s on your wishlist right now?</th>\n",
       "      <th>Any additional information you'd like to share on looking for book recommendations?</th>\n",
       "    </tr>\n",
       "  </thead>\n",
       "  <tbody>\n",
       "    <tr>\n",
       "      <th>1</th>\n",
       "      <td>3/10/2020 12:07:30</td>\n",
       "      <td>I have an ongoing list. Mostly from recommenda...</td>\n",
       "      <td>yes</td>\n",
       "      <td>Action and Adventure, clasics, self-help</td>\n",
       "      <td>Ethics and Data Science: O’Reilly media\\nDeep ...</td>\n",
       "      <td>Story Telling with Data: Cole Nussbaumer Knaflic</td>\n",
       "      <td>not right now</td>\n",
       "    </tr>\n",
       "  </tbody>\n",
       "</table>\n",
       "</div>"
      ],
      "text/plain": [
       "            Timestamp     How do you choose the next book you will read?  \\\n",
       "1  3/10/2020 12:07:30  I have an ongoing list. Mostly from recommenda...   \n",
       "\n",
       "  Do you prefer recommendations?      What types of genres do you prefer?   \\\n",
       "1                            yes  Action and Adventure, clasics, self-help   \n",
       "\n",
       "                 What are the top 10 books you like?  \\\n",
       "1  Ethics and Data Science: O’Reilly media\\nDeep ...   \n",
       "\n",
       "                 What’s on your wishlist right now?  \\\n",
       "1  Story Telling with Data: Cole Nussbaumer Knaflic   \n",
       "\n",
       "  Any additional information you'd like to share on looking for book recommendations?  \n",
       "1                                      not right now                                   "
      ]
     },
     "execution_count": 31,
     "metadata": {},
     "output_type": "execute_result"
    }
   ],
   "source": [
    "data[data['Do you prefer recommendations?'] =='yes']\n"
   ]
  },
  {
   "cell_type": "code",
   "execution_count": null,
   "metadata": {},
   "outputs": [],
   "source": []
  }
 ],
 "metadata": {
  "kernelspec": {
   "display_name": "Python 3",
   "language": "python",
   "name": "python3"
  },
  "language_info": {
   "codemirror_mode": {
    "name": "ipython",
    "version": 3
   },
   "file_extension": ".py",
   "mimetype": "text/x-python",
   "name": "python",
   "nbconvert_exporter": "python",
   "pygments_lexer": "ipython3",
   "version": "3.7.4"
  }
 },
 "nbformat": 4,
 "nbformat_minor": 2
}
