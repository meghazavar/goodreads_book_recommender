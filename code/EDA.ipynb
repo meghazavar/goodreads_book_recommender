{
 "cells": [
  {
   "cell_type": "markdown",
   "metadata": {},
   "source": [
    "# Import packages"
   ]
  },
  {
   "cell_type": "code",
   "execution_count": 81,
   "metadata": {},
   "outputs": [],
   "source": [
    "import pandas as pd \n",
    "import chart_studio.plotly as py \n",
    "import plotly.graph_objs as go \n",
    "import plotly.express as px\n",
    "import matplotlib.pyplot as plt\n",
    "%matplotlib inline\n",
    "import numpy as np\n"
   ]
  },
  {
   "cell_type": "markdown",
   "metadata": {},
   "source": [
    "# Import books review data"
   ]
  },
  {
   "cell_type": "code",
   "execution_count": 5,
   "metadata": {},
   "outputs": [
    {
     "name": "stdout",
     "output_type": "stream",
     "text": [
      "(13719, 11)\n",
      " \n"
     ]
    },
    {
     "data": {
      "text/html": [
       "<div>\n",
       "<style scoped>\n",
       "    .dataframe tbody tr th:only-of-type {\n",
       "        vertical-align: middle;\n",
       "    }\n",
       "\n",
       "    .dataframe tbody tr th {\n",
       "        vertical-align: top;\n",
       "    }\n",
       "\n",
       "    .dataframe thead th {\n",
       "        text-align: right;\n",
       "    }\n",
       "</style>\n",
       "<table border=\"1\" class=\"dataframe\">\n",
       "  <thead>\n",
       "    <tr style=\"text-align: right;\">\n",
       "      <th></th>\n",
       "      <th>bookID</th>\n",
       "      <th>title</th>\n",
       "      <th>authors</th>\n",
       "      <th>average_rating</th>\n",
       "      <th>isbn</th>\n",
       "      <th>isbn13</th>\n",
       "      <th>language_code</th>\n",
       "      <th># num_pages</th>\n",
       "      <th>ratings_count</th>\n",
       "      <th>text_reviews_count</th>\n",
       "      <th>dontcare</th>\n",
       "    </tr>\n",
       "  </thead>\n",
       "  <tbody>\n",
       "    <tr>\n",
       "      <th>0</th>\n",
       "      <td>1</td>\n",
       "      <td>Harry Potter and the Half-Blood Prince (Harry ...</td>\n",
       "      <td>J.K. Rowling-Mary GrandPré</td>\n",
       "      <td>4.56</td>\n",
       "      <td>0439785960</td>\n",
       "      <td>9780439785969</td>\n",
       "      <td>eng</td>\n",
       "      <td>652</td>\n",
       "      <td>1944099</td>\n",
       "      <td>26249</td>\n",
       "      <td>NaN</td>\n",
       "    </tr>\n",
       "  </tbody>\n",
       "</table>\n",
       "</div>"
      ],
      "text/plain": [
       "   bookID                                              title  \\\n",
       "0       1  Harry Potter and the Half-Blood Prince (Harry ...   \n",
       "\n",
       "                      authors average_rating        isbn         isbn13  \\\n",
       "0  J.K. Rowling-Mary GrandPré           4.56  0439785960  9780439785969   \n",
       "\n",
       "  language_code # num_pages  ratings_count  text_reviews_count  dontcare  \n",
       "0           eng         652        1944099               26249       NaN  "
      ]
     },
     "execution_count": 5,
     "metadata": {},
     "output_type": "execute_result"
    }
   ],
   "source": [
    "books = pd.read_csv('../data/books.csv')\n",
    "books.head(1)"
   ]
  },
  {
   "cell_type": "markdown",
   "metadata": {},
   "source": [
    "# High level glance at Data"
   ]
  },
  {
   "cell_type": "markdown",
   "metadata": {},
   "source": [
    "## Data dictionary"
   ]
  },
  {
   "cell_type": "markdown",
   "metadata": {},
   "source": [
    "*isbn13A 13-digit ISBN to identify the book, instead of the standard 11-digit ISBN.\n",
    "\n",
    "*language_code -Helps understand what is the primary language of the book. For instance, eng is standard for English.\n",
    "\n",
    "*num_pages-Number of pages the book contains.\n",
    "\n",
    "*ratings_count -Total number of ratings the book received.\n",
    "\n",
    "*text_reviews_count -Total number of written text reviews the book received.\n"
   ]
  },
  {
   "cell_type": "markdown",
   "metadata": {},
   "source": [
    "We have around 13719  book reviews, from  7605 different authors."
   ]
  },
  {
   "cell_type": "code",
   "execution_count": 99,
   "metadata": {},
   "outputs": [
    {
     "data": {
      "text/plain": [
       "title                  object\n",
       "authors                object\n",
       "average_rating        float64\n",
       "isbn                   object\n",
       "language_code          object\n",
       "num_pages             float64\n",
       "ratings_count           int64\n",
       "text_reviews_count      int64\n",
       "dtype: object"
      ]
     },
     "execution_count": 99,
     "metadata": {},
     "output_type": "execute_result"
    }
   ],
   "source": [
    "books.dtypes"
   ]
  },
  {
   "cell_type": "markdown",
   "metadata": {},
   "source": [
    "### Are the books unique ?\n",
    "\n",
    "we have books unique isbn numbers  but  they have similar titles.\n",
    "I am little wary of this data set now. It might  be a good  for proof of concept but  we may need to get cleaner data."
   ]
  },
  {
   "cell_type": "code",
   "execution_count": 93,
   "metadata": {},
   "outputs": [
    {
     "data": {
      "text/plain": [
       "0"
      ]
     },
     "execution_count": 93,
     "metadata": {},
     "output_type": "execute_result"
    }
   ],
   "source": [
    "books_with_same_isbn =(books['isbn'].value_counts() >1) ==True\n",
    "len(books_with_same_isbn.index [books_with_same_isbn >1])"
   ]
  },
  {
   "cell_type": "code",
   "execution_count": 94,
   "metadata": {},
   "outputs": [
    {
     "data": {
      "text/plain": [
       "766"
      ]
     },
     "execution_count": 94,
     "metadata": {},
     "output_type": "execute_result"
    }
   ],
   "source": [
    "books_with_same_title = (books['title'].value_counts()  )\n",
    "len(books_with_same_title.index[books_with_same_title >1])"
   ]
  },
  {
   "cell_type": "code",
   "execution_count": 113,
   "metadata": {},
   "outputs": [],
   "source": [
    "dup_books =books_with_same_title.index[books_with_same_title >1]\n",
    "\n",
    "#for book in dup_books:\n",
    "    #print( books[books['title'] == book]['authors'])\n",
    "    #print(\"-----------------------------------\")"
   ]
  },
  {
   "cell_type": "code",
   "execution_count": 96,
   "metadata": {},
   "outputs": [],
   "source": [
    "# write Code to delete duplicate books \n",
    "\n",
    "# compare title \n",
    "#compare author\n",
    "# compare rating \n"
   ]
  },
  {
   "cell_type": "code",
   "execution_count": 97,
   "metadata": {},
   "outputs": [
    {
     "name": "stdout",
     "output_type": "stream",
     "text": [
      " confirming we have no  Nans 0\n",
      " confirming we have books with zeros pages 85\n"
     ]
    }
   ],
   "source": [
    "# renaming the. column so that naming style is consisten with other column names\n",
    "books.rename(columns ={'# num_pages' : 'num_pages'}, inplace=True)\n",
    "books['num_pages']=  pd.to_numeric(books['num_pages'], errors='coerce')\n",
    "books['num_pages'].value_counts().sort_values(ascending =False)\n",
    "print(f\" confirming we have no  Nans {books['average_rating'].isnull().sum()}\")\n",
    "print(f\" confirming we have books with zeros pages {len(books[books['num_pages'] ==0])}\")"
   ]
  },
  {
   "cell_type": "code",
   "execution_count": 98,
   "metadata": {},
   "outputs": [],
   "source": [
    "#Dropping the last corrupted columns which has only handful of values\n",
    "books = books.drop(['dontcare','isbn13','bookID'], axis =1)\n",
    "\n",
    "# Dropping the 5 rowes which has average rating as non-integer value\n",
    "books= books[~books['average_rating'].isnull()]\n",
    "books['average_rating'] =  pd.to_numeric(books['average_rating'],errors='coerce')"
   ]
  },
  {
   "cell_type": "markdown",
   "metadata": {},
   "source": [
    "###  What language the books are in ?"
   ]
  },
  {
   "cell_type": "code",
   "execution_count": 54,
   "metadata": {},
   "outputs": [
    {
     "data": {
      "text/plain": [
       "eng              10594\n",
       "en-US             1699\n",
       "spa                419\n",
       "en-GB              341\n",
       "ger                238\n",
       "fre                209\n",
       "jpn                 64\n",
       "por                 27\n",
       "mul                 21\n",
       "ita                 19\n",
       "zho                 16\n",
       "grc                 12\n",
       "en-CA                9\n",
       "nl                   7\n",
       "rus                  7\n",
       "swe                  6\n",
       "glg                  4\n",
       "enm                  3\n",
       "lat                  3\n",
       "cat                  3\n",
       "tur                  3\n",
       "ara                  2\n",
       "9781857237252        1\n",
       "msa                  1\n",
       "heb                  1\n",
       "gla                  1\n",
       "nor                  1\n",
       "ale                  1\n",
       "9780851742717        1\n",
       "srp                  1\n",
       "wel                  1\n",
       "dan                  1\n",
       "9781563841552        1\n",
       "9781593600112        1\n",
       "9780674842113        1\n",
       "Name: language_code, dtype: int64"
      ]
     },
     "execution_count": 54,
     "metadata": {},
     "output_type": "execute_result"
    }
   ],
   "source": [
    "books['language_code'].value_counts()"
   ]
  },
  {
   "cell_type": "markdown",
   "metadata": {},
   "source": [
    "### Average length of books?"
   ]
  },
  {
   "cell_type": "code",
   "execution_count": 125,
   "metadata": {},
   "outputs": [],
   "source": [
    "def plot_distribution(column, title,xlabel,xstart,x_end,stepsize, bins =50):\n",
    "    plt.figure(figsize=(16,10))\n",
    "    plt.hist(books[column], bins)\n",
    "    plt.gca().set(title='Most Books are 150-400 pages', ylabel='Count of books');\n",
    "    plt.xlim(xstart,x_end)\n",
    "    plt.xticks(np.arange(xstart, x_end, step=stepsize));\n",
    "    plt.axvline(books['num_pages'].mean(), color='r',label =\"average length\")"
   ]
  },
  {
   "cell_type": "code",
   "execution_count": 126,
   "metadata": {},
   "outputs": [
    {
     "data": {
      "image/png": "[encoded data removed]",
      "text/plain": [
       "<Figure size 1152x720 with 1 Axes>"
      ]
     },
     "metadata": {
      "needs_background": "light"
     },
     "output_type": "display_data"
    }
   ],
   "source": [
    "plot_distribution('num_pages',\"length in pages\",'Average lenth of a book is around 350 pages',0,1900,100)"
   ]
  },
  {
   "cell_type": "markdown",
   "metadata": {},
   "source": [
    "### Do we have enough book ratings?"
   ]
  },
  {
   "cell_type": "code",
   "execution_count": 177,
   "metadata": {},
   "outputs": [],
   "source": [
    "def reviewer_category(ratings_count):\n",
    "    if ratings_count <10 :\n",
    "        return('<10')\n",
    "    elif ratings_count < 100:\n",
    "        return('11-100')\n",
    "    elif ratings_count <= 1000:\n",
    "        return('101-1000')\n",
    "    else:\n",
    "         return('>1000')\n",
    " "
   ]
  },
  {
   "cell_type": "code",
   "execution_count": 178,
   "metadata": {},
   "outputs": [
    {
     "data": {
      "text/plain": [
       ">1000       6059\n",
       "101-1000    3941\n",
       "11-100      2736\n",
       "<10          983\n",
       "Name: ratings_weight, dtype: int64"
      ]
     },
     "execution_count": 178,
     "metadata": {},
     "output_type": "execute_result"
    }
   ],
   "source": [
    "books['ratings_weight'] =books['ratings_count'].map(reviewer_category)\n",
    "books['ratings_weight'].value_counts()"
   ]
  },
  {
   "cell_type": "code",
   "execution_count": 182,
   "metadata": {},
   "outputs": [
    {
     "data": {
      "text/plain": [
       "Text(0.5, 1.0, 'Do we have enough people rate the books ?')"
      ]
     },
     "execution_count": 182,
     "metadata": {},
     "output_type": "execute_result"
    },
    {
     "data": {
      "image/png": "[encoded data removed]",
      "text/plain": [
       "<Figure size 432x288 with 1 Axes>"
      ]
     },
     "metadata": {
      "needs_background": "light"
     },
     "output_type": "display_data"
    }
   ],
   "source": [
    "plt.bar(books['ratings_weight'].value_counts().index,books['ratings_weight'].value_counts())\n",
    "plt.xlabel(\"Rating count\")\n",
    "plt.ylabel(\"Number of Books\")\n",
    "plt.title(\"Do we have enough people rate the books ?\")"
   ]
  },
  {
   "cell_type": "code",
   "execution_count": 121,
   "metadata": {},
   "outputs": [
    {
     "data": {
      "text/plain": [
       "3         116\n",
       "2         115\n",
       "0         114\n",
       "1         114\n",
       "4         113\n",
       "         ... \n",
       "120981      1\n",
       "2199        1\n",
       "26779       1\n",
       "2207        1\n",
       "22865       1\n",
       "Name: ratings_count, Length: 6030, dtype: int64"
      ]
     },
     "execution_count": 121,
     "metadata": {},
     "output_type": "execute_result"
    }
   ],
   "source": []
  },
  {
   "cell_type": "code",
   "execution_count": 188,
   "metadata": {},
   "outputs": [
    {
     "data": {
      "text/plain": [
       "array([[<matplotlib.axes._subplots.AxesSubplot object at 0x13134fc50>,\n",
       "        <matplotlib.axes._subplots.AxesSubplot object at 0x133015a50>]],\n",
       "      dtype=object)"
      ]
     },
     "execution_count": 188,
     "metadata": {},
     "output_type": "execute_result"
    },
    {
     "data": {
      "image/png": "[encoded data removed]",
      "text/plain": [
       "<Figure size 432x288 with 2 Axes>"
      ]
     },
     "metadata": {
      "needs_background": "light"
     },
     "output_type": "display_data"
    }
   ],
   "source": [
    "# The. data does not have text reviews  so 'text_reviews_count' may not be useful ,\n",
    "#plus distribution matches the rating count  so we are going to use rating count \n",
    "# as a quantitattive measure for \" how much did the user like a particular book\"\n",
    "\n",
    "books.hist(['ratings_count','text_reviews_count'])"
   ]
  },
  {
   "cell_type": "markdown",
   "metadata": {},
   "source": [
    "### Average rating for the books"
   ]
  },
  {
   "cell_type": "code",
   "execution_count": 205,
   "metadata": {},
   "outputs": [
    {
     "data": {
      "text/plain": [
       "<matplotlib.lines.Line2D at 0x12dd8c550>"
      ]
     },
     "execution_count": 205,
     "metadata": {},
     "output_type": "execute_result"
    },
    {
     "data": {
      "image/png": "[encoded data removed]",
      "text/plain": [
       "<Figure size 1152x720 with 1 Axes>"
      ]
     },
     "metadata": {
      "needs_background": "light"
     },
     "output_type": "display_data"
    }
   ],
   "source": [
    "plt.figure(figsize=(16,10))\n",
    "plt.hist(books['average_rating'], 20)\n",
    "plt.gca().set(title='?', ylabel='Count of books');\n",
    "plt.xlim(0,5.5)\n",
    "plt.xticks(np.arange(0, 5.5, step=0.25));\n",
    "plt.axvline(books['average_rating'].mean(), color='r',label =\"average length\")"
   ]
  },
  {
   "cell_type": "markdown",
   "metadata": {},
   "source": [
    "# References"
   ]
  },
  {
   "cell_type": "code",
   "execution_count": null,
   "metadata": {},
   "outputs": [],
   "source": [
    "https://www.kaggle.com/jealousleopard/goodreadsbooks\n",
    "https://www.kaggle.com/qwp8510/analyze-goodread-book-beginner-eda\n",
    "\n",
    "# install the Table of contents extension\n",
    "https://github.com/minrk/ipython_extensions"
   ]
  }
 ],
 "metadata": {
  "kernelspec": {
   "display_name": "Python 3",
   "language": "python",
   "name": "python3"
  },
  "language_info": {
   "codemirror_mode": {
    "name": "ipython",
    "version": 3
   },
   "file_extension": ".py",
   "mimetype": "text/x-python",
   "name": "python",
   "nbconvert_exporter": "python",
   "pygments_lexer": "ipython3",
   "version": "3.7.4"
  }
 },
 "nbformat": 4,
 "nbformat_minor": 2
}
