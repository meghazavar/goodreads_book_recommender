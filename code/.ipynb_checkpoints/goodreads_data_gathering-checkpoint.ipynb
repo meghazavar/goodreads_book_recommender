{
 "cells": [
  {
   "cell_type": "markdown",
   "metadata": {},
   "source": [
    "#  installing and importing packages"
   ]
  },
  {
   "cell_type": "code",
   "execution_count": 67,
   "metadata": {},
   "outputs": [
    {
     "name": "stdout",
     "output_type": "stream",
     "text": [
      "Requirement already satisfied: betterreads in /Users/mybiyani/opt/anaconda3/lib/python3.7/site-packages (0.4.2)\n",
      "Requirement already satisfied: requests in /Users/mybiyani/opt/anaconda3/lib/python3.7/site-packages (from betterreads) (2.22.0)\n",
      "Requirement already satisfied: xmltodict in /Users/mybiyani/opt/anaconda3/lib/python3.7/site-packages/xmltodict-0.12.0-py3.7.egg (from betterreads) (0.12.0)\n",
      "Requirement already satisfied: rauth in /Users/mybiyani/opt/anaconda3/lib/python3.7/site-packages/rauth-0.7.3-py3.7.egg (from betterreads) (0.7.3)\n",
      "Requirement already satisfied: backports-datetime-fromisoformat in /Users/mybiyani/opt/anaconda3/lib/python3.7/site-packages (from betterreads) (1.0.0)\n",
      "Requirement already satisfied: chardet<3.1.0,>=3.0.2 in /Users/mybiyani/opt/anaconda3/lib/python3.7/site-packages (from requests->betterreads) (3.0.4)\n",
      "Requirement already satisfied: idna<2.9,>=2.5 in /Users/mybiyani/opt/anaconda3/lib/python3.7/site-packages (from requests->betterreads) (2.8)\n",
      "Requirement already satisfied: certifi>=2017.4.17 in /Users/mybiyani/opt/anaconda3/lib/python3.7/site-packages (from requests->betterreads) (2019.9.11)\n",
      "Requirement already satisfied: urllib3!=1.25.0,!=1.25.1,<1.26,>=1.21.1 in /Users/mybiyani/opt/anaconda3/lib/python3.7/site-packages (from requests->betterreads) (1.24.2)\n",
      "Note: you may need to restart the kernel to use updated packages.\n"
     ]
    }
   ],
   "source": [
    "pip install betterreads"
   ]
  },
  {
   "cell_type": "code",
   "execution_count": 146,
   "metadata": {},
   "outputs": [],
   "source": [
    "import pandas as pd\n",
    "import numpy as np\n",
    "from betterreads import client\n",
    "from goodreads_data_gather import helper"
   ]
  },
  {
   "cell_type": "markdown",
   "metadata": {},
   "source": [
    "# Data Gathering"
   ]
  },
  {
   "cell_type": "code",
   "execution_count": 147,
   "metadata": {},
   "outputs": [
    {
     "name": "stdout",
     "output_type": "stream",
     "text": [
      "in constructor \n"
     ]
    }
   ],
   "source": [
    "h = helper()"
   ]
  },
  {
   "cell_type": "code",
   "execution_count": 171,
   "metadata": {},
   "outputs": [
    {
     "name": "stdout",
     "output_type": "stream",
     "text": [
      "shape of the books dataframe is (10000, 23)\n",
      "shape of the books dataframe is (5976479, 3)\n",
      "shape of the books dataframe is (999912, 3)\n",
      "shape of the books dataframe is (34252, 2)\n"
     ]
    },
    {
     "data": {
      "text/html": [
       "<div>\n",
       "<style scoped>\n",
       "    .dataframe tbody tr th:only-of-type {\n",
       "        vertical-align: middle;\n",
       "    }\n",
       "\n",
       "    .dataframe tbody tr th {\n",
       "        vertical-align: top;\n",
       "    }\n",
       "\n",
       "    .dataframe thead th {\n",
       "        text-align: right;\n",
       "    }\n",
       "</style>\n",
       "<table border=\"1\" class=\"dataframe\">\n",
       "  <thead>\n",
       "    <tr style=\"text-align: right;\">\n",
       "      <th></th>\n",
       "      <th>book_id</th>\n",
       "      <th>goodreads_book_id</th>\n",
       "      <th>best_book_id</th>\n",
       "      <th>work_id</th>\n",
       "      <th>books_count</th>\n",
       "      <th>isbn</th>\n",
       "      <th>isbn13</th>\n",
       "      <th>authors</th>\n",
       "      <th>original_publication_year</th>\n",
       "      <th>original_title</th>\n",
       "      <th>...</th>\n",
       "      <th>ratings_count</th>\n",
       "      <th>work_ratings_count</th>\n",
       "      <th>work_text_reviews_count</th>\n",
       "      <th>ratings_1</th>\n",
       "      <th>ratings_2</th>\n",
       "      <th>ratings_3</th>\n",
       "      <th>ratings_4</th>\n",
       "      <th>ratings_5</th>\n",
       "      <th>image_url</th>\n",
       "      <th>small_image_url</th>\n",
       "    </tr>\n",
       "  </thead>\n",
       "  <tbody>\n",
       "    <tr>\n",
       "      <th>0</th>\n",
       "      <td>1</td>\n",
       "      <td>2767052</td>\n",
       "      <td>2767052</td>\n",
       "      <td>2792775</td>\n",
       "      <td>272</td>\n",
       "      <td>439023483</td>\n",
       "      <td>9.780439e+12</td>\n",
       "      <td>Suzanne Collins</td>\n",
       "      <td>2008.0</td>\n",
       "      <td>The Hunger Games</td>\n",
       "      <td>...</td>\n",
       "      <td>4780653</td>\n",
       "      <td>4942365</td>\n",
       "      <td>155254</td>\n",
       "      <td>66715</td>\n",
       "      <td>127936</td>\n",
       "      <td>560092</td>\n",
       "      <td>1481305</td>\n",
       "      <td>2706317</td>\n",
       "      <td>https://images.gr-assets.com/books/1447303603m...</td>\n",
       "      <td>https://images.gr-assets.com/books/1447303603s...</td>\n",
       "    </tr>\n",
       "  </tbody>\n",
       "</table>\n",
       "<p>1 rows × 23 columns</p>\n",
       "</div>"
      ],
      "text/plain": [
       "   book_id  goodreads_book_id  best_book_id  work_id  books_count       isbn  \\\n",
       "0        1            2767052       2767052  2792775          272  439023483   \n",
       "\n",
       "         isbn13          authors  original_publication_year    original_title  \\\n",
       "0  9.780439e+12  Suzanne Collins                     2008.0  The Hunger Games   \n",
       "\n",
       "   ... ratings_count work_ratings_count  work_text_reviews_count  ratings_1  \\\n",
       "0  ...       4780653            4942365                   155254      66715   \n",
       "\n",
       "   ratings_2  ratings_3  ratings_4  ratings_5  \\\n",
       "0     127936     560092    1481305    2706317   \n",
       "\n",
       "                                           image_url  \\\n",
       "0  https://images.gr-assets.com/books/1447303603m...   \n",
       "\n",
       "                                     small_image_url  \n",
       "0  https://images.gr-assets.com/books/1447303603s...  \n",
       "\n",
       "[1 rows x 23 columns]"
      ]
     },
     "execution_count": 171,
     "metadata": {},
     "output_type": "execute_result"
    }
   ],
   "source": [
    "books = pd.read_csv('../data/books.csv')\n",
    "print( f\"shape of the books dataframe is {books.shape}\")\n",
    "ratings = pd.read_csv(\"../data/ratings.csv\")\n",
    "print( f\"shape of the books dataframe is {ratings.shape}\")\n",
    "book_tags = pd.read_csv(\"../data/book_tags.csv\")\n",
    "print( f\"shape of the books dataframe is {book_tags.shape}\")\n",
    "tags = pd.read_csv(\"../data/tags.csv\")\n",
    "print( f\"shape of the books dataframe is {tags.shape}\")\n",
    "books.head(1)"
   ]
  },
  {
   "cell_type": "code",
   "execution_count": 172,
   "metadata": {},
   "outputs": [
    {
     "data": {
      "text/html": [
       "<div>\n",
       "<style scoped>\n",
       "    .dataframe tbody tr th:only-of-type {\n",
       "        vertical-align: middle;\n",
       "    }\n",
       "\n",
       "    .dataframe tbody tr th {\n",
       "        vertical-align: top;\n",
       "    }\n",
       "\n",
       "    .dataframe thead th {\n",
       "        text-align: right;\n",
       "    }\n",
       "</style>\n",
       "<table border=\"1\" class=\"dataframe\">\n",
       "  <thead>\n",
       "    <tr style=\"text-align: right;\">\n",
       "      <th></th>\n",
       "      <th>tag_id</th>\n",
       "      <th>tag_name</th>\n",
       "    </tr>\n",
       "  </thead>\n",
       "  <tbody>\n",
       "    <tr>\n",
       "      <th>0</th>\n",
       "      <td>0</td>\n",
       "      <td>-</td>\n",
       "    </tr>\n",
       "  </tbody>\n",
       "</table>\n",
       "</div>"
      ],
      "text/plain": [
       "   tag_id tag_name\n",
       "0       0        -"
      ]
     },
     "execution_count": 172,
     "metadata": {},
     "output_type": "execute_result"
    }
   ],
   "source": [
    "tags.head(1)"
   ]
  },
  {
   "cell_type": "code",
   "execution_count": 173,
   "metadata": {},
   "outputs": [
    {
     "data": {
      "text/html": [
       "<div>\n",
       "<style scoped>\n",
       "    .dataframe tbody tr th:only-of-type {\n",
       "        vertical-align: middle;\n",
       "    }\n",
       "\n",
       "    .dataframe tbody tr th {\n",
       "        vertical-align: top;\n",
       "    }\n",
       "\n",
       "    .dataframe thead th {\n",
       "        text-align: right;\n",
       "    }\n",
       "</style>\n",
       "<table border=\"1\" class=\"dataframe\">\n",
       "  <thead>\n",
       "    <tr style=\"text-align: right;\">\n",
       "      <th></th>\n",
       "      <th>goodreads_book_id</th>\n",
       "      <th>tag_id</th>\n",
       "      <th>count</th>\n",
       "    </tr>\n",
       "  </thead>\n",
       "  <tbody>\n",
       "    <tr>\n",
       "      <th>0</th>\n",
       "      <td>1</td>\n",
       "      <td>30574</td>\n",
       "      <td>167697</td>\n",
       "    </tr>\n",
       "  </tbody>\n",
       "</table>\n",
       "</div>"
      ],
      "text/plain": [
       "   goodreads_book_id  tag_id   count\n",
       "0                  1   30574  167697"
      ]
     },
     "execution_count": 173,
     "metadata": {},
     "output_type": "execute_result"
    }
   ],
   "source": [
    "book_tags.head(1)"
   ]
  },
  {
   "cell_type": "code",
   "execution_count": 174,
   "metadata": {},
   "outputs": [
    {
     "data": {
      "text/html": [
       "<div>\n",
       "<style scoped>\n",
       "    .dataframe tbody tr th:only-of-type {\n",
       "        vertical-align: middle;\n",
       "    }\n",
       "\n",
       "    .dataframe tbody tr th {\n",
       "        vertical-align: top;\n",
       "    }\n",
       "\n",
       "    .dataframe thead th {\n",
       "        text-align: right;\n",
       "    }\n",
       "</style>\n",
       "<table border=\"1\" class=\"dataframe\">\n",
       "  <thead>\n",
       "    <tr style=\"text-align: right;\">\n",
       "      <th></th>\n",
       "      <th>user_id</th>\n",
       "      <th>book_id</th>\n",
       "      <th>rating</th>\n",
       "    </tr>\n",
       "  </thead>\n",
       "  <tbody>\n",
       "    <tr>\n",
       "      <th>0</th>\n",
       "      <td>1</td>\n",
       "      <td>258</td>\n",
       "      <td>5</td>\n",
       "    </tr>\n",
       "  </tbody>\n",
       "</table>\n",
       "</div>"
      ],
      "text/plain": [
       "   user_id  book_id  rating\n",
       "0        1      258       5"
      ]
     },
     "execution_count": 174,
     "metadata": {},
     "output_type": "execute_result"
    }
   ],
   "source": [
    "ratings.head(1)"
   ]
  },
  {
   "cell_type": "code",
   "execution_count": 175,
   "metadata": {},
   "outputs": [
    {
     "data": {
      "text/html": [
       "<div>\n",
       "<style scoped>\n",
       "    .dataframe tbody tr th:only-of-type {\n",
       "        vertical-align: middle;\n",
       "    }\n",
       "\n",
       "    .dataframe tbody tr th {\n",
       "        vertical-align: top;\n",
       "    }\n",
       "\n",
       "    .dataframe thead th {\n",
       "        text-align: right;\n",
       "    }\n",
       "</style>\n",
       "<table border=\"1\" class=\"dataframe\">\n",
       "  <thead>\n",
       "    <tr style=\"text-align: right;\">\n",
       "      <th></th>\n",
       "      <th>book_id</th>\n",
       "      <th>goodreads_book_id</th>\n",
       "      <th>best_book_id</th>\n",
       "      <th>work_id</th>\n",
       "      <th>books_count</th>\n",
       "      <th>isbn</th>\n",
       "      <th>isbn13</th>\n",
       "      <th>authors</th>\n",
       "      <th>original_publication_year</th>\n",
       "      <th>original_title</th>\n",
       "      <th>...</th>\n",
       "      <th>ratings_count</th>\n",
       "      <th>work_ratings_count</th>\n",
       "      <th>work_text_reviews_count</th>\n",
       "      <th>ratings_1</th>\n",
       "      <th>ratings_2</th>\n",
       "      <th>ratings_3</th>\n",
       "      <th>ratings_4</th>\n",
       "      <th>ratings_5</th>\n",
       "      <th>image_url</th>\n",
       "      <th>small_image_url</th>\n",
       "    </tr>\n",
       "  </thead>\n",
       "  <tbody>\n",
       "    <tr>\n",
       "      <th>0</th>\n",
       "      <td>1</td>\n",
       "      <td>2767052</td>\n",
       "      <td>2767052</td>\n",
       "      <td>2792775</td>\n",
       "      <td>272</td>\n",
       "      <td>439023483</td>\n",
       "      <td>9.780439e+12</td>\n",
       "      <td>Suzanne Collins</td>\n",
       "      <td>2008.0</td>\n",
       "      <td>The Hunger Games</td>\n",
       "      <td>...</td>\n",
       "      <td>4780653</td>\n",
       "      <td>4942365</td>\n",
       "      <td>155254</td>\n",
       "      <td>66715</td>\n",
       "      <td>127936</td>\n",
       "      <td>560092</td>\n",
       "      <td>1481305</td>\n",
       "      <td>2706317</td>\n",
       "      <td>https://images.gr-assets.com/books/1447303603m...</td>\n",
       "      <td>https://images.gr-assets.com/books/1447303603s...</td>\n",
       "    </tr>\n",
       "  </tbody>\n",
       "</table>\n",
       "<p>1 rows × 23 columns</p>\n",
       "</div>"
      ],
      "text/plain": [
       "   book_id  goodreads_book_id  best_book_id  work_id  books_count       isbn  \\\n",
       "0        1            2767052       2767052  2792775          272  439023483   \n",
       "\n",
       "         isbn13          authors  original_publication_year    original_title  \\\n",
       "0  9.780439e+12  Suzanne Collins                     2008.0  The Hunger Games   \n",
       "\n",
       "   ... ratings_count work_ratings_count  work_text_reviews_count  ratings_1  \\\n",
       "0  ...       4780653            4942365                   155254      66715   \n",
       "\n",
       "   ratings_2  ratings_3  ratings_4  ratings_5  \\\n",
       "0     127936     560092    1481305    2706317   \n",
       "\n",
       "                                           image_url  \\\n",
       "0  https://images.gr-assets.com/books/1447303603m...   \n",
       "\n",
       "                                     small_image_url  \n",
       "0  https://images.gr-assets.com/books/1447303603s...  \n",
       "\n",
       "[1 rows x 23 columns]"
      ]
     },
     "execution_count": 175,
     "metadata": {},
     "output_type": "execute_result"
    }
   ],
   "source": [
    "books.head(1)"
   ]
  },
  {
   "cell_type": "code",
   "execution_count": null,
   "metadata": {},
   "outputs": [],
   "source": [
    "### Combining booktag ids with the actual names"
   ]
  },
  {
   "cell_type": "code",
   "execution_count": null,
   "metadata": {},
   "outputs": [],
   "source": [
    "pd.merge(left=book_tags,right =tags, how =\"left\", on ='tag_id')\n",
    "book_tags.to_csv(\"../data/book_tags_combined\",index =False)"
   ]
  },
  {
   "cell_type": "code",
   "execution_count": 176,
   "metadata": {},
   "outputs": [
    {
     "data": {
      "text/plain": [
       "book_id                         0\n",
       "goodreads_book_id               0\n",
       "best_book_id                    0\n",
       "work_id                         0\n",
       "books_count                     0\n",
       "isbn                          700\n",
       "isbn13                        585\n",
       "authors                         0\n",
       "original_publication_year      21\n",
       "original_title                585\n",
       "title                           0\n",
       "language_code                1084\n",
       "average_rating                  0\n",
       "ratings_count                   0\n",
       "work_ratings_count              0\n",
       "work_text_reviews_count         0\n",
       "ratings_1                       0\n",
       "ratings_2                       0\n",
       "ratings_3                       0\n",
       "ratings_4                       0\n",
       "ratings_5                       0\n",
       "image_url                       0\n",
       "small_image_url                 0\n",
       "dtype: int64"
      ]
     },
     "execution_count": 176,
     "metadata": {},
     "output_type": "execute_result"
    }
   ],
   "source": [
    "books.isna().sum()"
   ]
  },
  {
   "cell_type": "markdown",
   "metadata": {},
   "source": [
    "585 books that are missing orig title, replace them with title\n",
    "book = gc.book(3)\n",
    "book.original_title"
   ]
  },
  {
   "cell_type": "code",
   "execution_count": 177,
   "metadata": {},
   "outputs": [
    {
     "data": {
      "text/plain": [
       "(10000, 585, 6015)"
      ]
     },
     "execution_count": 177,
     "metadata": {},
     "output_type": "execute_result"
    }
   ],
   "source": [
    "len(books), len(books[books['original_title'].isna()]),len(books[books['original_title'] != books ['title']])"
   ]
  },
  {
   "cell_type": "code",
   "execution_count": 178,
   "metadata": {},
   "outputs": [
    {
     "data": {
      "text/html": [
       "<div>\n",
       "<style scoped>\n",
       "    .dataframe tbody tr th:only-of-type {\n",
       "        vertical-align: middle;\n",
       "    }\n",
       "\n",
       "    .dataframe tbody tr th {\n",
       "        vertical-align: top;\n",
       "    }\n",
       "\n",
       "    .dataframe thead th {\n",
       "        text-align: right;\n",
       "    }\n",
       "</style>\n",
       "<table border=\"1\" class=\"dataframe\">\n",
       "  <thead>\n",
       "    <tr style=\"text-align: right;\">\n",
       "      <th></th>\n",
       "      <th>goodreads_book_id</th>\n",
       "      <th>title</th>\n",
       "      <th>original_title</th>\n",
       "    </tr>\n",
       "  </thead>\n",
       "  <tbody>\n",
       "    <tr>\n",
       "      <th>0</th>\n",
       "      <td>2767052</td>\n",
       "      <td>The Hunger Games (The Hunger Games, #1)</td>\n",
       "      <td>The Hunger Games</td>\n",
       "    </tr>\n",
       "    <tr>\n",
       "      <th>1</th>\n",
       "      <td>3</td>\n",
       "      <td>Harry Potter and the Sorcerer's Stone (Harry P...</td>\n",
       "      <td>Harry Potter and the Philosopher's Stone</td>\n",
       "    </tr>\n",
       "    <tr>\n",
       "      <th>2</th>\n",
       "      <td>41865</td>\n",
       "      <td>Twilight (Twilight, #1)</td>\n",
       "      <td>Twilight</td>\n",
       "    </tr>\n",
       "    <tr>\n",
       "      <th>6</th>\n",
       "      <td>5907</td>\n",
       "      <td>The Hobbit</td>\n",
       "      <td>The Hobbit or There and Back Again</td>\n",
       "    </tr>\n",
       "    <tr>\n",
       "      <th>8</th>\n",
       "      <td>960</td>\n",
       "      <td>Angels &amp; Demons  (Robert Langdon, #1)</td>\n",
       "      <td>Angels &amp; Demons</td>\n",
       "    </tr>\n",
       "    <tr>\n",
       "      <th>...</th>\n",
       "      <td>...</td>\n",
       "      <td>...</td>\n",
       "      <td>...</td>\n",
       "    </tr>\n",
       "    <tr>\n",
       "      <th>9988</th>\n",
       "      <td>13489518</td>\n",
       "      <td>Out of the Dark (The Grey Wolves, #4)</td>\n",
       "      <td>Out of the Dark</td>\n",
       "    </tr>\n",
       "    <tr>\n",
       "      <th>9991</th>\n",
       "      <td>13616278</td>\n",
       "      <td>The Red Knight (The Traitor Son Cycle, #1)</td>\n",
       "      <td>The Red Knight</td>\n",
       "    </tr>\n",
       "    <tr>\n",
       "      <th>9992</th>\n",
       "      <td>4936457</td>\n",
       "      <td>The Time Traveller's Guide to Medieval England...</td>\n",
       "      <td>The Time-Traveller's Guide to Medieval England...</td>\n",
       "    </tr>\n",
       "    <tr>\n",
       "      <th>9995</th>\n",
       "      <td>7130616</td>\n",
       "      <td>Bayou Moon (The Edge, #2)</td>\n",
       "      <td>Bayou Moon</td>\n",
       "    </tr>\n",
       "    <tr>\n",
       "      <th>9996</th>\n",
       "      <td>208324</td>\n",
       "      <td>Means of Ascent (The Years of Lyndon Johnson, #2)</td>\n",
       "      <td>Means of Ascent</td>\n",
       "    </tr>\n",
       "  </tbody>\n",
       "</table>\n",
       "<p>6015 rows × 3 columns</p>\n",
       "</div>"
      ],
      "text/plain": [
       "      goodreads_book_id                                              title  \\\n",
       "0               2767052            The Hunger Games (The Hunger Games, #1)   \n",
       "1                     3  Harry Potter and the Sorcerer's Stone (Harry P...   \n",
       "2                 41865                            Twilight (Twilight, #1)   \n",
       "6                  5907                                         The Hobbit   \n",
       "8                   960              Angels & Demons  (Robert Langdon, #1)   \n",
       "...                 ...                                                ...   \n",
       "9988           13489518              Out of the Dark (The Grey Wolves, #4)   \n",
       "9991           13616278         The Red Knight (The Traitor Son Cycle, #1)   \n",
       "9992            4936457  The Time Traveller's Guide to Medieval England...   \n",
       "9995            7130616                          Bayou Moon (The Edge, #2)   \n",
       "9996             208324  Means of Ascent (The Years of Lyndon Johnson, #2)   \n",
       "\n",
       "                                         original_title  \n",
       "0                                      The Hunger Games  \n",
       "1              Harry Potter and the Philosopher's Stone  \n",
       "2                                              Twilight  \n",
       "6                    The Hobbit or There and Back Again  \n",
       "8                                      Angels & Demons   \n",
       "...                                                 ...  \n",
       "9988                                   Out of the Dark   \n",
       "9991                                     The Red Knight  \n",
       "9992  The Time-Traveller's Guide to Medieval England...  \n",
       "9995                                         Bayou Moon  \n",
       "9996                                   Means of Ascent   \n",
       "\n",
       "[6015 rows x 3 columns]"
      ]
     },
     "execution_count": 178,
     "metadata": {},
     "output_type": "execute_result"
    }
   ],
   "source": [
    "# Title seems to be including original title in all these cases\n",
    "books[books['original_title'] != books ['title']][['goodreads_book_id','title','original_title']]"
   ]
  },
  {
   "cell_type": "code",
   "execution_count": 179,
   "metadata": {},
   "outputs": [],
   "source": [
    "#Drop columns that are not relevant for the recommender\n",
    "books = books.drop(['best_book_id','work_id','isbn13','isbn','original_title',\n",
    "                    'books_count','work_ratings_count','work_text_reviews_count',\n",
    "                    'image_url','small_image_url'], axis =1)"
   ]
  },
  {
   "cell_type": "code",
   "execution_count": 180,
   "metadata": {},
   "outputs": [],
   "source": [
    "books['description'] =np.nan\n",
    "books['num_pages'] =0\n",
    "books['e_book'] =False"
   ]
  },
  {
   "cell_type": "code",
   "execution_count": 181,
   "metadata": {},
   "outputs": [
    {
     "data": {
      "text/plain": [
       "array([    1,     2,     3, ...,  9998,  9999, 10000])"
      ]
     },
     "execution_count": 181,
     "metadata": {},
     "output_type": "execute_result"
    }
   ],
   "source": [
    "books =h.fill_missing_columns(books)"
   ]
  },
  {
   "cell_type": "code",
   "execution_count": null,
   "metadata": {},
   "outputs": [
    {
     "name": "stdout",
     "output_type": "stream",
     "text": [
      "1,The Hunger Games (The Hunger Games, #1)\n",
      "101,Me Talk Pretty One Day\n",
      "201,The Lost Symbol (Robert Langdon, #3)\n",
      "301,Heart of Darkness\n",
      "401,A Farewell to Arms\n",
      "501,The No. 1 Ladies' Detective Agency (No. 1 Ladies' Detective Agency #1)\n",
      "601,The Tale of Peter Rabbit\n",
      "701,Mrs. Dalloway\n",
      "801,This is Where I Leave You\n",
      "901,Year of Wonders\n",
      "1001,The Dinner\n",
      "1101,Change of Heart\n",
      "1201,Dead Reckoning (Sookie Stackhouse, #11)\n",
      "1301,The Broker\n",
      "1401,The Artist's Way\n",
      "failed to parse 1475\n",
      "1501,The Queen's Fool (The Plantagenet and Tudor Novels, #12)\n",
      "1601,Emotional Intelligence: Why It Can Matter More Than IQ\n",
      "1701,I Hope They Serve Beer in Hell (Tucker Max, #1)\n",
      "1801,The Sword of Shannara (The Original Shannara Trilogy, #1)\n",
      "1901,Shadowfever (Fever, #5)\n",
      "2001,Harry Potter: Film Wizardry\n",
      "2101,The Harry Potter Collection 1-4 (Harry Potter, #1-4)\n",
      "failed to parse 2139\n",
      "failed to parse 2151\n",
      "2201,Wings (Wings, #1)\n",
      "2301,The Ask and the Answer (Chaos Walking, #2)\n",
      "2401,The Stranger\n",
      "2501,Soul Music (Discworld, #16; Death, #3)\n",
      "2601,The Red Pony\n",
      "2701,The Claiming of Sleeping Beauty\n",
      "2801,The Boy Who Sneaks in My Bedroom Window (The Boy Who Sneaks in My Bedroom Window, #1)\n",
      "2901,Undead and Unwed (Undead, #1)\n",
      "3001,Kiss of Midnight (Midnight Breed,  #1)\n",
      "3101,The Raven and Other Poems\n",
      "3201,The Warlord Wants Forever (Immortals After Dark, #0.5)\n",
      "3301,Hana-Kimi: For You in Full Blossom, Vol. 1 (Hana-Kimi: For You in Full Blossom, #1)\n",
      "3401,Who Do You Love\n",
      "failed to parse 3438\n",
      "3501,Angry Housewives Eating Bon Bons\n",
      "3601,House of Chains (Malazan Book of the Fallen, #4)\n",
      "3701,After (After, #1)\n",
      "3801,10th Anniversary (Women's Murder Club, #10)\n",
      "3901,Starters (Starters, #1)\n",
      "4001,The Fireman\n",
      "failed to parse 4077\n",
      "4101,The Druid of Shannara (Heritage of Shannara, #2)\n",
      "failed to parse 4107\n",
      "4201,Officer Buckle and Gloria\n",
      "4301,100 Selected Poems\n",
      "4401,A Rule Against Murder (Chief Inspector Armand Gamache, #4)\n",
      "4501,Ask and It Is Given: Learning to Manifest Your Desires\n",
      "failed to parse 4601\n",
      "4701,The Fog\n",
      "4801,Kiss of Crimson (Midnight Breed, #2)\n",
      "4901,Industrial Magic (Women of the Otherworld, #4)\n",
      "5001,High School Debut, Vol. 01 (High School Debut, #1)\n",
      "failed to parse 5002\n",
      "5101,We Wish to Inform You That Tomorrow We Will Be Killed with Our Families\n",
      "5201,Atlantis Found (Dirk Pitt, #15)\n",
      "5301,The Princess and the Goblin  (Princess Irene and Curdie, #1)\n"
     ]
    }
   ],
   "source": [
    "def fill_missing_columns(books)\n",
    "    missing_desc_books = h.get_book_id_list_for_missing_column(books,'description')\n",
    "    for i in missing_desc_books:\n",
    "        goodreads_book_id = books.loc[books['book_id'] == i,'goodreads_book_id'].values[0]\n",
    "        try:\n",
    "            book_obj= h.get_book(goodreads_book_id)\n",
    "            if(i % 100 ==1):\n",
    "                print( f\"{i},{book_obj}\")\n",
    "            books.loc[books['book_id'] == i,'description']= book_obj.description\n",
    "            try:\n",
    "                books.loc[books['book_id'] == i,'num_pages']=  book_obj.num_pages\n",
    "            except:\n",
    "                books.loc[books['book_id'] == i,'num_pages']=  0\n",
    "\n",
    "            books.loc[books['book_id'] == i,'is_ebook']=book_obj.is_ebook  \n",
    "        except:\n",
    "            books.loc[books['book_id'] == i,'num_pages']=  0\n",
    "            books.loc[books['book_id'] == i,'description'] =\"\"\n",
    "            books.loc[books['book_id'] == i,'is_ebook'] =False\n",
    "            print(f\"failed to parse {i}\")\n",
    "    return books      "
   ]
  },
  {
   "cell_type": "code",
   "execution_count": null,
   "metadata": {},
   "outputs": [],
   "source": [
    "len(books[books['description'].isna()])"
   ]
  },
  {
   "cell_type": "markdown",
   "metadata": {},
   "source": [
    "### Collecting  recent books  based on Denver DSI classmates"
   ]
  },
  {
   "cell_type": "code",
   "execution_count": 96,
   "metadata": {},
   "outputs": [],
   "source": [
    "collect_books = pd.DataFrame()\n",
    "topics =['python','of Thrones','Patrick Rothfuss','A Song of Ice and Fire','Inspector Rebus',\n",
    "      'Data Science', 'mechine learning','Data Visualization','Robert T. Kiyosaki','Brené Brown',\n",
    "      'weapons of math destruction','Girl, Wash Your Face','recommender systems']"
   ]
  },
  {
   "cell_type": "code",
   "execution_count": 97,
   "metadata": {},
   "outputs": [
    {
     "name": "stderr",
     "output_type": "stream",
     "text": [
      "/Users/mybiyani/opt/anaconda3/lib/python3.7/site-packages/ipykernel_launcher.py:3: FutureWarning: Sorting because non-concatenation axis is not aligned. A future version\n",
      "of pandas will change to not sort by default.\n",
      "\n",
      "To accept the future behavior, pass 'sort=False'.\n",
      "\n",
      "To retain the current behavior and silence the warning, pass 'sort=True'.\n",
      "\n",
      "  This is separate from the ipykernel package so we can avoid doing imports until\n"
     ]
    }
   ],
   "source": [
    "for topic in topics :\n",
    "    df2 =h.get_books(topic)\n",
    "    books = pd.concat([books,df2])\n",
    "books.reset_index(inplace=True, drop=True)     "
   ]
  },
  {
   "cell_type": "code",
   "execution_count": 98,
   "metadata": {},
   "outputs": [
    {
     "data": {
      "text/plain": [
       "(10273, 19)"
      ]
     },
     "execution_count": 98,
     "metadata": {},
     "output_type": "execute_result"
    }
   ],
   "source": [
    "books.shape"
   ]
  },
  {
   "cell_type": "code",
   "execution_count": 135,
   "metadata": {},
   "outputs": [
    {
     "data": {
      "text/plain": [
       "authors                        0\n",
       "average_rating                 0\n",
       "book_id                      273\n",
       "description                  106\n",
       "e_book                       273\n",
       "goodreads_book_id              0\n",
       "is_ebook                       0\n",
       "language_code                  0\n",
       "num_pages                      0\n",
       "original_publication_year      0\n",
       "ratings_1                    273\n",
       "ratings_2                    273\n",
       "ratings_3                    273\n",
       "ratings_4                    273\n",
       "ratings_5                    273\n",
       "ratings_count                  0\n",
       "title                          0\n",
       "publication_year               0\n",
       "publication_timeframe          0\n",
       "dtype: int64"
      ]
     },
     "execution_count": 135,
     "metadata": {},
     "output_type": "execute_result"
    }
   ],
   "source": [
    "books.isna().sum()"
   ]
  },
  {
   "cell_type": "code",
   "execution_count": 136,
   "metadata": {},
   "outputs": [],
   "source": [
    "#books = books.drop(['isbn','original_title'], axis =1)"
   ]
  },
  {
   "cell_type": "code",
   "execution_count": null,
   "metadata": {},
   "outputs": [],
   "source": [
    "###### Are the books unique ?\n",
    "\n",
    "we have books unique isbn numbers  but  they have similar titles.\n",
    "I am little wary of this data set now. It might  be a good  for proof of concept but  we may need to get cleaner data"
   ]
  },
  {
   "cell_type": "code",
   "execution_count": 139,
   "metadata": {},
   "outputs": [
    {
     "name": "stdout",
     "output_type": "stream",
     "text": [
      "duplicate book count = 163\n"
     ]
    }
   ],
   "source": [
    "#De-duplicating the  records as we only care about title and content of the book , \n",
    "books_with_same_title = (books['title'].value_counts()  )\n",
    "print(f\"duplicate book count = {len(books_with_same_title.index[books_with_same_title >1])}\")\n",
    "\n",
    "dup_books =books_with_same_title.index[books_with_same_title >1]\n",
    "dup_book_df = books[books['title'].isin(dup_books)]\n",
    "\n",
    "books = books.groupby('title').agg(\n",
    "                             {\n",
    "                              'book_id':'first',\n",
    "                              'goodreads_book_id':'first',\n",
    "                              'authors':'first', \n",
    "                              'description' :'first',\n",
    "                              'original_publication_year': 'first',\n",
    "                              'language_code' :'first',\n",
    "                              'average_rating':'mean',\n",
    "                              'ratings_count': 'sum',                              \n",
    "                              'num_pages':'first',\n",
    "                              'is_ebook':'first',\n",
    "                              'ratings_count':'first'\n",
    "                              }).reset_index()"
   ]
  },
  {
   "cell_type": "code",
   "execution_count": 140,
   "metadata": {},
   "outputs": [
    {
     "data": {
      "text/plain": [
       "eng      8757\n",
       "other    1319\n",
       "Name: language_code, dtype: int64"
      ]
     },
     "execution_count": 140,
     "metadata": {},
     "output_type": "execute_result"
    }
   ],
   "source": [
    "books['language_code'] = books['language_code'].apply(lambda x : 'eng' if x in  ['eng','en-US','en-GB','en-CA'] else 'other')\n",
    "books['language_code'].value_counts()"
   ]
  },
  {
   "cell_type": "code",
   "execution_count": 141,
   "metadata": {},
   "outputs": [
    {
     "data": {
      "text/plain": [
       "count    10076.000000\n",
       "mean      1957.329694\n",
       "std        259.545660\n",
       "min          0.000000\n",
       "25%       1989.000000\n",
       "50%       2004.000000\n",
       "75%       2011.000000\n",
       "max       2017.000000\n",
       "Name: original_publication_year, dtype: float64"
      ]
     },
     "execution_count": 141,
     "metadata": {},
     "output_type": "execute_result"
    }
   ],
   "source": [
    "books['original_publication_year'] = books['original_publication_year'].fillna(0).astype('int')\n",
    "books['original_publication_year'].describe()"
   ]
  },
  {
   "cell_type": "code",
   "execution_count": 142,
   "metadata": {},
   "outputs": [],
   "source": [
    "books.loc[books['original_publication_year'] <0,'original_publication_year'] =0"
   ]
  },
  {
   "cell_type": "code",
   "execution_count": 134,
   "metadata": {},
   "outputs": [
    {
     "data": {
      "text/plain": [
       "2000-2013    3121\n",
       "2010-2014    2552\n",
       "1950-1990    1586\n",
       "1990-2000    1360\n",
       "<1950         814\n",
       "2015-2020     515\n",
       "unknown       325\n",
       "Name: publication_timeframe, dtype: int64"
      ]
     },
     "execution_count": 134,
     "metadata": {},
     "output_type": "execute_result"
    }
   ],
   "source": [
    "def publication_year_categorize(original_publication_year):\n",
    "    if original_publication_year >=2015 :\n",
    "        return('2015-2020')\n",
    "    elif original_publication_year >= 2010:\n",
    "        return('2010-2014')\n",
    "    elif original_publication_year >= 2000:\n",
    "        return('2000-2013')\n",
    "    elif original_publication_year >= 1990:\n",
    "        return('1990-2000')\n",
    "    elif original_publication_year >= 1950:\n",
    "        return('1950-1990')\n",
    "    elif original_publication_year >= 1:\n",
    "        return('<1950')\n",
    "    else:\n",
    "         return('unknown')\n",
    "books['publication_timeframe'] =books['original_publication_year'].map(publication_year_categorize)\n",
    "books['publication_timeframe'].value_counts()"
   ]
  },
  {
   "cell_type": "markdown",
   "metadata": {},
   "source": [
    "# Data Cleaning"
   ]
  },
  {
   "cell_type": "markdown",
   "metadata": {},
   "source": [
    "###### How many of the  columns are missing data ?"
   ]
  },
  {
   "cell_type": "code",
   "execution_count": 143,
   "metadata": {},
   "outputs": [
    {
     "data": {
      "text/plain": [
       "title                          0\n",
       "book_id                      112\n",
       "goodreads_book_id              0\n",
       "authors                        0\n",
       "description                  105\n",
       "original_publication_year      0\n",
       "language_code                  0\n",
       "average_rating                 0\n",
       "ratings_count                  0\n",
       "num_pages                      0\n",
       "is_ebook                       0\n",
       "dtype: int64"
      ]
     },
     "execution_count": 143,
     "metadata": {},
     "output_type": "execute_result"
    }
   ],
   "source": [
    "books.isna().sum()"
   ]
  },
  {
   "cell_type": "code",
   "execution_count": null,
   "metadata": {},
   "outputs": [],
   "source": [
    "###### If the book description was empty ,  adding a string so that  Vecotrizer can  work with the data"
   ]
  },
  {
   "cell_type": "code",
   "execution_count": 170,
   "metadata": {},
   "outputs": [
    {
     "data": {
      "text/html": [
       "<div>\n",
       "<style scoped>\n",
       "    .dataframe tbody tr th:only-of-type {\n",
       "        vertical-align: middle;\n",
       "    }\n",
       "\n",
       "    .dataframe tbody tr th {\n",
       "        vertical-align: top;\n",
       "    }\n",
       "\n",
       "    .dataframe thead th {\n",
       "        text-align: right;\n",
       "    }\n",
       "</style>\n",
       "<table border=\"1\" class=\"dataframe\">\n",
       "  <thead>\n",
       "    <tr style=\"text-align: right;\">\n",
       "      <th></th>\n",
       "      <th>goodreads_book_id</th>\n",
       "      <th>tag_id</th>\n",
       "      <th>count</th>\n",
       "      <th>tag_name</th>\n",
       "    </tr>\n",
       "  </thead>\n",
       "  <tbody>\n",
       "    <tr>\n",
       "      <th>0</th>\n",
       "      <td>1</td>\n",
       "      <td>30574</td>\n",
       "      <td>167697</td>\n",
       "      <td>to-read</td>\n",
       "    </tr>\n",
       "    <tr>\n",
       "      <th>1</th>\n",
       "      <td>1</td>\n",
       "      <td>11305</td>\n",
       "      <td>37174</td>\n",
       "      <td>fantasy</td>\n",
       "    </tr>\n",
       "    <tr>\n",
       "      <th>2</th>\n",
       "      <td>1</td>\n",
       "      <td>11557</td>\n",
       "      <td>34173</td>\n",
       "      <td>favorites</td>\n",
       "    </tr>\n",
       "    <tr>\n",
       "      <th>3</th>\n",
       "      <td>1</td>\n",
       "      <td>8717</td>\n",
       "      <td>12986</td>\n",
       "      <td>currently-reading</td>\n",
       "    </tr>\n",
       "    <tr>\n",
       "      <th>4</th>\n",
       "      <td>1</td>\n",
       "      <td>33114</td>\n",
       "      <td>12716</td>\n",
       "      <td>young-adult</td>\n",
       "    </tr>\n",
       "    <tr>\n",
       "      <th>...</th>\n",
       "      <td>...</td>\n",
       "      <td>...</td>\n",
       "      <td>...</td>\n",
       "      <td>...</td>\n",
       "    </tr>\n",
       "    <tr>\n",
       "      <th>999907</th>\n",
       "      <td>33288638</td>\n",
       "      <td>21303</td>\n",
       "      <td>7</td>\n",
       "      <td>neighbors</td>\n",
       "    </tr>\n",
       "    <tr>\n",
       "      <th>999908</th>\n",
       "      <td>33288638</td>\n",
       "      <td>17271</td>\n",
       "      <td>7</td>\n",
       "      <td>kindleunlimited</td>\n",
       "    </tr>\n",
       "    <tr>\n",
       "      <th>999909</th>\n",
       "      <td>33288638</td>\n",
       "      <td>1126</td>\n",
       "      <td>7</td>\n",
       "      <td>5-star-reads</td>\n",
       "    </tr>\n",
       "    <tr>\n",
       "      <th>999910</th>\n",
       "      <td>33288638</td>\n",
       "      <td>11478</td>\n",
       "      <td>7</td>\n",
       "      <td>fave-author</td>\n",
       "    </tr>\n",
       "    <tr>\n",
       "      <th>999911</th>\n",
       "      <td>33288638</td>\n",
       "      <td>27939</td>\n",
       "      <td>7</td>\n",
       "      <td>slowburn</td>\n",
       "    </tr>\n",
       "  </tbody>\n",
       "</table>\n",
       "<p>999912 rows × 4 columns</p>\n",
       "</div>"
      ],
      "text/plain": [
       "        goodreads_book_id  tag_id   count           tag_name\n",
       "0                       1   30574  167697            to-read\n",
       "1                       1   11305   37174            fantasy\n",
       "2                       1   11557   34173          favorites\n",
       "3                       1    8717   12986  currently-reading\n",
       "4                       1   33114   12716        young-adult\n",
       "...                   ...     ...     ...                ...\n",
       "999907           33288638   21303       7          neighbors\n",
       "999908           33288638   17271       7    kindleunlimited\n",
       "999909           33288638    1126       7       5-star-reads\n",
       "999910           33288638   11478       7        fave-author\n",
       "999911           33288638   27939       7           slowburn\n",
       "\n",
       "[999912 rows x 4 columns]"
      ]
     },
     "execution_count": 170,
     "metadata": {},
     "output_type": "execute_result"
    }
   ],
   "source": []
  },
  {
   "cell_type": "code",
   "execution_count": 144,
   "metadata": {},
   "outputs": [],
   "source": [
    "books['description'] = books['description'].fillna('-')"
   ]
  },
  {
   "cell_type": "code",
   "execution_count": null,
   "metadata": {},
   "outputs": [],
   "source": [
    "###### Consolidate all Audio tags under same category\n",
    "def consolidate_tags(tag_lst,target_tag):\n",
    "    target_tag_id = book_tags[book_tags['tag_name']==target_tag]['tag_id'].values[0]  \n",
    "    l= book_tags[(book_tags['tag_name'].isin(tag_lst))]['tag_name'].to_list()\n",
    "    print(f\"replacing {len(l)} tags with {target_tag}, tag_id= {target_tag_id}\")\n",
    "    book_tags['tag_name']= book_tags['tag_name'].apply(lambda x : target_tag if x in tag_lst else x)\n",
    "    book_tags.loc[book_tags['tag_name'] ==target_tag,'tag_id']= target_tag_id "
   ]
  },
  {
   "cell_type": "code",
   "execution_count": null,
   "metadata": {},
   "outputs": [],
   "source": [
    "##### Consolidate all childrens books under same category\n",
    "#tag_lst= book_tags[(book_tags['tag_name'].str.contains('children')) ]['tag_name'].to_list()\n",
    "#consolidate_tags(list(set(tag_lst)),'childrens')\n",
    "\n",
    "#tag_lst= ['audio','audiobooks','audiobook','audible','audio-book','audio-books'] +(book_tags[(book_tags['tag_name'].str.contains('audiobook'))]['tag_name'].to_list())\n",
    "#consolidate_tags(set(tag_lst),'audiobook')\n",
    "\n",
    "# tag_lst = book_tags[(book_tags['tag_name'].str.contains('history'))]['tag_name'].to_list()\n",
    "# consolidate_tags(set(['war'] +tag_lst),'history')\n",
    "\n",
    "#suspense\n",
    "# tag_lst= book_tags[(book_tags['tag_name'].str.contains('mystery'))]['tag_name'].to_list()\n",
    "# consolidate_tags(tag_lst,'mystery-thriller')\n",
    "\n",
    "\n",
    "# tag_lst=set(book_tags[(book_tags['tag_name'].str.contains('novel'))]['tag_name'].to_list())\n",
    "# consolidate_tags(tag_lst,'novels')\n",
    "\n",
    "# consolidate_tags(['teen','juvenile','youth','new-adult'],'young-adult')\n",
    "# consolidate_tags(['general-fiction','speculative-fiction','magic','literary-fiction','contemporary-fiction','modern-fiction','vampires','vampire','fiction-to-read'],'fiction')\n",
    "# consolidate_tags(['paranormal','paranormal-romance','paranormal-fantasy','fantasy-paranormal'],'supernatural') \n",
    "# consolidate_tags(['fantasy-sci-fi,sci-fi-fantasy','science-fiction-fantasy','fantasy-scifi','sci-fi-and-fantasy'],'scifi-fantasy') \n",
    "# consolidate_tags(['funny','humour','comedy','humorous'],'humor') \n",
    "# consolidate_tags(['20th-century','19th-century','historicals'],'historical') \n",
    "# consolidate_tags(['sci-fi','scifi'],'science-fiction') \n",
    "\n",
    "#consolidate_tags(['non-fiction','to-read-nonfiction','non-fic','nonfiction-to-read'],'nonfiction') \n",
    "#consolidate_tags(['ya-fiction','harry-potter'],'fiction') \n",
    "\n",
    "# consolidate_tags(['urban-fantasy','ya-fantasy','high-fantasy','sf-fantasy','guilty-pleasures'],'fantasy')\n",
    "# consolidate_tags(['thrillers'],'thriller')\n",
    "# consolidate_tags(['childhood-reads','kids','kids-books','childhood-books','childhood','childhood-favorites'],'childrens')\n",
    "# consolidate_tags(['listened-to'],'audiobook')\n",
    "# consolidate_tags(['to-read-non-fiction','non-fiction-to-read'],'nonfiction') \n",
    "# consolidate_tags(['contemporary-romance'],'romance')\n",
    "# consolidate_tags(['urban-fantasy','ya-fantasy'],'fantasy')\n",
    "\n",
    "\n",
    "# tag_lst=set(book_tags[(book_tags['tag_name'].str.contains('memoir'))]['tag_name'].to_list())\n",
    "# consolidate_tags(tag_lst,'biography')\n",
    "\n",
    "# consolidate_tags(['teen-fiction','juvenile-fiction'],'young-adult-fiction')\n",
    "# consolidate_tags(['classic','literature','literary','classics','american-lit','american-literature','british-literature','chic-lit','kid-lit','chicklit','to-read-classics'],'classic-literature') \n",
    "# consolidate_tags(['dystopia'],'dystopian')\n",
    "\n",
    "\n",
    "\n",
    "# consolidate_tags(['realistic'],'realistic-fiction')\n",
    "# consolidate_tags(['erotica','erotic'],'adult-romance')\n",
    "# consolidate_tags(['modern'],'contemporary')\n",
    "consolidate_tags(['suspense-thriller','thriller-mystery','thriller-suspense','mystery-thrillers','epic-fantasy','mystery-suspense-thriller','mystery-thriller-suspense'],'mystery-thriller')\n"
   ]
  },
  {
   "cell_type": "code",
   "execution_count": 145,
   "metadata": {},
   "outputs": [],
   "source": [
    "books.to_csv(\"../data/books_desc.csv\", index=False)\n"
   ]
  },
  {
   "cell_type": "markdown",
   "metadata": {},
   "source": []
  },
  {
   "cell_type": "markdown",
   "metadata": {},
   "source": [
    "######  references\n",
    "https://pypi.org/project/Goodreads/\n",
    "\n",
    "https://betterreads.readthedocs.io/en/latest/\n",
    "\n",
    "Kaggle data source : https://www.kaggle.com/zygmunt/goodbooks-10k\n",
    "\n",
    "data set location : https://github.com/zygmuntz/goodbooks-10k\n",
    "\n",
    "#https://pandas.pydata.org/pandas-docs/stable/reference/groupby.html"
   ]
  }
 ],
 "metadata": {
  "kernelspec": {
   "display_name": "Python 3",
   "language": "python",
   "name": "python3"
  },
  "language_info": {
   "codemirror_mode": {
    "name": "ipython",
    "version": 3
   },
   "file_extension": ".py",
   "mimetype": "text/x-python",
   "name": "python",
   "nbconvert_exporter": "python",
   "pygments_lexer": "ipython3",
   "version": "3.7.4"
  }
 },
 "nbformat": 4,
 "nbformat_minor": 2
}
