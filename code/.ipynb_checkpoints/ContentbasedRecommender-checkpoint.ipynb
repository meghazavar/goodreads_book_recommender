{
 "cells": [
  {
   "cell_type": "markdown",
   "metadata": {},
   "source": [
    "<img src=\"../images/content_recommender.png\" alt=\"1\"\n",
    "\ttitle=\"\" width=\"150\" height=\"100\" style=\"float:right;\" >\n",
    "<h4>Content recommender algorithms are given user preferences for items and recommend similar items based on a domain-specific notion of item contenttesting task</h4</img>"
   ]
  },
  {
   "cell_type": "markdown",
   "metadata": {},
   "source": [
    "Compare features of products with the product user liked/purchased.\n",
    "1.Cosine similarites\n",
    "2. K means clustering"
   ]
  },
  {
   "cell_type": "code",
   "execution_count": 72,
   "metadata": {},
   "outputs": [],
   "source": [
    "import pandas as pd\n",
    "import numpy as np\n",
    "from sklearn.feature_extraction.text import TfidfVectorizer\n",
    "from sklearn.metrics.pairwise import cosine_similarity\n",
    "from nltk.stem import WordNetLemmatizer\n",
    "from nltk.stem.porter import PorterStemmer\n",
    "lemmatizer = WordNetLemmatizer()\n",
    "import regex as re"
   ]
  },
  {
   "cell_type": "code",
   "execution_count": 75,
   "metadata": {},
   "outputs": [
    {
     "data": {
      "text/plain": [
       "(9964, 12)"
      ]
     },
     "execution_count": 75,
     "metadata": {},
     "output_type": "execute_result"
    }
   ],
   "source": [
    "ds = pd.read_csv(\"../data/cleaned_books.csv\") \n",
    "ds.shape"
   ]
  },
  {
   "cell_type": "code",
   "execution_count": 76,
   "metadata": {},
   "outputs": [],
   "source": [
    "ds['title_description'] = ds['title'] + \" \" + ds['description']\n",
    "def create_bag_of_words(msg):\n",
    "    #1 remove anything other than alphabets\n",
    "    letters_only = re.sub(\"[^a-zA-Z]\", \" \", msg) # Remove non-letters.\n",
    "    words = letters_only.lower().split()  #Convert to lower case, split into individual words.\n",
    "    ps= PorterStemmer()\n",
    "    base_words =[ps.stem(w) for w  in words] \n",
    "    return(\" \".join(base_words))# 6. Join the words back into one string separated by space, \n",
    "ds['title_description'] = ds['title_description'].apply(create_bag_of_words)"
   ]
  },
  {
   "cell_type": "code",
   "execution_count": 77,
   "metadata": {},
   "outputs": [
    {
     "data": {
      "text/plain": [
       "(9964, 9964)"
      ]
     },
     "execution_count": 77,
     "metadata": {},
     "output_type": "execute_result"
    }
   ],
   "source": [
    "tf = TfidfVectorizer(analyzer='word', ngram_range=(1, 3), min_df=0, stop_words='english')\n",
    "tfidf_matrix = tf.fit_transform(ds['title_description'])\n",
    "cosine_similarities = cosine_similarity(tfidf_matrix,tfidf_matrix)\n",
    "cosine_similarities.shape"
   ]
  },
  {
   "cell_type": "code",
   "execution_count": null,
   "metadata": {},
   "outputs": [],
   "source": [
    "ds.head(1)"
   ]
  },
  {
   "cell_type": "code",
   "execution_count": 84,
   "metadata": {},
   "outputs": [],
   "source": [
    "def search_by_title(title):\n",
    "    return ds.loc[ds['title'].str.lower().str.contains(title),['title','book_id']]\n",
    "\n",
    "def book_title(book_id):\n",
    "    return ds.loc[ds['book_id'] == book_id,'title'].values[0]\n",
    "\n",
    "def build_nlp_content_recommender():\n",
    "    #min_df : ignore terms that have a document frequency strictly lower than the given threshold\n",
    "    tf = TfidfVectorizer(analyzer='word', ngram_range=(1, 2), min_df=0, stop_words='english')\n",
    "    tfidf_matrix = tf.fit_transform(ds['title_description'])\n",
    "    cosine_similarities = cosine_similarity(tfidf_matrix,tfidf_matrix)\n",
    "\n",
    "\n",
    "def recommend_top_books(book_id, ds,cosine_similarities,n=2):\n",
    "    idx =ds.index[ds['book_id'] ==book_id].values[0]\n",
    "    \n",
    "    closet_match_indices = cosine_similarities[idx].argsort()[:-10:-1] #stores 5 most similar books\n",
    "    similar_items = [(np.round(cosine_similarities[idx][i],2), ds['book_id'][i],book_id) for i in closet_match_indices]\n",
    "    print(f\"You may also like to read: \")\n",
    "    for rec in similar_items:\n",
    "        print(f\"-> {rec[2]} {book_title(rec[1])} score: {rec[0]} \")"
   ]
  },
  {
   "cell_type": "code",
   "execution_count": 79,
   "metadata": {},
   "outputs": [],
   "source": [
    "# this takes long time to build similarity matrix\n",
    "results =build_nlp_content_recommender() "
   ]
  },
  {
   "cell_type": "code",
   "execution_count": 85,
   "metadata": {},
   "outputs": [
    {
     "name": "stdout",
     "output_type": "stream",
     "text": [
      "You may also like to read: \n",
      "-> 3275 Harry Potter Boxed Set, Books 1-5 (Harry Potter, #1-5) score: 1.0 \n",
      "-> 3275 Harry Potter and the Order of the Phoenix (Harry Potter, #5, Part 1) score: 0.58 \n",
      "-> 3275 The Harry Potter Collection 1-4 (Harry Potter, #1-4) score: 0.54 \n",
      "-> 3275 Harry Potter Boxset (Harry Potter, #1-7) score: 0.35 \n",
      "-> 3275 Harry Potter and the Goblet of Fire (Harry Potter, #4) score: 0.33 \n",
      "-> 3275 Harry Potter and the Chamber of Secrets: Sheet Music for Flute with C.D score: 0.33 \n",
      "-> 3275 Harry Potter and the Cursed Child - Parts One and Two (Harry Potter, #8) score: 0.32 \n",
      "-> 3275 Harry, a History: The True Story of a Boy Wizard, His Fans, and Life Inside the Harry Potter Phenomenon score: 0.31 \n",
      "-> 3275 Harry Potter and the Chamber of Secrets (Harry Potter, #2) score: 0.31 \n"
     ]
    }
   ],
   "source": [
    "#3275 -Harry Potter Boxed Set, Books 1-5 (Harry Potter, #1-5)score\n",
    "#8084 - Naked Economics: Undressing the Dismal Science\n",
    "#3054 -Harry Potter and the Chamber of Secrets: Sheet Music for Flute with C.Dscore\n",
    "#22\n",
    "recommend_top_books(3275,ds,cosine_similarities,10)"
   ]
  },
  {
   "cell_type": "code",
   "execution_count": 63,
   "metadata": {},
   "outputs": [
    {
     "data": {
      "text/html": [
       "<div>\n",
       "<style scoped>\n",
       "    .dataframe tbody tr th:only-of-type {\n",
       "        vertical-align: middle;\n",
       "    }\n",
       "\n",
       "    .dataframe tbody tr th {\n",
       "        vertical-align: top;\n",
       "    }\n",
       "\n",
       "    .dataframe thead th {\n",
       "        text-align: right;\n",
       "    }\n",
       "</style>\n",
       "<table border=\"1\" class=\"dataframe\">\n",
       "  <thead>\n",
       "    <tr style=\"text-align: right;\">\n",
       "      <th></th>\n",
       "      <th>title</th>\n",
       "      <th>book_id</th>\n",
       "      <th>goodreads_book_id</th>\n",
       "      <th>authors</th>\n",
       "      <th>original_publication_year</th>\n",
       "      <th>language_code</th>\n",
       "      <th>average_rating</th>\n",
       "      <th>ratings_count</th>\n",
       "      <th>description</th>\n",
       "      <th>num_pages</th>\n",
       "      <th>is_ebook</th>\n",
       "      <th>ratings_weight</th>\n",
       "      <th>title_description</th>\n",
       "    </tr>\n",
       "  </thead>\n",
       "  <tbody>\n",
       "    <tr>\n",
       "      <th>4432</th>\n",
       "      <td>Naked Economics: Undressing the Dismal Science</td>\n",
       "      <td>8084</td>\n",
       "      <td>33293</td>\n",
       "      <td>Charles Wheelan</td>\n",
       "      <td>2002.0</td>\n",
       "      <td>NaN</td>\n",
       "      <td>4.0</td>\n",
       "      <td>5646</td>\n",
       "      <td>&lt;em&gt;Naked Economics&lt;/em&gt; makes up for all of t...</td>\n",
       "      <td>288.0</td>\n",
       "      <td>False</td>\n",
       "      <td>&gt;1000</td>\n",
       "      <td>Naked Economics: Undressing the Dismal Science</td>\n",
       "    </tr>\n",
       "  </tbody>\n",
       "</table>\n",
       "</div>"
      ],
      "text/plain": [
       "                                               title  book_id  \\\n",
       "4432  Naked Economics: Undressing the Dismal Science     8084   \n",
       "\n",
       "      goodreads_book_id          authors  original_publication_year  \\\n",
       "4432              33293  Charles Wheelan                     2002.0   \n",
       "\n",
       "     language_code  average_rating  ratings_count  \\\n",
       "4432           NaN             4.0           5646   \n",
       "\n",
       "                                            description  num_pages  is_ebook  \\\n",
       "4432  <em>Naked Economics</em> makes up for all of t...      288.0     False   \n",
       "\n",
       "     ratings_weight                               title_description  \n",
       "4432          >1000  Naked Economics: Undressing the Dismal Science  "
      ]
     },
     "execution_count": 63,
     "metadata": {},
     "output_type": "execute_result"
    }
   ],
   "source": [
    "search_by_title('python')\n",
    "ds[ds['book_id'] ==8084 ]"
   ]
  },
  {
   "cell_type": "code",
   "execution_count": 86,
   "metadata": {},
   "outputs": [],
   "source": [
    "###  K means clustering\n",
    "from sklearn.cluster import KMeans\n",
    "import matplotlib.pyplot as plt\n",
    "import seaborn as sns\n",
    "from sklearn.decomposition import PCA\n",
    "from sklearn.preprocessing import StandardScaler"
   ]
  },
  {
   "cell_type": "code",
   "execution_count": 87,
   "metadata": {},
   "outputs": [],
   "source": [
    "ds['is_ebook'] = ds['is_ebook'].astype(int) "
   ]
  },
  {
   "cell_type": "code",
   "execution_count": 88,
   "metadata": {},
   "outputs": [
    {
     "data": {
      "text/plain": [
       "4642"
      ]
     },
     "execution_count": 88,
     "metadata": {},
     "output_type": "execute_result"
    }
   ],
   "source": [
    "len(ds['authors'].unique())"
   ]
  },
  {
   "cell_type": "code",
   "execution_count": 89,
   "metadata": {},
   "outputs": [],
   "source": [
    "ds['original_publication_year']=ds['original_publication_year'].fillna(0)\n",
    "ds['original_publication_year'].isna().sum()\n",
    "ds['original_publication_year']= ds['original_publication_year'].astype(int)"
   ]
  },
  {
   "cell_type": "code",
   "execution_count": 90,
   "metadata": {},
   "outputs": [],
   "source": [
    "ds['title_description'] = ds['title_description'].replace({\"[^A-Za-z0-9 ]+\": \"\"}, regex=True)"
   ]
  },
  {
   "cell_type": "code",
   "execution_count": 93,
   "metadata": {},
   "outputs": [
    {
     "data": {
      "text/plain": [
       "title                           0\n",
       "book_id                         0\n",
       "goodreads_book_id               0\n",
       "authors                         0\n",
       "original_publication_year       0\n",
       "language_code                1071\n",
       "average_rating                  0\n",
       "ratings_count                   0\n",
       "description                     0\n",
       "num_pages                       0\n",
       "is_ebook                        0\n",
       "ratings_weight                  0\n",
       "title_description               0\n",
       "dtype: int64"
      ]
     },
     "execution_count": 93,
     "metadata": {},
     "output_type": "execute_result"
    }
   ],
   "source": [
    "ds.isna().sum()"
   ]
  },
  {
   "cell_type": "code",
   "execution_count": 92,
   "metadata": {},
   "outputs": [],
   "source": [
    "col_list =['num_pages', 'is_ebook', 'original_publication_year','average_rating']\n",
    "X = ds.loc[:, col_list]\n",
    "sc = StandardScaler()\n",
    "X_sc = sc.fit_transform(X)"
   ]
  },
  {
   "cell_type": "code",
   "execution_count": 94,
   "metadata": {},
   "outputs": [],
   "source": [
    "df = pd.DataFrame(X, columns= col_list)\n",
    "\n",
    "kmeans = KMeans(n_clusters=3)\n",
    "\n",
    "y = kmeans.fit_predict(X_sc)\n",
    "\n",
    "df['Cluster'] = y"
   ]
  },
  {
   "cell_type": "code",
   "execution_count": 95,
   "metadata": {},
   "outputs": [
    {
     "data": {
      "text/plain": [
       "0    9277\n",
       "1     629\n",
       "2      58\n",
       "Name: Cluster, dtype: int64"
      ]
     },
     "execution_count": 95,
     "metadata": {},
     "output_type": "execute_result"
    }
   ],
   "source": [
    "df['Cluster'].value_counts()"
   ]
  },
  {
   "cell_type": "code",
   "execution_count": 96,
   "metadata": {},
   "outputs": [
    {
     "data": {
      "text/plain": [
       "(array([[  0.017831  ,  -0.26001838,   0.06486782,  -0.01972745],\n",
       "        [ -0.24125042,   3.84588198,   0.18658096,   0.27874731],\n",
       "        [ -0.23571885,  -0.11843561, -12.39893459,   0.13240494]]),\n",
       " array([0, 0, 0, ..., 0, 0, 0], dtype=int32))"
      ]
     },
     "execution_count": 96,
     "metadata": {},
     "output_type": "execute_result"
    }
   ],
   "source": [
    "# Check out centroids\n",
    "kmeans.cluster_centers_,kmeans.labels_"
   ]
  },
  {
   "cell_type": "markdown",
   "metadata": {},
   "source": [
    "### elbow method to determine the optimal number of clusters for k-means clustering"
   ]
  },
  {
   "cell_type": "code",
   "execution_count": 97,
   "metadata": {},
   "outputs": [],
   "source": [
    "#Inertia - sum of squared errors for each cluster.\n",
    "#low inertia = dense cluster\n",
    "\n",
    "#silhoutte score -measure of how far apart clusters are\n",
    "#high Silhouette = clusters are well separated\n",
    "scores = []\n",
    "for k in range(2, 31):\n",
    "    cl = KMeans(n_clusters=k)\n",
    "    cl.fit(X_sc)\n",
    "    inertia = cl.inertia_  #\n",
    "    sil = silhouette_score(X_sc, cl.labels_)\n",
    "    scores.append([k, inertia, sil])\n",
    "    \n",
    "score_df = pd.DataFrame(scores)\n",
    "score_df.columns = ['k', 'inertia', 'silhouette']"
   ]
  },
  {
   "cell_type": "code",
   "execution_count": 98,
   "metadata": {},
   "outputs": [
    {
     "data": {
      "text/html": [
       "<div>\n",
       "<style scoped>\n",
       "    .dataframe tbody tr th:only-of-type {\n",
       "        vertical-align: middle;\n",
       "    }\n",
       "\n",
       "    .dataframe tbody tr th {\n",
       "        vertical-align: top;\n",
       "    }\n",
       "\n",
       "    .dataframe thead th {\n",
       "        text-align: right;\n",
       "    }\n",
       "</style>\n",
       "<table border=\"1\" class=\"dataframe\">\n",
       "  <thead>\n",
       "    <tr style=\"text-align: right;\">\n",
       "      <th></th>\n",
       "      <th>k</th>\n",
       "      <th>inertia</th>\n",
       "      <th>silhouette</th>\n",
       "    </tr>\n",
       "  </thead>\n",
       "  <tbody>\n",
       "    <tr>\n",
       "      <th>0</th>\n",
       "      <td>2</td>\n",
       "      <td>29783.824064</td>\n",
       "      <td>0.623431</td>\n",
       "    </tr>\n",
       "    <tr>\n",
       "      <th>1</th>\n",
       "      <td>3</td>\n",
       "      <td>20850.791845</td>\n",
       "      <td>0.639402</td>\n",
       "    </tr>\n",
       "    <tr>\n",
       "      <th>2</th>\n",
       "      <td>4</td>\n",
       "      <td>15035.384777</td>\n",
       "      <td>0.349633</td>\n",
       "    </tr>\n",
       "    <tr>\n",
       "      <th>3</th>\n",
       "      <td>5</td>\n",
       "      <td>11345.692173</td>\n",
       "      <td>0.379803</td>\n",
       "    </tr>\n",
       "    <tr>\n",
       "      <th>4</th>\n",
       "      <td>6</td>\n",
       "      <td>9650.089869</td>\n",
       "      <td>0.335362</td>\n",
       "    </tr>\n",
       "    <tr>\n",
       "      <th>5</th>\n",
       "      <td>7</td>\n",
       "      <td>8355.403691</td>\n",
       "      <td>0.332062</td>\n",
       "    </tr>\n",
       "    <tr>\n",
       "      <th>6</th>\n",
       "      <td>8</td>\n",
       "      <td>7203.934150</td>\n",
       "      <td>0.339904</td>\n",
       "    </tr>\n",
       "    <tr>\n",
       "      <th>7</th>\n",
       "      <td>9</td>\n",
       "      <td>6522.652742</td>\n",
       "      <td>0.326602</td>\n",
       "    </tr>\n",
       "    <tr>\n",
       "      <th>8</th>\n",
       "      <td>10</td>\n",
       "      <td>6022.335274</td>\n",
       "      <td>0.319017</td>\n",
       "    </tr>\n",
       "    <tr>\n",
       "      <th>9</th>\n",
       "      <td>11</td>\n",
       "      <td>5580.458515</td>\n",
       "      <td>0.325594</td>\n",
       "    </tr>\n",
       "  </tbody>\n",
       "</table>\n",
       "</div>"
      ],
      "text/plain": [
       "    k       inertia  silhouette\n",
       "0   2  29783.824064    0.623431\n",
       "1   3  20850.791845    0.639402\n",
       "2   4  15035.384777    0.349633\n",
       "3   5  11345.692173    0.379803\n",
       "4   6   9650.089869    0.335362\n",
       "5   7   8355.403691    0.332062\n",
       "6   8   7203.934150    0.339904\n",
       "7   9   6522.652742    0.326602\n",
       "8  10   6022.335274    0.319017\n",
       "9  11   5580.458515    0.325594"
      ]
     },
     "execution_count": 98,
     "metadata": {},
     "output_type": "execute_result"
    }
   ],
   "source": [
    "score_df.head(10)"
   ]
  },
  {
   "cell_type": "code",
   "execution_count": 99,
   "metadata": {},
   "outputs": [
    {
     "data": {
      "text/plain": [
       "Text(0.5, 1.0, 'Silhouette Score over k')"
      ]
     },
     "execution_count": 99,
     "metadata": {},
     "output_type": "execute_result"
    },
    {
     "data": {
      "image/png": "[encoded data removed]",
      "text/plain": [
       "<Figure size 1008x504 with 2 Axes>"
      ]
     },
     "metadata": {
      "needs_background": "light"
     },
     "output_type": "display_data"
    }
   ],
   "source": [
    "fig, axes = plt.subplots(1, 2, figsize=(14, 7))\n",
    "axes[0].plot(score_df.k, score_df.inertia)\n",
    "axes[0].set_title('Inertia over k')\n",
    "axes[1].plot(score_df.k, score_df.silhouette);\n",
    "axes[1].set_title('Silhouette Score over k')"
   ]
  },
  {
   "cell_type": "markdown",
   "metadata": {},
   "source": [
    " Notice how the elbow chart does not have a clear elbow. Instead, we see a fairly smooth curve, and it's unclear what is the best value of k to choose. In cases like this, we might try a different method for determining the optimal k, such as computing silhouette scores, or we might reevaluate whether clustering is the right thing to do on our data."
   ]
  },
  {
   "cell_type": "code",
   "execution_count": 100,
   "metadata": {},
   "outputs": [
    {
     "data": {
      "image/png": "[encoded data removed]",
      "text/plain": [
       "<Figure size 432x288 with 1 Axes>"
      ]
     },
     "metadata": {
      "needs_background": "light"
     },
     "output_type": "display_data"
    }
   ],
   "source": [
    "reduced_data = PCA(n_components=2).fit_transform(X_sc)\n",
    "results = pd.DataFrame(reduced_data,columns=['pca1','pca2'])\n",
    "\n",
    "sns.scatterplot(x=\"pca1\", y=\"pca2\", hue=df['Cluster'], data=results)\n",
    "plt.title('K-means Clustering with 2 dimensions')\n",
    "plt.show()"
   ]
  },
  {
   "cell_type": "code",
   "execution_count": 101,
   "metadata": {},
   "outputs": [],
   "source": [
    "tf = TfidfVectorizer(analyzer='word', ngram_range=(1, 2), min_df=0, stop_words='english')\n",
    "tfidf_matrix = tf.fit_transform(ds['title_description'])\n",
    "sc = StandardScaler()\n",
    "X_sc = sc.fit_transform(X)"
   ]
  },
  {
   "cell_type": "code",
   "execution_count": 102,
   "metadata": {},
   "outputs": [],
   "source": [
    "#Choosing k = 5\n",
    "kmeans = KMeans(n_clusters=5)\n",
    "y = kmeans.fit_predict(X_sc)\n",
    "df['Cluster'] = y"
   ]
  },
  {
   "cell_type": "code",
   "execution_count": 103,
   "metadata": {},
   "outputs": [
    {
     "data": {
      "text/plain": [
       "3    4814\n",
       "4    3729\n",
       "0     739\n",
       "1     625\n",
       "2      57\n",
       "Name: Cluster, dtype: int64"
      ]
     },
     "execution_count": 103,
     "metadata": {},
     "output_type": "execute_result"
    }
   ],
   "source": [
    "df['Cluster'].value_counts()"
   ]
  },
  {
   "cell_type": "code",
   "execution_count": 104,
   "metadata": {},
   "outputs": [
    {
     "data": {
      "image/png": "[encoded data removed]",
      "text/plain": [
       "<Figure size 432x288 with 1 Axes>"
      ]
     },
     "metadata": {
      "needs_background": "light"
     },
     "output_type": "display_data"
    }
   ],
   "source": [
    "reduced_data = PCA(n_components=2).fit_transform(X_sc)\n",
    "results = pd.DataFrame(reduced_data,columns=['pca1','pca2'])\n",
    "\n",
    "sns.scatterplot(x=\"pca1\", y=\"pca2\", hue=df['Cluster'], data=results)\n",
    "plt.title('K-means Clustering with 2 dimensions')\n",
    "plt.show()"
   ]
  },
  {
   "cell_type": "code",
   "execution_count": null,
   "metadata": {},
   "outputs": [],
   "source": []
  },
  {
   "cell_type": "code",
   "execution_count": 349,
   "metadata": {},
   "outputs": [],
   "source": [
    "#https://datascience.stackexchange.com/questions/48693/perform-k-means-clustering-over-multiple-columns\n",
    "https://www.kaggle.com/zygmunt/goodbooks-10k#tags.csv\n",
    "\n",
    "https://www.kdnuggets.com/2019/11/content-based-recommender-using-natural-language-processing-nlp.html\n",
    "\n",
    "\n",
    "https://towardsdatascience.com/how-to-build-from-scratch-a-content-based-movie-recommender-with-natural-language-processing-25ad400eb243\n",
    "\n",
    "https://towardsdatascience.com/my-journey-to-building-book-recommendation-system-5ec959c41847\n",
    "\n",
    "\n",
    "https://www.linkedin.com/pulse/content-based-recommender-engine-under-hood-venkat-raman/"
   ]
  },
  {
   "cell_type": "code",
   "execution_count": null,
   "metadata": {},
   "outputs": [],
   "source": []
  }
 ],
 "metadata": {
  "kernelspec": {
   "display_name": "Python 3",
   "language": "python",
   "name": "python3"
  },
  "language_info": {
   "codemirror_mode": {
    "name": "ipython",
    "version": 3
   },
   "file_extension": ".py",
   "mimetype": "text/x-python",
   "name": "python",
   "nbconvert_exporter": "python",
   "pygments_lexer": "ipython3",
   "version": "3.7.4"
  }
 },
 "nbformat": 4,
 "nbformat_minor": 2
}
