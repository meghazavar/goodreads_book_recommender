{
 "cells": [
  {
   "cell_type": "markdown",
   "metadata": {},
   "source": [
    "# 1 . Problem statement\n",
    "\n",
    "The goal of this project was to explore and understand various approaches in  building a reommender systems and\n",
    "build a bood recommender engine using data aboud books and ratings and user preferences and other factors."
   ]
  },
  {
   "cell_type": "markdown",
   "metadata": {},
   "source": [
    "# 2. Data Collection\n",
    "\n",
    "## About original data\n",
    "My primary  books data set was inspired and adapted from [Kaggle](https://github.com/zygmuntz/goodbooks-10k) from zygmuntz.\n",
    "The dataset has 10k books and over five million ratings from 50k users or so.\n",
    "The data also had user defined tags.\n",
    "The books were  not latest  in 2020 and the newest books were published in 2017.\n",
    "\n",
    "\n",
    "## Adaptations to data\n",
    "The data was collected from GoodReads -  I decided to make few additions to the existing data to get\n",
    "* description , \n",
    "* number of pages and \n",
    "* if the book was e-book ,\n",
    "using the (Goodreads Python package)[https://pypi.org/project/Goodreads/] , which  provides a Python interface for the Goodreads API. Using it, you can do pretty much anything that Goodreads allows to do with their own data.\n",
    "\n",
    "At later phase in the project  I decided to pull newer books using topic, title etc to add more recent books to the collection.\n",
    "The Data collection work was organized is  [Jupyter Notebook](https://github.com/meghazavar/goodreads_book_recommender/blob/master/code/goodreads_data_gathering.ipynb) and  a [supporting python class](https://github.com/meghazavar/goodreads_book_recommender/blob/master/code/goodreads_data_gather.py)\n",
    "\n",
    "\n",
    "## Additional data collection\n",
    "For building 'knowledge based' recommender, I needed to collect the user preferences and incorporate them in to the model.\n",
    "For that purpose I designed a google survery to accept handful of data about user's reading habbits and integrated with Pandas dataframe so they could be pulled  directly for analysis. The work is organized  in  (survery)[https://forms.gle/PaGdtau71CEePde86] and [jupyter notebook](https://github.com/meghazavar/goodreads_book_recommender/blob/master/code/gather_book_data_google_survey.ipynb)"
   ]
  },
  {
   "cell_type": "markdown",
   "metadata": {},
   "source": [
    "# 3. EDA"
   ]
  },
  {
   "cell_type": "markdown",
   "metadata": {},
   "source": [
    "## 3.1 Data cleaning   \n",
    "\n",
    "This involved following  and work is organized under the [jupyter notebook](http://localhost:8888/notebooks/ga/projects/goodreads_book_recommender/code/goodreads_data_gathering.ipynb)\n",
    "* removing unused fields like  text review counts ,isbn3 , individual rating count, original_title\n",
    "* filling in  description for handful of fields as \n",
    "* converting publishing year to numeric and also  cukding them by decade\n",
    "* Genre were cleaned to combine  in to smaller range of borader genre.\n",
    "* duplicate titles were deduped  \n",
    "* as most of the books are in  english , categoried them as english and other for  further anlysis\n",
    "* deleted the records with **NO** ratings\n",
    "\n",
    "## 3.2 Data dictionary "
   ]
  },
  {
   "cell_type": "markdown",
   "metadata": {},
   "source": [
    "### Books\n",
    "|column   |type   | description  |\n",
    "|---|---|---|\n",
    "|  bookID | int64  |  book dequence identifier | \n",
    "|  goodreads_book_id | int64  |  book  identifier for 'goodreads' API | \n",
    "|  title | object  |  Title of the book | \n",
    "|  authors | object  | Authors of the book  | \n",
    "|  is_ebook |  object | if the book is digital or printed  | \n",
    "|  description| object  | A short description about the book content  |  \n",
    "|  language_code | object  | primary language of the book  |\n",
    "| num_pages  | object  ||Number of pages the book contains   |\n",
    "| ratings_count  | int64 |Total number of ratings book received   |\n",
    "| text_reviews_count  | int64  |  total number of written text reviews book received | \n",
    "|average_rating |object | average rating of the book |"
   ]
  },
  {
   "cell_type": "markdown",
   "metadata": {},
   "source": [
    "### Ratings\n",
    "|column   |type   | description  |\n",
    "|---|---|---|\n",
    "|  bookID | int64  |  book dequence identifier | \n",
    "|  user_id | int64  | 'goodreads' API  user identifier| \n",
    "|  rating | object  |  rating for the book by the user  on scale of 0-5 | "
   ]
  },
  {
   "cell_type": "markdown",
   "metadata": {},
   "source": [
    "\n",
    "### book_Genre\n",
    "|column   |type   | description  |\n",
    "|---|---|---|\n",
    "|  goodreads_book_id | int64  |  book  identifier for 'goodreads' API | \n",
    "|  tag_name | int64  | genre or userdefined tag for the book| \n",
    "\n",
    "Note : A book can have multiple tags associated with it, while not ideal  sometimes a boot has over 100s of tags associated with it.\n",
    "\n",
    "Alot of time was spent in cosolidating the tags where it made sense but it  has been an ongoing effort and due to limited time  I had to timebox this effort."
   ]
  },
  {
   "cell_type": "markdown",
   "metadata": {},
   "source": [
    "## 3.3  Data Exploration\n",
    "\n",
    "As part exploring dataset following are some of the questions that I explored "
   ]
  },
  {
   "cell_type": "markdown",
   "metadata": {},
   "source": [
    "### Average length of books?"
   ]
  },
  {
   "cell_type": "code",
   "execution_count": 6,
   "metadata": {},
   "outputs": [],
   "source": [
    "#Most Books are 150-400 pages\n",
    "#< todo : paste the  chart>"
   ]
  },
  {
   "cell_type": "markdown",
   "metadata": {},
   "source": [
    "### Do we have enough book ratings?\n",
    "\n",
    "All the books had  atleast 1000 ratings making is really good  candidate for  collaborative  filter based model,\n",
    "where  the recommendation is mainly powered as a results of rating from the the other similar users\n",
    "< todo : paste the  chart>"
   ]
  },
  {
   "cell_type": "markdown",
   "metadata": {},
   "source": [
    "### Averating rating distribution\n",
    "\n",
    "<img src=\"../images/book_rating_distribution.png\"> Averating rating distribution</img>"
   ]
  },
  {
   "cell_type": "markdown",
   "metadata": {},
   "source": [
    "# Modeling"
   ]
  },
  {
   "cell_type": "markdown",
   "metadata": {},
   "source": [
    "## Non personalized Recommender"
   ]
  },
  {
   "cell_type": "markdown",
   "metadata": {},
   "source": [
    "## Personalized Recommenders"
   ]
  },
  {
   "cell_type": "markdown",
   "metadata": {},
   "source": [
    "### Content based Recommender"
   ]
  },
  {
   "cell_type": "markdown",
   "metadata": {},
   "source": [
    "### Collaborative based Recommender"
   ]
  },
  {
   "cell_type": "markdown",
   "metadata": {},
   "source": [
    "# Evaluation"
   ]
  },
  {
   "cell_type": "markdown",
   "metadata": {},
   "source": [
    "# Answer the problem"
   ]
  },
  {
   "cell_type": "code",
   "execution_count": null,
   "metadata": {},
   "outputs": [],
   "source": []
  }
 ],
 "metadata": {
  "kernelspec": {
   "display_name": "Python 3",
   "language": "python",
   "name": "python3"
  },
  "language_info": {
   "codemirror_mode": {
    "name": "ipython",
    "version": 3
   },
   "file_extension": ".py",
   "mimetype": "text/x-python",
   "name": "python",
   "nbconvert_exporter": "python",
   "pygments_lexer": "ipython3",
   "version": "3.7.4"
  }
 },
 "nbformat": 4,
 "nbformat_minor": 2
}
