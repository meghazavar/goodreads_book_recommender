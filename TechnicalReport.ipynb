{
 "cells": [
  {
   "cell_type": "markdown",
   "metadata": {},
   "source": [
    "# Problem statement\n",
    "\n",
    "The goal of this project was to explore and understand various approaches in  building a reommender systems and\n",
    "build a bood recommender engine using data aboud books and ratings and user preferences and other factors."
   ]
  },
  {
   "cell_type": "markdown",
   "metadata": {},
   "source": [
    "# Data Collection\n",
    "\n",
    "## About original data\n",
    "My primary  books data set was inspired and adapted from [Kaggle](https://github.com/zygmuntz/goodbooks-10k) from zygmuntz.\n",
    "The dataset has 10k books and over five million ratings from 50k users or so.\n",
    "The data also had user defined tags.\n",
    "The books were  not latest  in 2020 and the newest books were published in 2017.\n",
    "\n",
    "\n",
    "## Adaptations to data\n",
    "The data was collected from GoodReads -  I decided to make few additions to the existing data to get\n",
    "* description , \n",
    "* number of pages and \n",
    "* if the book was e-book ,\n",
    "using the (Goodreads Python package)[https://pypi.org/project/Goodreads/] , which  provides a Python interface for the Goodreads API. Using it, you can do pretty much anything that Goodreads allows to do with their own data.\n",
    "\n",
    "At later phase in the project  I decided to pull newer books using topic, title etc to add more recent books to the collection.\n",
    "The Data collection work was organized is  [Jupyter Notebook](https://github.com/meghazavar/goodreads_book_recommender/blob/master/code/goodreads_data_gathering.ipynb) and  a [supporting python class](https://github.com/meghazavar/goodreads_book_recommender/blob/master/code/goodreads_data_gather.py)\n",
    "\n",
    "\n",
    "## Additional data collection\n",
    "\n",
    "\n",
    "\n"
   ]
  },
  {
   "cell_type": "markdown",
   "metadata": {},
   "source": [
    "# EDA"
   ]
  },
  {
   "cell_type": "markdown",
   "metadata": {},
   "source": [
    "# Modeling"
   ]
  },
  {
   "cell_type": "markdown",
   "metadata": {},
   "source": [
    "## Non personalized Recommender"
   ]
  },
  {
   "cell_type": "markdown",
   "metadata": {},
   "source": [
    "## Personalized Recommenders"
   ]
  },
  {
   "cell_type": "markdown",
   "metadata": {},
   "source": [
    "### Content based Recommender"
   ]
  },
  {
   "cell_type": "markdown",
   "metadata": {},
   "source": [
    "### Collaborative based Recommender"
   ]
  },
  {
   "cell_type": "markdown",
   "metadata": {},
   "source": [
    "# Evaluation"
   ]
  },
  {
   "cell_type": "markdown",
   "metadata": {},
   "source": [
    "# Answer the problem"
   ]
  },
  {
   "cell_type": "code",
   "execution_count": null,
   "metadata": {},
   "outputs": [],
   "source": []
  }
 ],
 "metadata": {
  "kernelspec": {
   "display_name": "Python 3",
   "language": "python",
   "name": "python3"
  },
  "language_info": {
   "codemirror_mode": {
    "name": "ipython",
    "version": 3
   },
   "file_extension": ".py",
   "mimetype": "text/x-python",
   "name": "python",
   "nbconvert_exporter": "python",
   "pygments_lexer": "ipython3",
   "version": "3.7.4"
  }
 },
 "nbformat": 4,
 "nbformat_minor": 2
}
