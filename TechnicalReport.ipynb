{
 "cells": [
  {
   "cell_type": "markdown",
   "metadata": {},
   "source": [
    "# 1 . Problem statement\n",
    "\n",
    "The goal of this project was to explore and understand various approaches in  building a reommender systems and\n",
    "build a book recommender engine using data aboud books and ratings and user preferences and other factors."
   ]
  },
  {
   "cell_type": "markdown",
   "metadata": {},
   "source": [
    "# 2. Data Collection\n",
    "\n",
    "## About original data\n",
    "My primary  books data set was inspired and adapted from [Kaggle](https://github.com/zygmuntz/goodbooks-10k) from zygmuntz.\n",
    "The dataset has 10k books and over five million ratings from 50k users or so.\n",
    "The data also had user defined tags.\n",
    "The books were  not latest  in 2020 and the newest books were published in 2017.\n",
    "\n",
    "\n",
    "## Adaptations to data\n",
    "The data was collected from GoodReads -  I decided to make few additions to the existing data to get\n",
    "* description , \n",
    "* number of pages and \n",
    "* if the book was e-book ,\n",
    "using the (Goodreads Python package)[https://pypi.org/project/Goodreads/] , which  provides a Python interface for the Goodreads API. Using it, you can do pretty much anything that Goodreads allows to do with their own data.\n",
    "\n",
    "At later phase in the project  I decided to pull newer books using topic, title etc to add more recent books to the collection.\n",
    "The Data collection work was organized is  [Jupyter Notebook](https://github.com/meghazavar/goodreads_book_recommender/blob/master/code/goodreads_data_gathering.ipynb) and  a [supporting python class](https://github.com/meghazavar/goodreads_book_recommender/blob/master/code/goodreads_data_gather.py)\n",
    "\n",
    "\n",
    "## Additional data collection\n",
    "For building 'knowledge based' recommender, I needed to collect the user preferences and incorporate them in to the model.\n",
    "For that purpose I designed a google survery to accept handful of data about user's reading habbits and integrated with Pandas dataframe so they could be pulled  directly for analysis. The work is organized  in  (survery)[https://forms.gle/PaGdtau71CEePde86] and [jupyter notebook](https://github.com/meghazavar/goodreads_book_recommender/blob/master/code/gather_book_data_google_survey.ipynb)"
   ]
  },
  {
   "cell_type": "markdown",
   "metadata": {},
   "source": [
    "# 3. EDA"
   ]
  },
  {
   "cell_type": "markdown",
   "metadata": {},
   "source": [
    "## 3.1 Data cleaning   \n",
    "\n",
    "This involved following  and work is organized under the [jupyter notebook](http://localhost:8888/notebooks/ga/projects/goodreads_book_recommender/code/goodreads_data_gathering.ipynb)\n",
    "* removing unused fields like  text review counts ,isbn3 , individual rating count, original_title\n",
    "* filling in  description for handful of fields as \n",
    "* converting publishing year to numeric and also  cukding them by decade\n",
    "* Genre were cleaned to combine  in to smaller range of borader genre.\n",
    "* duplicate titles were deduped  \n",
    "* as most of the books are in  english , categoried them as english and other for  further anlysis\n",
    "* deleted the records with **NO** ratings\n",
    "\n",
    "## 3.2 Data dictionary "
   ]
  },
  {
   "cell_type": "markdown",
   "metadata": {},
   "source": [
    "### Books\n",
    "|column   |type   | description  |\n",
    "|---|---|---|\n",
    "|  bookID | int64  |  book dequence identifier | \n",
    "|  goodreads_book_id | int64  |  book  identifier for 'goodreads' API | \n",
    "|  title | object  |  Title of the book | \n",
    "|  authors | object  | Authors of the book  | \n",
    "|  is_ebook |  object | if the book is digital or printed  | \n",
    "|  description| object  | A short description about the book content  |  \n",
    "|  language_code | object  | primary language of the book  |\n",
    "| num_pages  | object  ||Number of pages the book contains   |\n",
    "| ratings_count  | int64 |Total number of ratings book received   |\n",
    "| text_reviews_count  | int64  |  total number of written text reviews book received | \n",
    "|average_rating |object | average rating of the book |"
   ]
  },
  {
   "cell_type": "markdown",
   "metadata": {},
   "source": [
    "### Ratings\n",
    "|column   |type   | description  |\n",
    "|---|---|---|\n",
    "|  bookID | int64  |  book dequence identifier | \n",
    "|  user_id | int64  | 'goodreads' API  user identifier| \n",
    "|  rating | object  |  rating for the book by the user  on scale of 0-5 | "
   ]
  },
  {
   "cell_type": "markdown",
   "metadata": {},
   "source": [
    "\n",
    "### book_Genre\n",
    "|column   |type   | description  |\n",
    "|---|---|---|\n",
    "|  goodreads_book_id | int64  |  book  identifier for 'goodreads' API | \n",
    "|  tag_name | int64  | genre or userdefined tag for the book| \n",
    "\n",
    "Note : A book can have multiple tags associated with it, while not ideal  sometimes a boot has over 100s of tags associated with it.\n",
    "\n",
    "Alot of time was spent in cosolidating the tags where it made sense but it  has been an ongoing effort and due to limited time  I had to timebox this effort."
   ]
  },
  {
   "cell_type": "markdown",
   "metadata": {},
   "source": [
    "## 3.3  Data Exploration\n",
    "\n",
    "As part exploring dataset following are some of the questions that I explored "
   ]
  },
  {
   "cell_type": "markdown",
   "metadata": {},
   "source": [
    "### Average length of books?"
   ]
  },
  {
   "cell_type": "code",
   "execution_count": 6,
   "metadata": {},
   "outputs": [],
   "source": [
    "#Most Books are 150-400 pages\n",
    "#< todo : paste the  chart>"
   ]
  },
  {
   "cell_type": "markdown",
   "metadata": {},
   "source": [
    "### Are book ratings enough?\n",
    "\n",
    "All the books had  atleast 1000 ratings making is really good  candidate for  collaborative  filter based model,\n",
    "where  the recommendation is mainly powered as a results of rating from the the other similar users\n",
    "< todo : paste the  chart>"
   ]
  },
  {
   "cell_type": "markdown",
   "metadata": {},
   "source": [
    "### Rating distribution\n",
    "\n",
    "<img src=\"images/book_rating_distribution.png\"> Averating rating distribution</img>"
   ]
  },
  {
   "cell_type": "markdown",
   "metadata": {},
   "source": [
    "### People tend to rate book when they like book than when they dont\n",
    "\n",
    "It was interesting to see the bias that books with highr ratings are also have better ratings. I think this can be used as input to the 'Non personalised' recommder to  bring the top recommendations form the community\n",
    "\n",
    "<img src =\"images/rate_when_you_like.png\"> </img>"
   ]
  },
  {
   "cell_type": "code",
   "execution_count": null,
   "metadata": {},
   "outputs": [],
   "source": [
    "### Do books have ratings from multiple users?"
   ]
  },
  {
   "cell_type": "code",
   "execution_count": null,
   "metadata": {},
   "outputs": [],
   "source": [
    "### how many users have rated more than 1 book?"
   ]
  },
  {
   "cell_type": "markdown",
   "metadata": {},
   "source": [
    "###  Best selling authors\n",
    "(Authors with highest number of ratings - assuming that person who rated perhaps bought the books)"
   ]
  },
  {
   "cell_type": "markdown",
   "metadata": {},
   "source": [
    "### todo. include chart"
   ]
  },
  {
   "cell_type": "markdown",
   "metadata": {},
   "source": [
    "# 4. Modeling\n",
    "Recommenders try to narrow down choices for people by presenting them with suggestions that they are most likely to buy or use.With a constantly increasing amount of content on the internet,filtering algorithms are now more relevant than ever. There areseveral different methods of providing this type of filtering.\n",
    "At high level recomemnders can be devided in following 4 categories:"
   ]
  },
  {
   "cell_type": "markdown",
   "metadata": {},
   "source": [
    "## 4.1 Non Personalized Recommender\n",
    "The Level of personalization is none. The recommendations are made using the wisom of community.\n",
    "The non-personalised recommender are based on the premise that humans are flock animals and curious about community opinions. These are simple to build , requires no user information and can be great for anonymous users or when no user data is available.\n",
    "\n",
    "\n",
    "Typically some kind of summary statistics is used to make the recommendation. Other times external factors can be fed in to the system to make recommendations. \n",
    "I decided  to build  non-personalised recommnder using  3 Criterias as below . The work is organized in the [juputer notebook]()"
   ]
  },
  {
   "cell_type": "markdown",
   "metadata": {},
   "source": [
    "###  4.1.1. Top 20 highly rated  books\n",
    "<img src =\"images/top_20_highest_rated.png\" />"
   ]
  },
  {
   "cell_type": "markdown",
   "metadata": {},
   "source": [
    "###  4.1.2 Top five best rated  books by genre\n",
    "<img src =\"images/top_5_best_rated_by_genre.png\">"
   ]
  },
  {
   "cell_type": "markdown",
   "metadata": {},
   "source": [
    "###  4.1.3 Recommendation based on  current  news\n",
    "\n",
    "I wanted  to build a scraper to get top  5 events to determine the books,\n",
    "\n",
    "I used the http://redditlist.com/ lists for fastest growing subreddits in last 24h or the most active subreddits for last 24h.I also notice that You tube feed contents and news were  focused around  coroo virus.\n",
    "As it turns out Corono Virus  news is  probably  the highest on  everyone's mind.\n",
    "Note : I manually used  gnerated this based on research , and was not successful able to scrape the page. (\n",
    "\n",
    "I think following the trend It would relevant to  recommend books on this topic. As the data set was old - I had to rerun the data collection module for this topic to gather books on the topic.\n"
   ]
  },
  {
   "cell_type": "code",
   "execution_count": null,
   "metadata": {},
   "outputs": [],
   "source": [
    "### TOP 5 best rated  books on COVID -19"
   ]
  },
  {
   "cell_type": "markdown",
   "metadata": {},
   "source": [
    "## Personalized Recommenders:\n",
    "These recommenders are fundamnetally based on some form of data that is genarted as a result of user-item interaction which typically is  some kind of rating a ordinal number  or a review which can be positive negative or neutral.\n",
    "They can be  further categoried as "
   ]
  },
  {
   "cell_type": "markdown",
   "metadata": {},
   "source": [
    "### Collaborative based Recommender (user based)\n",
    "Collaborative filtering relies on the  on the concept that similar users like similar things\n",
    "of the more commonly used are user based .  A user profile is generated  by comparing the ratings of the user with other users for the same product and based the \"similarity\" between the users , the books from  users with similar tasteare recommended that this user may not have used so far."
   ]
  },
  {
   "cell_type": "markdown",
   "metadata": {},
   "source": [
    "#### Item Based Collaborative Filtering (IB-CF) \n",
    "Recommendation based on calculating similarties of two items based on peoples rating of two items.\n",
    "\n",
    "This was adapted from GA recommender lesson. I primarily used the datframe ratings which has three columns,\n",
    "book_id , user_id and rating for the book by the user id.\n",
    "\n",
    "Note : given that we have 10K books rated by 50k users, it is very likely that books have ratings from multiple users.\n",
    "This helps in finding \"Similar books\"\n",
    "\n",
    "\n",
    "1. book-book matrix  was created where  rows were individual books and columns were books ,\n",
    "the value in corresponding cell (Bi,Bj) represented the similarity between  book i and bookj.\n",
    "\n",
    "The Similarity  is a score beween 0 to 1 and is detemined using the metric \"Pairwise distance\" which in turn is based off Cosine similarity.\n",
    "The score is determines using the priciple that Similar vectors have same direction where the direction is determined is using rating as an angle.\n",
    "The pairwise distance is smaller between similar items and as the distance increases the items are less similar.\n",
    "\n",
    "\n",
    "So for example\n",
    "         \n",
    "||Matt|Amy |Charlie|Rob| Bob| Rita |\n",
    "|---|---|---|---|---|---|---|\n",
    "||book1| 5  |  5    | 3 |  1  |  ?  |\n",
    "||book2| ?  |   2   | 3 |  3  |  4  |\n",
    "||book3|5   |  4    |   |  1  |  5  |\n",
    "\n",
    "\n",
    "in order to find similarity between. Book 1 and Book 2\n",
    "Cosine(Book1, Book2)\n",
    "\n",
    "v1 =  5 C + 3 R + 1 B\n",
    "\n",
    "v2 = 2 C + 3 R + 3 B\n",
    "\n",
    "Therefore Cosine Similarity between movies book1 and book2 is  for Amy:\n",
    "cos(v1,v2) = (5*2 + 3*3 + 1*3) / sqrt[(25+9+1) * (4+9+9)] = 0.792\n",
    "\n",
    "With cosine similarity of higher means closer. so AMY might like it.\n",
    "\n",
    "\n"
   ]
  },
  {
   "cell_type": "markdown",
   "metadata": {},
   "source": [
    "#### User Based Collaborative Filtering (UB-CF) : Recommendations based on the calculating similarities of two users"
   ]
  },
  {
   "cell_type": "markdown",
   "metadata": {},
   "source": [
    "### Content based Recommender (item based)\n",
    "\n",
    "Item based (content based ) where User's past purchase history or acvivity is user to create a user profile against the  features of the product and  product recommendations are generated based on product with similar features that user prefer. The work is organized in [jupyter notebook](https://github.com/meghazavar/goodreads_book_recommender/blob/master/code/CollaborativeItemBasedRecommender.ipynb)"
   ]
  },
  {
   "cell_type": "code",
   "execution_count": null,
   "metadata": {},
   "outputs": [],
   "source": [
    "\n"
   ]
  },
  {
   "cell_type": "markdown",
   "metadata": {},
   "source": [
    "### Knowledge based recommender\n",
    "\n",
    "Suggests products based on inferences about a\n",
    "userʼs needs and preferences\n",
    "! Functional knowledge: about how a particular item\n",
    "meets a particular user need\n",
    "! The user model can be any knowledge structure that\n",
    "supports this inference\n",
    "\" A query, i.e., the set of preferred features for a\n",
    "product\n",
    "\" A case (in a case-based reasoning system)\n",
    "\" An adapted similarity metric (for matching)\n",
    "\" A part of an ontology\n",
    "! There is a large use of domain knowledge\n",
    "encoded in a knowledge representation\n",
    "language/approach. "
   ]
  },
  {
   "cell_type": "code",
   "execution_count": null,
   "metadata": {},
   "outputs": [],
   "source": []
  },
  {
   "cell_type": "markdown",
   "metadata": {},
   "source": [
    "# Evaluation"
   ]
  },
  {
   "cell_type": "markdown",
   "metadata": {},
   "source": [
    "# Answer the problem"
   ]
  },
  {
   "cell_type": "code",
   "execution_count": null,
   "metadata": {},
   "outputs": [],
   "source": []
  },
  {
   "cell_type": "markdown",
   "metadata": {},
   "source": [
    "# Future Ideas"
   ]
  }
 ],
 "metadata": {
  "kernelspec": {
   "display_name": "Python 3",
   "language": "python",
   "name": "python3"
  },
  "language_info": {
   "codemirror_mode": {
    "name": "ipython",
    "version": 3
   },
   "file_extension": ".py",
   "mimetype": "text/x-python",
   "name": "python",
   "nbconvert_exporter": "python",
   "pygments_lexer": "ipython3",
   "version": "3.7.4"
  }
 },
 "nbformat": 4,
 "nbformat_minor": 2
}
